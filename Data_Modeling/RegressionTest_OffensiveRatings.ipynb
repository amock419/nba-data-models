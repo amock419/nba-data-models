{
 "cells": [
  {
   "cell_type": "markdown",
   "metadata": {
    "toc": true
   },
   "source": [
    "<h1>Table of Contents<span class=\"tocSkip\"></span></h1>\n",
    "<div class=\"toc\"><ul class=\"toc-item\"></ul></div>"
   ]
  },
  {
   "cell_type": "code",
   "execution_count": 1,
   "metadata": {},
   "outputs": [],
   "source": [
    "# Import modules and packages\n",
    "import numpy as np\n",
    "import matplotlib.pyplot as plt\n",
    "import matplotlib.cm as cm\n",
    "import json\n",
    "import pandas as pd\n",
    "import seaborn as sns\n",
    "import re\n",
    "from scipy.stats import gaussian_kde\n",
    "from sklearn import metrics\n",
    "from sklearn.metrics import confusion_matrix\n",
    "from sklearn.preprocessing import StandardScaler\n",
    "from sklearn.preprocessing import LabelEncoder\n",
    "from sklearn.model_selection import train_test_split\n",
    "from sklearn.model_selection import cross_val_score\n",
    "from sklearn.model_selection import GridSearchCV\n",
    "from sklearn import svm\n",
    "from sklearn.neural_network import MLPRegressor\n",
    "from sklearn.linear_model import LinearRegression\n",
    "from sklearn.linear_model import Ridge\n",
    "from sklearn.ensemble import RandomForestClassifier\n",
    "from xgboost import XGBClassifier\n",
    "import unidecode\n",
    "import unicodedata\n",
    "%matplotlib inline"
   ]
  },
  {
   "cell_type": "code",
   "execution_count": null,
   "metadata": {},
   "outputs": [],
   "source": [
    "sns.set_style(\"whitegrid\")"
   ]
  },
  {
   "cell_type": "code",
   "execution_count": null,
   "metadata": {},
   "outputs": [],
   "source": [
    "# Read in compiled NBA player data\n",
    "df_orig = pd.read_csv('../CompleteNBAPlayerStats.csv')\n",
    "print(\"Table of BBall Player Stats:\\n\\n\", df_orig)"
   ]
  },
  {
   "cell_type": "code",
   "execution_count": null,
   "metadata": {},
   "outputs": [],
   "source": [
    "# Dataframes after cutting on GP/MPG/other parameters\n",
    "df = df_orig.copy()\n",
    "df = df[df.GP > min_num_games]\n",
    "df = df[df.MPG > min_MPG]\n",
    "\n",
    "# Add some additional variables\n",
    "## To convert to \"per 36-min\" stats\n",
    "df['2PA_PG'] = df['2PA_PT']*df.MPG/36.\n",
    "df['3PA_PG'] = df['3PA_PT']*df.MPG/36.\n",
    "df['FGA_PG'] = df.FGA_PT*df.MPG/36.\n",
    "\n",
    "df[\"2PR\"] = df[\"2PA_PH\"]/df[\"FGA_PH\"]\n",
    "df[\"3PR\"] = df[\"3PA_PH\"]/df[\"FGA_PH\"]\n",
    "\n",
    "df['FG_FREQ_RIM'] = (df.FGA_RA)/df.FGA_PG # restricted area\n",
    "df['FG_FREQ_MR_AND_PT'] = (df.FGA_MR + df.FGA_NONRA)/df.FGA_PG # combined paint and midrange\n",
    "df['FG_FREQ_MR'] = (df.FGA_MR)/df.FGA_PG\n",
    "df['FG_FREQ_CORNERS'] = (df.FGA_LC + df.FGA_RC)/df.FGA_PG\n",
    "df['FG_FREQ_AB'] = df.FGA_AB/df.FGA_PG\n",
    "df['FG_FREQ_01DRIB'] = (df['FGA_0DRIB'] + df['FGA_1DRIB'])/df.FGA_PG\n",
    "df['FG_FREQ_GT1DRIB'] = (df['FGA_2DRIB'] + df['FGA_36DRIB'] + df['FGA_GT7DRIB'])/df.FGA_PG\n",
    "df['FG_FREQ_CANDS'] = df['FGA_CANDS']/df.FGA_PG\n",
    "\n",
    "df[\"FG_FREQ_RIM\"].fillna(0, inplace=True)\n",
    "df[\"FG_FREQ_MR_AND_PT\"].fillna(0, inplace=True)\n",
    "df[\"FG_FREQ_MR\"].fillna(0, inplace=True)\n",
    "df[\"FG_FREQ_CORNERS\"].fillna(0, inplace=True)\n",
    "df[\"FG_FREQ_AB\"].fillna(0, inplace=True)\n",
    "df[\"FG_FREQ_01DRIB\"].fillna(0, inplace=True)\n",
    "df[\"FG_FREQ_GT1DRIB\"].fillna(0, inplace=True)\n",
    "df[\"FG_FREQ_CANDS\"].fillna(0, inplace=True)\n"
   ]
  },
  {
   "cell_type": "code",
   "execution_count": null,
   "metadata": {},
   "outputs": [],
   "source": [
    "# Various dataframes separating rookies from established veterans,\n",
    "# as well as median data to exclude outliers for veteran players\n",
    "df_vets = df[df[\"name\"].isin(df[\"name\"].value_counts()[df[\"name\"].value_counts()>1].index)]\n",
    "df_rooks = df[df[\"name\"].isin(df[\"name\"].value_counts()[df[\"name\"].value_counts()==1].index)]\n",
    "df_med = df_vets.groupby(\"name\").median().reset_index()\n",
    "\n",
    "# Dataframes by player position\n",
    "# Centers\n",
    "dfc = df[df['pos'].str.contains('C')]\n",
    "# Forwards\n",
    "dff = df[df['pos'].str.contains('F')]\n",
    "# Guards\n",
    "dfg = df[df['pos'].str.contains('G')]\n"
   ]
  },
  {
   "cell_type": "code",
   "execution_count": null,
   "metadata": {},
   "outputs": [],
   "source": [
    "x_train = df[df.year != 2020][['2PM_PH', '3PM_PH', 'FTM_PH', 'AST_PH', 'ORB_PH', 'DRB_PH']]\n",
    "y_train = df[df.year != 2020][['OFFRTG']]\n",
    "\n",
    "reg = LinearRegression()\n",
    "reg.fit(x_train, y_train)\n",
    "\n",
    "x_test = df[df.year == 2020][['2PM_PH', '3PM_PH', 'FTM_PH', 'AST_PH', 'ORB_PH', 'DRB_PH']]\n",
    "y_test_tot = df[df.year == 2020].OFFRTG\n",
    "y_pred_tot = reg.predict(x_test)\n",
    "\n",
    "#print(df[df.year == 2020].name.values[i])\n",
    "#for i,name in enumerate(df[df.year == 2020].name):\n",
    "#    print(name, ':', y_pred[:,0][i], df[df.year == 2020].iloc[i,:].OFFRTG)\n",
    "    \n",
    "print('Made', len(y_pred_tot), 'predictions with a RMS error of', np.sqrt(metrics.mean_squared_error(y_test_tot, y_pred_tot)))\n"
   ]
  },
  {
   "cell_type": "code",
   "execution_count": null,
   "metadata": {},
   "outputs": [],
   "source": [
    "x_train = df[df.year != 2020][['EFGP', '3PR', 'FTM_PH', 'AST_PH', 'TOR', 'REBR']]\n",
    "y_train = df[df.year != 2020][['OFFRTG']]\n",
    "\n",
    "reg = LinearRegression()\n",
    "reg.fit(x_train, y_train)\n",
    "\n",
    "x_test = df[df.year == 2020][['EFGP', '3PR', 'FTM_PH', 'AST_PH', 'TOR', 'REBR']]\n",
    "y_test_eff = df[df.year == 2020].OFFRTG\n",
    "y_pred_eff = reg.predict(x_test)\n",
    "\n",
    "#print(df[df.year == 2020].name.values[i])\n",
    "#for i,name in enumerate(df[df.year == 2020].name):\n",
    "#    print(name, ':', y_pred[:,0][i], df[df.year == 2020].iloc[i,:].OFFRTG)\n",
    "    \n",
    "print('Made', len(y_pred_eff), 'predictions with a RMS error of', np.sqrt(metrics.mean_squared_error(y_test_eff, y_pred_eff)))\n"
   ]
  },
  {
   "cell_type": "code",
   "execution_count": null,
   "metadata": {},
   "outputs": [],
   "source": [
    "fig, ax = plt.subplots(figsize=(10, 8))\n",
    "plt.xlabel(\"Offensive Rating\")\n",
    "plt.ylabel(\"Predicted Offensive Rating\")\n",
    "plt.scatter(y_test_tot, y_pred_tot)\n",
    "plt.scatter(y_test_eff, y_pred_eff)\n",
    "#plt.scatter(y_test_eff, df[df.year == 2020].PTS_PH)\n",
    "xmin, xmax = ax.get_xlim()\n",
    "#ymin, ymax = ax.get_ylim()\n",
    "ymin = 90\n",
    "ymax = 125\n",
    "plt.plot([90,130], [90,130], 'r--')\n",
    "ax.set_xlim(xmin, xmax)\n",
    "ax.set_ylim(ymin, ymax)\n"
   ]
  },
  {
   "cell_type": "code",
   "execution_count": null,
   "metadata": {
    "scrolled": false
   },
   "outputs": [],
   "source": [
    "mlp_reg = MLPRegressor()\n",
    "mlp_reg.fit(x_train, y_train.values.ravel())\n",
    "y_mlp_pred = mlp_reg.predict(x_test)\n",
    "for i,pred in enumerate(y_mlp_pred):\n",
    "    print(str(df_test.name.values[i]) + ' has a predicted +/- of ' + str(pred) + ' compared to real +/- of ' + str(y_test.values[i][0]))\n",
    "\n",
    "print('Made', len(y_mlp_pred), 'predictions with a RMS error of', np.sqrt(metrics.mean_squared_error(y_test, y_mlp_pred)))\n"
   ]
  },
  {
   "cell_type": "code",
   "execution_count": null,
   "metadata": {},
   "outputs": [],
   "source": []
  }
 ],
 "metadata": {
  "kernelspec": {
   "display_name": "Python 3",
   "language": "python",
   "name": "python3"
  },
  "language_info": {
   "codemirror_mode": {
    "name": "ipython",
    "version": 3
   },
   "file_extension": ".py",
   "mimetype": "text/x-python",
   "name": "python",
   "nbconvert_exporter": "python",
   "pygments_lexer": "ipython3",
   "version": "3.7.3"
  },
  "toc": {
   "base_numbering": 1,
   "nav_menu": {},
   "number_sections": true,
   "sideBar": false,
   "skip_h1_title": false,
   "title_cell": "Table of Contents",
   "title_sidebar": "Contents",
   "toc_cell": true,
   "toc_position": {},
   "toc_section_display": true,
   "toc_window_display": false
  }
 },
 "nbformat": 4,
 "nbformat_minor": 2
}
