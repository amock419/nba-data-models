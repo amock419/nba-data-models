{
 "cells": [
  {
   "cell_type": "markdown",
   "metadata": {
    "toc": true
   },
   "source": [
    "<h1>Table of Contents<span class=\"tocSkip\"></span></h1>\n",
    "<div class=\"toc\"><ul class=\"toc-item\"></ul></div>"
   ]
  },
  {
   "cell_type": "code",
   "execution_count": 1,
   "metadata": {},
   "outputs": [],
   "source": [
    "# Import modules and packages\n",
    "import numpy as np\n",
    "import matplotlib.pyplot as plt\n",
    "import matplotlib.cm as cm\n",
    "import json\n",
    "import pandas as pd\n",
    "import seaborn as sns\n",
    "from sklearn.metrics import confusion_matrix\n",
    "from sklearn.preprocessing import StandardScaler\n",
    "from sklearn.preprocessing import LabelEncoder\n",
    "from sklearn.model_selection import train_test_split\n",
    "from sklearn.model_selection import cross_val_score\n",
    "from sklearn.model_selection import GridSearchCV\n",
    "from sklearn import svm\n",
    "from sklearn.linear_model import LinearRegression\n",
    "from sklearn.ensemble import RandomForestClassifier\n",
    "from xgboost import XGBClassifier\n",
    "import unidecode\n",
    "import unicodedata\n",
    "import difflib\n",
    "from fuzzywuzzy import fuzz \n",
    "from fuzzywuzzy import process\n",
    "%matplotlib inline"
   ]
  },
  {
   "cell_type": "code",
   "execution_count": 2,
   "metadata": {},
   "outputs": [],
   "source": [
    "def ConvertDataFrame(df, str_list, int_list):\n",
    "    cols = df.columns.drop(str_list)\n",
    "    df[cols] = df[cols].apply(pd.to_numeric, errors='coerce', axis=1)\n",
    "    for string in str_list:\n",
    "        df[string] = df[string].astype('str')\n",
    "    for integer in int_list:\n",
    "        df[integer] = df[integer].astype('int')\n",
    "    return df\n"
   ]
  },
  {
   "cell_type": "code",
   "execution_count": 3,
   "metadata": {},
   "outputs": [
    {
     "name": "stdout",
     "output_type": "stream",
     "text": [
      "Table of NBA Player Bios Over the Last 20 Years:\n",
      "\n",
      "                  name  height  weight       college   country  \\\n",
      "0            AC Green    81.0   225.0  Oregon State       USA   \n",
      "1           AJ Guyton    73.0   180.0       Indiana       USA   \n",
      "2         Aaron McKie    77.0   209.0        Temple       USA   \n",
      "3      Aaron Williams    81.0   225.0        Xavier       USA   \n",
      "4          Adam Keefe    81.0   230.0      Stanford       USA   \n",
      "...               ...     ...     ...           ...       ...   \n",
      "9339  Vincent Poirier    84.0   235.0          None    France   \n",
      "9340    Vlatko Cancar    80.0   236.0          None  Slovenia   \n",
      "9343   Wenyen Gabriel    81.0   205.0          None     Sudan   \n",
      "9354  Zach Norvell Jr    77.0   205.0          None       USA   \n",
      "9355   Zylan Cheatham    77.0   220.0          None       USA   \n",
      "\n",
      "      actual_draft_year  draft_round  draft_number      draft nationality  \n",
      "0                1985.0          1.0          23.0    drafted    domestic  \n",
      "1                2000.0          2.0          32.0    drafted    domestic  \n",
      "2                1994.0          1.0          17.0    drafted    domestic  \n",
      "3                   NaN          NaN           NaN  undrafted    domestic  \n",
      "4                1992.0          1.0          10.0    drafted    domestic  \n",
      "...                 ...          ...           ...        ...         ...  \n",
      "9339                NaN          NaN           NaN  undrafted     foreign  \n",
      "9340             2017.0          2.0          49.0    drafted     foreign  \n",
      "9343                NaN          NaN           NaN  undrafted     foreign  \n",
      "9354                NaN          NaN           NaN  undrafted    domestic  \n",
      "9355                NaN          NaN           NaN  undrafted    domestic  \n",
      "\n",
      "[1934 rows x 10 columns]\n"
     ]
    }
   ],
   "source": [
    "# Grab NBA player bios (including height/weight)\n",
    "df_bios = pd.read_csv('NBAPlayerBios.csv', index_col=0)\n",
    "df_bios = ConvertDataFrame(df_bios, ['name', 'college', 'country', 'draft', 'nationality'], [])\n",
    "#print(df_bios[df_bios.duplicated(subset=['name'], keep='first')])\n",
    "#print(df_bios[df_bios.duplicated(subset=['name'], keep='last')])\n",
    "df_bios = df_bios.drop_duplicates(subset=['name'], keep=False)\n",
    "df_bios['name'] = df_bios['name'].str.replace('.', '')\n",
    "print(\"Table of NBA Player Bios Over the Last 20 Years:\\n\\n\", df_bios)\n"
   ]
  },
  {
   "cell_type": "code",
   "execution_count": 4,
   "metadata": {},
   "outputs": [
    {
     "name": "stdout",
     "output_type": "stream",
     "text": [
      "Table of NBA Draft Player Measurements Over the Last 20 Years:\n",
      "\n",
      "                         name  draft_year  wingspan\n",
      "0                Malik Allen        2001     86.50\n",
      "1           Harold Arceneaux        2001     80.50\n",
      "2              Lamont Barnes        2001     87.50\n",
      "3                Mario Bland        2001     84.00\n",
      "4              Primoz Brezec        2001     86.00\n",
      "...                      ...         ...       ...\n",
      "1312  Quinndary Weatherspoon        2020     81.00\n",
      "1313              Coby White        2020     77.00\n",
      "1314             Kris Wilkes        2020     82.75\n",
      "1315          Grant Williams        2020     81.75\n",
      "1316           Dylan Windler        2020     82.00\n",
      "\n",
      "[1294 rows x 3 columns]\n"
     ]
    }
   ],
   "source": [
    "# Grab physical player measurements from Draft Combine data\n",
    "#df_comb = pd.read_csv('NBACombineStats.csv', usecols=['name', 'draft_year', 'height', 'weight', 'wingspan'])\n",
    "df_comb = pd.read_csv('NBACombineStats.csv', usecols=['name', 'draft_year', 'wingspan'])\n",
    "df_comb = ConvertDataFrame(df_comb, ['name'], ['draft_year'])\n",
    "#print(df_comb[df_comb.duplicated(subset=['name'], keep='first')])\n",
    "#print(df_comb[df_comb.duplicated(subset=['name'], keep='last')])\n",
    "df_comb = df_comb.drop_duplicates(subset=['name'], keep='last')\n",
    "df_comb['name'] = df_comb['name'].str.replace('.', '')\n",
    "print(\"Table of NBA Draft Player Measurements Over the Last 20 Years:\\n\\n\", df_comb)\n"
   ]
  },
  {
   "cell_type": "code",
   "execution_count": 5,
   "metadata": {
    "scrolled": false
   },
   "outputs": [
    {
     "name": "stdout",
     "output_type": "stream",
     "text": [
      "Table of basic and advanced player stats:\n",
      "\n",
      "                     name  year   age     W     L       WLR  PTS_PT  FGM_PT  \\\n",
      "0             AJ Hammons  2017  24.0   4.0  18.0  0.222222    10.6     3.7   \n",
      "1               AJ Price  2015  28.0  11.0  15.0  0.733333    14.8     5.7   \n",
      "2           Aaron Brooks  2015  30.0  50.0  32.0  1.562500    18.2     6.6   \n",
      "3           Aaron Brooks  2016  31.0  36.0  33.0  1.090909    16.0     6.1   \n",
      "4           Aaron Brooks  2017  32.0  36.0  29.0  1.241379    13.0     4.9   \n",
      "...                  ...   ...   ...   ...   ...       ...     ...     ...   \n",
      "3003             Zhou Qi  2019  23.0   0.0   1.0  0.000000    75.4    37.7   \n",
      "3004        Zoran Dragic  2015  26.0   6.0  10.0  0.600000    13.4     5.3   \n",
      "3005      Zylan Cheatham  2020  24.0   1.0   1.0  1.000000     3.6     1.8   \n",
      "3006  Antonius Cleveland  2020   NaN   NaN   NaN       NaN     NaN     NaN   \n",
      "3007            Kyle Guy  2020   NaN   NaN   NaN       NaN     NaN     NaN   \n",
      "\n",
      "      FGA_PT  FGP_PT  ...  CONTESTS_3PT_PT  CONTESTS_PT  2PM_PH  2PA_PH  \\\n",
      "0        9.3   0.405  ...              1.8         11.5     3.7     9.7   \n",
      "1       15.2   0.372  ...              NaN          NaN     5.7    12.8   \n",
      "2       15.6   0.421  ...              NaN          NaN     6.0    13.6   \n",
      "3       15.2   0.401  ...              NaN          NaN     5.5    12.7   \n",
      "4       12.1   0.403  ...              4.1          8.1     4.0     9.5   \n",
      "...      ...     ...  ...              ...          ...     ...     ...   \n",
      "3003    37.7   1.000  ...              0.0          0.0    33.3    33.3   \n",
      "3004    14.4   0.367  ...              NaN          NaN     5.1    10.2   \n",
      "3005     7.3   0.250  ...              3.6         14.4     2.6     7.9   \n",
      "3006     NaN     NaN  ...              NaN          NaN     NaN     NaN   \n",
      "3007     NaN     NaN  ...              NaN          NaN     NaN     NaN   \n",
      "\n",
      "        2PP_PH  2PM_PT  2PA_PT    2PP_PT       2PR       3PR  \n",
      "0     0.381443     2.6     7.1  0.366197  0.757812  0.242188  \n",
      "1     0.445312     4.0     8.9  0.449438  0.584475  0.415525  \n",
      "2     0.441176     4.3     9.6  0.447917  0.618182  0.381818  \n",
      "3     0.433071     4.0     9.2  0.434783  0.607656  0.392344  \n",
      "4     0.421053     3.0     6.9  0.434783  0.572289  0.427711  \n",
      "...        ...     ...     ...       ...       ...       ...  \n",
      "3003  1.000000    37.7    37.7  1.000000  1.000000  0.000000  \n",
      "3004  0.500000     3.9     7.7  0.506494  0.534031  0.465969  \n",
      "3005  0.329114     1.8     5.5  0.327273  0.752381  0.247619  \n",
      "3006       NaN     NaN     NaN       NaN       NaN       NaN  \n",
      "3007       NaN     NaN     NaN       NaN       NaN       NaN  \n",
      "\n",
      "[3006 rows x 418 columns]\n"
     ]
    }
   ],
   "source": [
    "# Grab player basic and advanced stats from NBA.com\n",
    "df1 = pd.read_csv('NBAAdvancedStats.csv', index_col=0)\n",
    "df1 = ConvertDataFrame(df1, ['name', 'red_pos'], ['year'])\n",
    "#print(df1[df1.duplicated(subset=['name', 'year'], keep='first')])\n",
    "#print(df1[df1.duplicated(subset=['name', 'year'], keep='last')])\n",
    "df1 = df1.drop_duplicates(subset=['name', 'year'], keep='last')\n",
    "#df1 = df1.groupby(['name', 'year']).mean(numeric_only=True).reset_index()\n",
    "\n",
    "# Add useful additional variables\n",
    "df1.insert(df1.columns.get_loc('L')+1, 'WLR', df1['W']/df1['L'])\n",
    "df1[\"2PM_PH\"] = df1[\"FGM_PH\"] - df1[\"3PM_PH\"]\n",
    "df1[\"2PA_PH\"] = df1[\"FGA_PH\"] - df1[\"3PA_PH\"]\n",
    "df1[\"2PP_PH\"] = df1[\"2PM_PH\"]/df1[\"2PA_PH\"]\n",
    "df1[\"2PM_PT\"] = df1[\"FGM_PT\"] - df1[\"3PM_PT\"]\n",
    "df1[\"2PA_PT\"] = df1[\"FGA_PT\"] - df1[\"3PA_PT\"]\n",
    "df1[\"2PP_PT\"] = df1[\"2PM_PT\"]/df1[\"2PA_PT\"]\n",
    "# Convert some per-36 min stats into per-game stats\n",
    "df1['2PA_PG'] = df1['2PA_PT']*df1.MPG/36.\n",
    "df1['3PA_PG'] = df1['3PA_PT']*df1.MPG/36.\n",
    "df1['FGA_PG'] = df1.FGA_PT*df1.MPG/36.\n",
    "###\n",
    "df1[\"2PR\"] = df1[\"2PA_PH\"]/df1[\"FGA_PH\"]\n",
    "df1[\"3PR\"] = df1[\"3PA_PH\"]/df1[\"FGA_PH\"]\n",
    "df1['FG_FREQ_RIM'] = (df1.FGA_RA)/df1.FGA_PG # restricted area\n",
    "df1['FG_FREQ_MR_AND_PT'] = (df1.FGA_MR + df1.FGA_NONRA)/df1.FGA_PG # combined paint and midrange\n",
    "df1['FG_FREQ_MR'] = (df1.FGA_MR)/df1.FGA_PG\n",
    "df1['FG_FREQ_CORNERS'] = (df1.FGA_LC + df1.FGA_RC)/df1.FGA_PG\n",
    "df1['FG_FREQ_AB'] = df1.FGA_AB/df1.FGA_PG\n",
    "df1['FG_FREQ_01DRIB'] = (df1['FGA_0DRIB'] + df1['FGA_1DRIB'])/df1.FGA_PG\n",
    "df1['FG_FREQ_GT1DRIB'] = (df1['FGA_2DRIB'] + df1['FGA_36DRIB'] + df1['FGA_GT7DRIB'])/df1.FGA_PG\n",
    "df1['FG_FREQ_CANDS'] = df1['FGA_CANDS']/df1.FGA_PG\n",
    "\n",
    "df1['name'] = df1['name'].str.replace('.', '')\n",
    "\n",
    "print(\"Table of basic and advanced player stats:\\n\\n\", df1)\n",
    "#print(df1.red_pos)\n",
    "#print(df1[df1.red_pos == 'nan'])\n"
   ]
  },
  {
   "cell_type": "code",
   "execution_count": 6,
   "metadata": {
    "scrolled": false
   },
   "outputs": [
    {
     "name": "stdout",
     "output_type": "stream",
     "text": [
      "Table of basic BBall Reference stats:\n",
      "\n",
      "                     name  year pos team    GP    GS\n",
      "0             AJ Hammons  2017   C  DAL  22.0   0.0\n",
      "1               AJ Price  2010  PG  IND  56.0   2.0\n",
      "2               AJ Price  2011  PG  IND  50.0   0.0\n",
      "3               AJ Price  2012  PG  IND  44.0   1.0\n",
      "4               AJ Price  2013  PG  WAS  57.0  22.0\n",
      "...                  ...   ...  ..  ...   ...   ...\n",
      "4550        Zhaire Smith  2019  SG  PHI   6.0   2.0\n",
      "4551             Zhou Qi  2018   C  HOU  18.0   0.0\n",
      "4552        Zoran Dragic  2015  SG  TOT  16.0   1.0\n",
      "4553  Zydrunas Ilgauskas  2010   C  CLE  64.0   6.0\n",
      "4554  Zydrunas Ilgauskas  2011   C  MIA  72.0  51.0\n",
      "\n",
      "[4555 rows x 6 columns]\n"
     ]
    }
   ],
   "source": [
    "# Grab basic player stats from BBall Reference\n",
    "with open('BBallRefStats.json') as f:\n",
    "    json_data = json.load(f)\n",
    "\n",
    "df2 = pd.DataFrame(data=json_data, dtype=float)\n",
    "df2['name'] = df2['name'].apply(lambda val: unicodedata.normalize('NFKD', val).encode('ascii', 'ignore').decode())\n",
    "df2.name = df2.name.astype(str)\n",
    "df2.pos = df2.pos.astype(str)\n",
    "df2.team = df2.team.astype(str)\n",
    "df2.year = df2.year.astype(int)\n",
    "#df2 = df2.drop_duplicates(subset=['name', 'year'], keep=False)\n",
    "df2 = df2.groupby(['name', 'year', 'pos', 'team']).mean(numeric_only=True).reset_index()\n",
    "df2['name'] = df2['name'].str.replace('.', '')\n",
    "print(\"Table of basic BBall Reference stats:\\n\\n\", df2)\n"
   ]
  },
  {
   "cell_type": "code",
   "execution_count": 7,
   "metadata": {
    "scrolled": false
   },
   "outputs": [
    {
     "name": "stdout",
     "output_type": "stream",
     "text": [
      "Table of advanced BBall Reference stats:\n",
      "\n",
      "                     name  year    FTR  OWS  DWS   WS   WS48  OBPM  DBPM  BPM  \\\n",
      "0             AJ Hammons  2017  0.476 -0.2  0.2  0.0 -0.001  -7.5   2.0 -5.6   \n",
      "1               AJ Price  2010  0.212  0.4  0.8  1.2  0.065   0.2  -2.0 -1.8   \n",
      "2               AJ Price  2011  0.253 -0.4  0.7  0.3  0.020  -1.1  -2.3 -3.4   \n",
      "3               AJ Price  2012  0.201  0.2  0.5  0.7  0.063  -0.2  -1.7 -1.9   \n",
      "4               AJ Price  2013  0.150  1.0  1.2  2.2  0.084  -0.1  -1.7 -1.8   \n",
      "...                  ...   ...    ...  ...  ...  ...    ...   ...   ...  ...   \n",
      "5271             Zhou Qi  2019  0.000  0.0  0.0  0.0  1.261  22.1 -12.6  9.5   \n",
      "5272        Zoran Dragic  2015  0.167 -0.1  0.0 -0.1 -0.042  -2.5  -4.0 -6.5   \n",
      "5273  Zydrunas Ilgauskas  2010  0.231  0.5  2.0  2.5  0.088  -3.3   0.2 -3.2   \n",
      "5274  Zydrunas Ilgauskas  2011  0.144  1.0  1.9  2.9  0.122  -2.6   1.0 -1.5   \n",
      "5275      Zylan Cheatham  2020  0.000 -0.1  0.0 -0.1 -0.091  -8.8   0.2 -8.6   \n",
      "\n",
      "      VORP  \n",
      "0     -0.1  \n",
      "1      0.0  \n",
      "2     -0.3  \n",
      "3      0.0  \n",
      "4      0.1  \n",
      "...    ...  \n",
      "5271   0.0  \n",
      "5272  -0.1  \n",
      "5273  -0.4  \n",
      "5274   0.1  \n",
      "5275  -0.1  \n",
      "\n",
      "[5276 rows x 11 columns]\n"
     ]
    }
   ],
   "source": [
    "# Grab advanced player stats from BBall Reference\n",
    "with open('BBallRefAdvancedStats.json') as f:\n",
    "    json_data = json.load(f)\n",
    "\n",
    "df3 = pd.DataFrame(data=json_data, dtype=float)\n",
    "df3['name'] = df3['name'].apply(lambda val: unicodedata.normalize('NFKD', val).encode('ascii', 'ignore').decode())\n",
    "df3.name = df3.name.astype(str)\n",
    "df3.year = df3.year.astype(int)\n",
    "#df3 = df3.drop_duplicates(subset=['name', 'year'], keep=False)\n",
    "df3 = df3.groupby(['name', 'year']).mean(numeric_only=True).reset_index()\n",
    "df3['name'] = df3['name'].str.replace('.', '')\n",
    "print(\"Table of advanced BBall Reference stats:\\n\\n\", df3)\n"
   ]
  },
  {
   "cell_type": "code",
   "execution_count": 8,
   "metadata": {},
   "outputs": [
    {
     "name": "stdout",
     "output_type": "stream",
     "text": [
      "Table of advanced Hollinger stats:\n",
      "\n",
      "                     name  year   MPG     TS  ASTR   TOR   USG   ORR   DRR  \\\n",
      "0               AJ Price  2010  15.4  0.530  19.2  10.7  21.3   1.5   9.7   \n",
      "1               AJ Price  2011  15.9  0.454  21.4  10.2  21.8   2.3   7.8   \n",
      "2               AJ Price  2012  12.9  0.454  28.0  10.4  17.7   2.6   9.4   \n",
      "3               AJ Price  2013  22.4  0.501  28.9   9.0  17.9   1.7   8.2   \n",
      "4               AJ Price  2014   3.5  0.469  19.4  10.5  22.7   1.1  10.2   \n",
      "...                  ...   ...   ...    ...   ...   ...   ...   ...   ...   \n",
      "5320             Zhou Qi  2019   1.0  1.000   0.0   0.0  40.8   0.0   0.0   \n",
      "5321        Zoran Dragic  2015   4.7  0.435  11.8  11.8  19.5   8.0   4.7   \n",
      "5322  Zydrunas Ilgauskas  2010  20.9  0.491   8.1  10.6  17.1  10.7  19.6   \n",
      "5323  Zydrunas Ilgauskas  2011  15.9  0.531   6.2  12.5  14.2  11.9  17.5   \n",
      "5324      Zylan Cheatham  2020  10.3  0.400  20.0  30.0  10.9   3.3  17.5   \n",
      "\n",
      "      REBR    PER    VA  EWA       ATR      ODRR  \n",
      "0      5.6  14.06  42.1  1.4  1.794393  0.154639  \n",
      "1      5.0  10.74  -0.7  0.0  2.098039  0.294872  \n",
      "2      6.0  11.54   6.2  0.2  2.692308  0.276596  \n",
      "3      4.9  12.45  27.7  0.9  3.211111  0.207317  \n",
      "4      5.5   9.72   0.0  0.0  1.847619  0.107843  \n",
      "...    ...    ...   ...  ...       ...       ...  \n",
      "5320   0.0  80.61   0.0  0.0       NaN       NaN  \n",
      "5321   6.3   8.21  -2.6 -0.1  1.000000  1.702128  \n",
      "5322  15.3  11.99  27.8  0.9  0.764151  0.545918  \n",
      "5323  14.9  12.84  38.3  1.3  0.496000  0.680000  \n",
      "5324  10.2   0.23  -4.8 -0.2  0.666667  0.188571  \n",
      "\n",
      "[5325 rows x 15 columns]\n"
     ]
    }
   ],
   "source": [
    "# Grab advanced player stats from BBall Reference\n",
    "with open('Hollinger.json') as f:\n",
    "    json_data = json.load(f)\n",
    "\n",
    "df4 = pd.DataFrame(data=json_data, dtype=float)\n",
    "df4['name'] = df4['name'].apply(lambda val: unicodedata.normalize('NFKD', val).encode('ascii', 'ignore').decode())\n",
    "df4.name = df4.name.astype(str)\n",
    "df4.year = df4.year.astype(int)\n",
    "df4 = df4.groupby(['name', 'year']).mean(numeric_only=True).reset_index()\n",
    "\n",
    "df4[\"ATR\"] = df4[\"ASTR\"]/df4[\"TOR\"]\n",
    "df4[\"ODRR\"] = df4[\"ORR\"]/df4[\"DRR\"]\n",
    "\n",
    "df4['name'] = df4['name'].str.replace('.', '')\n",
    "\n",
    "print(\"Table of advanced Hollinger stats:\\n\\n\", df4)\n"
   ]
  },
  {
   "cell_type": "code",
   "execution_count": 9,
   "metadata": {
    "scrolled": false
   },
   "outputs": [
    {
     "name": "stdout",
     "output_type": "stream",
     "text": [
      "Table of play-type stats:\n",
      "\n",
      "                   name  year  OFF_POSS_TR  OFF_FREQ_TR  OFF_PPP_TR  \\\n",
      "0         Aaron Brooks  2016          0.9        0.104        0.95   \n",
      "1         Aaron Brooks  2017          0.6        0.102        0.72   \n",
      "2         Aaron Gordon  2016          1.6        0.174        1.08   \n",
      "3         Aaron Gordon  2017          2.6        0.199        1.03   \n",
      "4         Aaron Gordon  2018          3.7        0.201        0.96   \n",
      "...                ...   ...          ...          ...         ...   \n",
      "2028    Devin Robinson  2019          0.0        0.000        0.00   \n",
      "2029  Jared Cunningham  2016          0.0        0.000        0.00   \n",
      "2030     Jarrod Uthoff  2017          0.0        0.000        0.00   \n",
      "2031    Alex Stepheson  2016          0.0        0.000        0.00   \n",
      "2032       Jack Cooley  2018          0.0        0.000        0.00   \n",
      "\n",
      "      OFF_PTS_TR  OFF_FGM_TR  OFF_FGA_TR  OFF_FGP_TR  OFF_EFGP_TR  ...  \\\n",
      "0            0.8         0.4         0.7       0.392        0.520  ...   \n",
      "1            0.4         0.3         0.4       0.333        0.463  ...   \n",
      "2            1.8         0.5         1.1       0.558        0.581  ...   \n",
      "3            2.7         0.9         1.9       0.536        0.565  ...   \n",
      "4            3.6         1.5         2.8       0.473        0.527  ...   \n",
      "...          ...         ...         ...         ...          ...  ...   \n",
      "2028         0.0         0.0         0.0       0.000        0.000  ...   \n",
      "2029         0.0         0.0         0.0       0.000        0.000  ...   \n",
      "2030         0.0         0.0         0.0       0.000        0.000  ...   \n",
      "2031         0.0         0.0         0.0       0.000        0.000  ...   \n",
      "2032         0.0         0.0         0.0       0.000        0.000  ...   \n",
      "\n",
      "      OFF_FT_FREQ_MISC  OFF_TO_FREQ_MISC  OFF_SF_FREQ_MISC  \\\n",
      "0                0.207             0.379             0.034   \n",
      "1                0.095             0.381             0.000   \n",
      "2                0.283             0.358             0.057   \n",
      "3                0.195             0.415             0.049   \n",
      "4                0.195             0.488             0.098   \n",
      "...                ...               ...               ...   \n",
      "2028             0.000             0.000             0.000   \n",
      "2029             0.000             0.000             0.000   \n",
      "2030             0.000             0.000             0.000   \n",
      "2031             0.000             0.000             0.000   \n",
      "2032             0.000             0.000             0.000   \n",
      "\n",
      "      OFF_AND1_FREQ_MISC  OFF_SCORE_FREQ_MISC  OFF_PERC_MISC  AVG_OPP_FGP  \\\n",
      "0                   0.00                0.276          0.311     0.472429   \n",
      "1                   0.00                0.190          0.382     0.394286   \n",
      "2                   0.02                0.377          0.729     0.365571   \n",
      "3                   0.00                0.366          0.755     0.406857   \n",
      "4                   0.07                0.268          0.547     0.366429   \n",
      "...                  ...                  ...            ...          ...   \n",
      "2028                0.00                0.000          0.000     0.033000   \n",
      "2029                0.00                0.000          0.000     0.031429   \n",
      "2030                0.00                0.000          0.000     0.081429   \n",
      "2031                0.00                0.000          0.000     0.000000   \n",
      "2032                0.00                0.000          0.000     0.000000   \n",
      "\n",
      "      WAVG_OPP_FGP  AVG_OPP_PPH  WAVG_OPP_PPH  \n",
      "0         0.397859     1.082857     90.242180  \n",
      "1         0.431259     0.894286     99.282497  \n",
      "2         0.362971     0.842857     83.828897  \n",
      "3         0.394403     0.902857     87.363439  \n",
      "4         0.394326     0.781429     84.444848  \n",
      "...            ...          ...           ...  \n",
      "2028      0.231000     0.104286     73.000000  \n",
      "2029      0.220000     0.071429     50.000000  \n",
      "2030      0.570000     0.224286    157.000000  \n",
      "2031      0.000000     0.000000      0.000000  \n",
      "2032      0.000000     0.000000      0.000000  \n",
      "\n",
      "[2033 rows x 258 columns]\n"
     ]
    },
    {
     "name": "stderr",
     "output_type": "stream",
     "text": [
      "/usr/local/lib/python3.7/site-packages/ipykernel_launcher.py:14: RuntimeWarning: invalid value encountered in true_divide\n",
      "  \n",
      "/usr/local/lib/python3.7/site-packages/ipykernel_launcher.py:18: RuntimeWarning: invalid value encountered in true_divide\n"
     ]
    }
   ],
   "source": [
    "# Grab player basic and advanced stats from NBA.com\n",
    "df5 = pd.read_csv('NBAPlayTypeStats.csv', index_col=0)\n",
    "df5 = ConvertDataFrame(df5, ['name'], ['year'])\n",
    "#print(df5[df5.duplicated(subset=['name', 'year'], keep='first')])\n",
    "#print(df5[df5.duplicated(subset=['name', 'year'], keep='last')])\n",
    "\n",
    "# Create new defensive variables from existing play-type data\n",
    "def_fgp_cols = [col for col in df5.columns if 'DEF_FGP_' in col]\n",
    "def_freq_cols = [col for col in df5.columns if 'DEF_FREQ_' in col]\n",
    "def_pph_cols = [col for col in df5.columns if 'DEF_PPP_' in col]\n",
    "# Mean field goal percentage using mean of all play-type columns\n",
    "df5['AVG_OPP_FGP'] = df5[def_fgp_cols].mean(axis=1)\n",
    "# Weighted average which takes into account relative frequency of defensive play type\n",
    "df5['WAVG_OPP_FGP'] = (df5[def_fgp_cols].values*df5[def_freq_cols].values).sum(axis=1)/df5[def_freq_cols].values.sum(axis=1)\n",
    "# Mean points per 100 possession using mean all play-type columns\n",
    "df5['AVG_OPP_PPH'] = df5[def_pph_cols].mean(axis=1)\n",
    "# Weighted average PPH which takes into account relative frequency of defensive play type\n",
    "df5['WAVG_OPP_PPH'] = (df5[def_pph_cols].values*100.*df5[def_freq_cols].values).sum(axis=1)/df5[def_freq_cols].values.sum(axis=1)\n",
    "\n",
    "# Replace NaNs with zeros\n",
    "df5 = df5.fillna(0)\n",
    "\n",
    "df5['name'] = df5['name'].str.replace('.', '')\n",
    "\n",
    "print(\"Table of play-type stats:\\n\\n\", df5)\n"
   ]
  },
  {
   "cell_type": "code",
   "execution_count": 10,
   "metadata": {},
   "outputs": [
    {
     "name": "stdout",
     "output_type": "stream",
     "text": [
      "Table of ESPN real plus-minus stats:\n",
      "\n",
      "                 name  year  ORPM  DRPM   RPM  RPM_WINS\n",
      "0           AJ Price  2014  0.03 -0.12 -0.09      0.14\n",
      "1           AJ Price  2015 -0.75 -2.42 -3.17     -0.13\n",
      "2         AJ Hammons  2017 -2.77  1.27 -1.50      0.16\n",
      "3       Aaron Brooks  2014  0.70 -3.84 -3.14     -0.79\n",
      "4       Aaron Brooks  2015  1.25 -2.33 -1.08      1.46\n",
      "...              ...   ...   ...   ...   ...       ...\n",
      "3218   Zaza Pachulia  2019 -2.87  3.06  0.19      1.76\n",
      "3219    Zhaire Smith  2019 -1.51 -0.58 -2.09      0.07\n",
      "3220         Zhou Qi  2019 -1.87  0.90 -0.97      0.00\n",
      "3221    Zoran Dragic  2015 -1.52 -1.92 -3.44     -0.05\n",
      "3222  Zylan Cheatham  2020 -1.04 -0.74 -1.77     -0.02\n",
      "\n",
      "[3223 rows x 6 columns]\n"
     ]
    }
   ],
   "source": [
    "# Grab advanced real plus-minus stats from ESPN\n",
    "with open('ESPN_RealPM.json') as f:\n",
    "    json_data = json.load(f)\n",
    "\n",
    "df6 = pd.DataFrame(data=json_data, dtype=float)\n",
    "df6['name'] = df6['name'].apply(lambda val: unicodedata.normalize('NFKD', val).encode('ascii', 'ignore').decode())\n",
    "df6.name = df6.name.astype(str)\n",
    "df6.year = df6.year.astype(int)\n",
    "df6 = df6.groupby(['name', 'year']).mean(numeric_only=True).reset_index()\n",
    "\n",
    "df6['name'] = df6['name'].str.replace('.', '')\n",
    "\n",
    "print(\"Table of ESPN real plus-minus stats:\\n\\n\", df6)\n"
   ]
  },
  {
   "cell_type": "code",
   "execution_count": 11,
   "metadata": {
    "scrolled": false
   },
   "outputs": [],
   "source": [
    "# Merge all dataframes\n",
    "df = pd.merge(df_bios, df_comb, on=['name'], how='outer')\n",
    "df = pd.merge(df, df1, on=['name'])\n",
    "df = pd.merge(df, df2, on=['name', 'year'])\n",
    "cols_to_move = ['pos', 'team', 'year', 'GP', 'GS']\n",
    "#col_to_move_after = 'wingspan'\n",
    "col_to_move_after = 'name'\n",
    "befbef_cols = [c for c in df if df.columns.get_loc(c)<=df.columns.get_loc(col_to_move_after) and c not in cols_to_move]\n",
    "before_cols = [c for c in df if df.columns.get_loc(c)>df.columns.get_loc(col_to_move_after) and df.columns.get_loc(c)<df.columns.get_loc(cols_to_move[0]) and c not in cols_to_move]\n",
    "after_cols = [c for c in df if df.columns.get_loc(c)>df.columns.get_loc(cols_to_move[-1]) and c not in cols_to_move]\n",
    "df = df[befbef_cols+cols_to_move+before_cols+after_cols]\n",
    "df = pd.merge(df, df3, on=['name', 'year'])\n",
    "df = pd.merge(df, df4, on=['name', 'year'])\n",
    "df = pd.merge(df, df5, on=['name', 'year'])\n",
    "df = pd.merge(df, df6, on=['name', 'year'])\n"
   ]
  },
  {
   "cell_type": "code",
   "execution_count": 12,
   "metadata": {},
   "outputs": [],
   "source": [
    "# Column modifications\n",
    "df = df.replace([np.inf, -np.inf], np.nan)\n",
    "df[\"ATR\"].fillna(0, inplace=True)\n",
    "df[\"ODRR\"].fillna(0, inplace=True)\n",
    "df[\"2PP_PH\"].fillna(0, inplace=True)\n",
    "df[\"2PP_PT\"].fillna(0, inplace=True)\n",
    "df[\"2PR\"].fillna(0, inplace=True)\n",
    "df[\"3PR\"].fillna(0, inplace=True)\n",
    "df[\"WAVG_OPP_FGP\"].fillna(0, inplace=True)\n",
    "df[\"FG_FREQ_RIM\"].fillna(0, inplace=True)\n",
    "df[\"FG_FREQ_MR_AND_PT\"].fillna(0, inplace=True)\n",
    "df[\"FG_FREQ_MR\"].fillna(0, inplace=True)\n",
    "df[\"FG_FREQ_CORNERS\"].fillna(0, inplace=True)\n",
    "df[\"FG_FREQ_AB\"].fillna(0, inplace=True)\n",
    "df[\"FG_FREQ_01DRIB\"].fillna(0, inplace=True)\n",
    "df[\"FG_FREQ_GT1DRIB\"].fillna(0, inplace=True)\n",
    "df[\"FG_FREQ_CANDS\"].fillna(0, inplace=True)\n",
    "\n",
    "# Match team name acronyms match between BBall Reference and NBA.com\n",
    "df['team'] = df['team'].replace('BRK', 'BKN')\n",
    "df['team'] = df['team'].replace('CHO', 'CHA')\n",
    "df['team'] = df['team'].replace('PHO', 'PHX')\n"
   ]
  },
  {
   "cell_type": "code",
   "execution_count": 13,
   "metadata": {},
   "outputs": [
    {
     "name": "stdout",
     "output_type": "stream",
     "text": [
      "Combined Table of BBall Player Stats:\n",
      "\n",
      "                  name pos team  year    GP    GS  height  weight   college  \\\n",
      "0        Andre Miller  PG  TOT  2016  39.0   4.0    74.0   200.0      Utah   \n",
      "1       Dirk Nowitzki  PF  DAL  2016  75.0  75.0    83.0   237.0      None   \n",
      "2       Dirk Nowitzki  PF  DAL  2017  54.0  54.0    83.0   237.0      None   \n",
      "3       Dirk Nowitzki   C  DAL  2018  77.0  77.0    83.0   237.0      None   \n",
      "4       Dirk Nowitzki  PF  DAL  2019  51.0  20.0    83.0   237.0      None   \n",
      "...               ...  ..  ...   ...   ...   ...     ...     ...       ...   \n",
      "1742    Rui Hachimura  PF  WAS  2020  25.0  25.0    80.0   230.0   Gonzaga   \n",
      "1743  Sekou Doumbouya  SF  DET  2020  14.0   7.0    80.0   230.0      None   \n",
      "1744    Terence Davis  SG  TOR  2020  39.0   1.0    76.0   201.0      None   \n",
      "1745        Ty Jerome  PG  PHX  2020  10.0   0.0    77.0   195.0  Virginia   \n",
      "1746      Tyler Herro  SG  MIA  2020  38.0   3.0    77.0   195.0  Kentucky   \n",
      "\n",
      "      country  ...  OFF_SCORE_FREQ_MISC  OFF_PERC_MISC  AVG_OPP_FGP  \\\n",
      "0         USA  ...                0.000          0.000     0.185000   \n",
      "1     Germany  ...                0.500          0.936     0.367000   \n",
      "2     Germany  ...                0.310          0.600     0.281571   \n",
      "3     Germany  ...                0.310          0.691     0.309143   \n",
      "4     Germany  ...                0.273          0.529     0.281857   \n",
      "...       ...  ...                  ...            ...          ...   \n",
      "1742    Japan  ...                0.200          0.351     0.414857   \n",
      "1743   Guinea  ...                0.000          0.000     0.060000   \n",
      "1744      USA  ...                0.286          0.683     0.218143   \n",
      "1745      USA  ...                0.000          0.000     0.133571   \n",
      "1746      USA  ...                0.370          0.745     0.350714   \n",
      "\n",
      "     WAVG_OPP_FGP AVG_OPP_PPH  WAVG_OPP_PPH  ORPM  DRPM   RPM  RPM_WINS  \n",
      "0        0.368425    0.388571     81.767801  0.30 -1.60 -1.30      0.49  \n",
      "1        0.404296    0.745714     89.995283  2.14  0.56  2.70      8.36  \n",
      "2        0.414131    0.668571     94.450644 -0.38  0.64  0.26      3.02  \n",
      "3        0.391341    0.742857     90.783529  1.40  0.49  1.89      6.06  \n",
      "4        0.464314    0.624286    108.531915 -2.16 -0.50 -2.66      0.24  \n",
      "...           ...         ...           ...   ...   ...   ...       ...  \n",
      "1742     0.432733    1.001429    102.837150  0.30 -3.50 -3.20     -1.28  \n",
      "1743     0.420000    0.101429     71.000000 -0.34  0.09 -0.25      0.07  \n",
      "1744     0.373781    0.468571     86.832772  1.42  1.91  3.34      1.70  \n",
      "1745     0.451935    0.292857     97.805695 -1.36 -1.10 -2.45     -0.16  \n",
      "1746     0.374561    0.775714     83.753425 -0.88 -0.33 -1.21     -0.36  \n",
      "\n",
      "[1747 rows x 715 columns]\n"
     ]
    }
   ],
   "source": [
    "# Write complete set of combined stats to .csv file and print\n",
    "df.to_csv(\"CompleteNBAPlayerStats.csv\", index=False)\n",
    "print(\"Combined Table of BBall Player Stats:\\n\\n\", df)\n"
   ]
  },
  {
   "cell_type": "code",
   "execution_count": 14,
   "metadata": {},
   "outputs": [
    {
     "data": {
      "text/plain": [
       "array(['ATL', 'BKN', 'BOS', 'CHA', 'CHI', 'CLE', 'DAL', 'DEN', 'DET',\n",
       "       'GSW', 'HOU', 'IND', 'LAC', 'LAL', 'MEM', 'MIA', 'MIL', 'MIN',\n",
       "       'NOP', 'NYK', 'OKC', 'ORL', 'PHI', 'PHX', 'POR', 'SAC', 'SAS',\n",
       "       'TOR', 'TOT', 'UTA', 'WAS'], dtype=object)"
      ]
     },
     "execution_count": 14,
     "metadata": {},
     "output_type": "execute_result"
    }
   ],
   "source": [
    "np.unique(df.team.values)"
   ]
  },
  {
   "cell_type": "code",
   "execution_count": null,
   "metadata": {},
   "outputs": [],
   "source": []
  }
 ],
 "metadata": {
  "kernelspec": {
   "display_name": "Python 3",
   "language": "python",
   "name": "python3"
  },
  "language_info": {
   "codemirror_mode": {
    "name": "ipython",
    "version": 3
   },
   "file_extension": ".py",
   "mimetype": "text/x-python",
   "name": "python",
   "nbconvert_exporter": "python",
   "pygments_lexer": "ipython3",
   "version": "3.7.3"
  },
  "toc": {
   "base_numbering": 1,
   "nav_menu": {},
   "number_sections": true,
   "sideBar": false,
   "skip_h1_title": false,
   "title_cell": "Table of Contents",
   "title_sidebar": "Contents",
   "toc_cell": true,
   "toc_position": {},
   "toc_section_display": true,
   "toc_window_display": false
  }
 },
 "nbformat": 4,
 "nbformat_minor": 2
}
