{
 "cells": [
  {
   "cell_type": "markdown",
   "metadata": {
    "toc": true
   },
   "source": [
    "<h1>Table of Contents<span class=\"tocSkip\"></span></h1>\n",
    "<div class=\"toc\"><ul class=\"toc-item\"></ul></div>"
   ]
  },
  {
   "cell_type": "code",
   "execution_count": 1,
   "metadata": {},
   "outputs": [],
   "source": [
    "import numpy as np\n",
    "import urllib.request\n",
    "from selenium import webdriver\n",
    "from selenium.webdriver.support.ui import Select\n",
    "from selenium.webdriver.support import expected_conditions as EC\n",
    "from selenium.webdriver.common.by import By\n",
    "from selenium.webdriver.support.ui import WebDriverWait\n",
    "from selenium.common.exceptions import TimeoutException\n",
    "from selenium.webdriver.firefox.options import Options as FirefoxOptions\n",
    "from selenium.webdriver.chrome.options import Options as ChromeOptions\n",
    "import lxml.html\n",
    "from lxml import etree\n",
    "import re\n",
    "import time\n",
    "import pandas as pd\n",
    "from functools import reduce\n",
    "from operator import itemgetter"
   ]
  },
  {
   "cell_type": "code",
   "execution_count": 56,
   "metadata": {},
   "outputs": [],
   "source": [
    "# Modify dataframe to have appropriate data types\n",
    "def ConvertDataFrame(df):\n",
    "    cols = df.columns.drop(['name', 'college', 'country', 'draft', 'nationality'])\n",
    "    df[cols] = df[cols].apply(pd.to_numeric, errors='coerce', axis=1)\n",
    "    df['name'] = df['name'].astype('str')\n",
    "    df['college'] = df['college'].astype('str')\n",
    "    df['country'] = df['country'].astype('str')\n",
    "    df['draft'] = df['draft'].astype('str')\n",
    "    df['nationality'] = df['nationality'].astype('str')\n",
    "    df['actual_draft_year'] = df['actual_draft_year'].astype('float')\n",
    "    df['draft_round'] = df['draft_round'].astype('float')\n",
    "    df['draft_number'] = df['draft_number'].astype('float')\n",
    "    #df = df.groupby(['name', 'actual_draft_year']).mean().reset_index()\n",
    "    df = df.drop_duplicates(subset=['name', 'actual_draft_year'], keep='first')\n",
    "    return df\n"
   ]
  },
  {
   "cell_type": "code",
   "execution_count": 52,
   "metadata": {},
   "outputs": [],
   "source": [
    "# Scrape player bio tables from NBA.com webpages, grabbing only\n",
    "# the specified columns (by index) and for the specified seasons\n",
    "def FetchStatsTables(urls, years, col_list):\n",
    "    # Create a headless Firefox browser instance\n",
    "    opt = FirefoxOptions()\n",
    "    opt.add_argument(\"--headless\")\n",
    "    driver = webdriver.Firefox(options=opt)\n",
    "    \n",
    "    arr = []\n",
    "    for i,url in enumerate(urls):\n",
    "        year = years[i]\n",
    "        print(\"Fetching player bios from the\", year, \"season...\")\n",
    "        \n",
    "        driver.get(url)\n",
    "        wait = WebDriverWait(driver, 30)\n",
    "        wait.until(EC.presence_of_element_located((By.XPATH, \"//select[contains(@class, 'stats-table-pagination__select')]\")))\n",
    "        sel = Select(driver.find_element_by_class_name('stats-table-pagination__select'))\n",
    "        sel.select_by_visible_text(\"All\")\n",
    "        driver.execute_script(\"window.scrollTo(0, document.body.scrollHeight);var lenOfPage=document.body.scrollHeight;return lenOfPage;\")\n",
    "        \n",
    "        retries = 1\n",
    "        while retries <= 3:\n",
    "            try:\n",
    "                wait.until(EC.presence_of_element_located((By.XPATH, \"//*[@class='nba-stat-table__overflow']//table/tbody/tr\")))\n",
    "                break\n",
    "            except TimeoutException:\n",
    "                print('\\nRefreshing NBA bios page due to timeout (retry #', retries,')...')\n",
    "                driver.refresh()\n",
    "                time.sleep(1)\n",
    "                retries += 1\n",
    "\n",
    "        root = lxml.html.fromstring(driver.page_source)\n",
    "        results = root.xpath(\"//*[@class='nba-stat-table__overflow']//table/tbody/tr\")\n",
    "    \n",
    "        # Process the table text and break into columns, \n",
    "        # stripping extraneous newline characters and inserting the season year\n",
    "        counter = 0\n",
    "        for result in results:\n",
    "            item = result.xpath(\"./td//text()\")\n",
    "            item = [re.sub('\\n +', '', x) for x in item]\n",
    "            data = [x for x in item if x != '' and x != '\\n']\n",
    "            data = [s.strip('%') for s in data]\n",
    "            if len(data) < col_list[-1]+1:\n",
    "                continue\n",
    "            elif len(data) > col_list[-1]+1:\n",
    "                data[6:-13] = [' '.join(data[6:-13])]\n",
    "            data = list(itemgetter(*col_list)(data))\n",
    "            #print(data)\n",
    "            \n",
    "            if len(data[1].split('-')) == 2 and data[1].split('-')[0] != '':\n",
    "                ft_in = data[1].split('-')\n",
    "                data[1] = float(ft_in[0])*12. + float(ft_in[1])\n",
    "                #print(ft_in, data[1])\n",
    "            else:\n",
    "                data[1] = ''\n",
    "            \n",
    "            if data[2] == ' ':\n",
    "                data[2] = ''\n",
    "\n",
    "            if data[5].lower() == 'undrafted':\n",
    "                data.append('undrafted')\n",
    "                data[5] = ''\n",
    "                data[6] = ''\n",
    "                data[7] = ''\n",
    "            else:\n",
    "                data.append('drafted')\n",
    "                \n",
    "            if data[4] == 'USA' or data[4] == '':\n",
    "                data.append('domestic')\n",
    "            else:\n",
    "                data.append('foreign')\n",
    "            \n",
    "            arr.append(data)\n",
    "            counter += 1\n",
    "            #print(data)\n",
    "        \n",
    "        print(\"Fetched bios for\", counter, \"NBA players.\")\n",
    "        \n",
    "    driver.quit()\n",
    "    #print(arr)\n",
    "    return np.array(arr)\n"
   ]
  },
  {
   "cell_type": "code",
   "execution_count": 53,
   "metadata": {},
   "outputs": [],
   "source": [
    "# Establish the years for which we want to fetch player data\n",
    "# (for data available for 201-15 onward)\n",
    "ya = [str(n).zfill(2) for n in range(0, 20)]\n",
    "yb = [str(n).zfill(2) for n in range(1, 21)]\n",
    "years = [int(\"20\"+y) for y in yb]\n"
   ]
  },
  {
   "cell_type": "code",
   "execution_count": null,
   "metadata": {},
   "outputs": [],
   "source": [
    "# Create URLs for player bios on NBA.com, \n",
    "# fetch the data in 2D array format, and put into a Pandas dataframe\n",
    "#https://stats.nba.com/players/bio/?Season=2000-01&SeasonType=Regular%20Season\n",
    "urls = [ \"https://stats.nba.com/players/bio/?Season=20{0}-{1}&SeasonType=Regular%20Season\".format(ya[i], yb[i]) for i in range(len(ya)) ]\n",
    "np_arr = FetchStatsTables(urls, years, [0, 3, 4, 5, 6, 7, 8, 9])\n",
    "df = pd.DataFrame(np_arr, columns=['name', 'height', 'weight', 'college', 'country', 'actual_draft_year', 'draft_round', 'draft_number', 'draft', 'nationality'])\n"
   ]
  },
  {
   "cell_type": "code",
   "execution_count": 57,
   "metadata": {
    "scrolled": false
   },
   "outputs": [
    {
     "name": "stdout",
     "output_type": "stream",
     "text": [
      "                  name  height  weight       college   country  \\\n",
      "0           A.C. Green    81.0   225.0  Oregon State       USA   \n",
      "1          A.J. Guyton    73.0   180.0       Indiana       USA   \n",
      "2          Aaron McKie    77.0   209.0        Temple       USA   \n",
      "3       Aaron Williams    81.0   225.0        Xavier       USA   \n",
      "4           Adam Keefe    81.0   230.0      Stanford       USA   \n",
      "...                ...     ...     ...           ...       ...   \n",
      "9339   Vincent Poirier    84.0   235.0          None    France   \n",
      "9340     Vlatko Cancar    80.0   236.0          None  Slovenia   \n",
      "9343    Wenyen Gabriel    81.0   205.0          None     Sudan   \n",
      "9354  Zach Norvell Jr.    77.0   205.0          None       USA   \n",
      "9355    Zylan Cheatham    77.0   220.0          None       USA   \n",
      "\n",
      "      actual_draft_year  draft_round  draft_number      draft nationality  \n",
      "0                1985.0          1.0          23.0    drafted    domestic  \n",
      "1                2000.0          2.0          32.0    drafted    domestic  \n",
      "2                1994.0          1.0          17.0    drafted    domestic  \n",
      "3                   NaN          NaN           NaN  undrafted    domestic  \n",
      "4                1992.0          1.0          10.0    drafted    domestic  \n",
      "...                 ...          ...           ...        ...         ...  \n",
      "9339                NaN          NaN           NaN  undrafted     foreign  \n",
      "9340             2017.0          2.0          49.0    drafted     foreign  \n",
      "9343                NaN          NaN           NaN  undrafted     foreign  \n",
      "9354                NaN          NaN           NaN  undrafted    domestic  \n",
      "9355                NaN          NaN           NaN  undrafted    domestic  \n",
      "\n",
      "[1946 rows x 10 columns]\n"
     ]
    }
   ],
   "source": [
    "df = ConvertDataFrame(df)\n",
    "print(df)"
   ]
  },
  {
   "cell_type": "code",
   "execution_count": 58,
   "metadata": {},
   "outputs": [],
   "source": [
    "# Write NBA player bios dataframe to a .csv file\n",
    "df.to_csv(\"NBAPlayerBios.csv\")\n"
   ]
  },
  {
   "cell_type": "code",
   "execution_count": null,
   "metadata": {},
   "outputs": [],
   "source": []
  }
 ],
 "metadata": {
  "kernelspec": {
   "display_name": "Python 3",
   "language": "python",
   "name": "python3"
  },
  "language_info": {
   "codemirror_mode": {
    "name": "ipython",
    "version": 3
   },
   "file_extension": ".py",
   "mimetype": "text/x-python",
   "name": "python",
   "nbconvert_exporter": "python",
   "pygments_lexer": "ipython3",
   "version": "3.7.3"
  },
  "toc": {
   "base_numbering": 1,
   "nav_menu": {},
   "number_sections": true,
   "sideBar": false,
   "skip_h1_title": false,
   "title_cell": "Table of Contents",
   "title_sidebar": "Contents",
   "toc_cell": true,
   "toc_position": {},
   "toc_section_display": true,
   "toc_window_display": false
  }
 },
 "nbformat": 4,
 "nbformat_minor": 2
}
