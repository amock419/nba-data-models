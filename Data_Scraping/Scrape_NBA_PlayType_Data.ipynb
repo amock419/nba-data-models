{
 "cells": [
  {
   "cell_type": "markdown",
   "metadata": {
    "toc": true
   },
   "source": [
    "<h1>Table of Contents<span class=\"tocSkip\"></span></h1>\n",
    "<div class=\"toc\"><ul class=\"toc-item\"><li><span><a href=\"#Scrape-Player-Data-for-Transition-Plays\" data-toc-modified-id=\"Scrape-Player-Data-for-Transition-Plays-1\"><span class=\"toc-item-num\">1&nbsp;&nbsp;</span>Scrape Player Data for Transition Plays</a></span></li><li><span><a href=\"#Scrape-Player-Data-for-Isolation-Plays\" data-toc-modified-id=\"Scrape-Player-Data-for-Isolation-Plays-2\"><span class=\"toc-item-num\">2&nbsp;&nbsp;</span>Scrape Player Data for Isolation Plays</a></span></li><li><span><a href=\"#Scrape-Player-Data-for-Pick-and-Roll-Plays\" data-toc-modified-id=\"Scrape-Player-Data-for-Pick-and-Roll-Plays-3\"><span class=\"toc-item-num\">3&nbsp;&nbsp;</span>Scrape Player Data for Pick-and-Roll Plays</a></span></li><li><span><a href=\"#Scrape-Player-Data-for-Post-Up-Plays\" data-toc-modified-id=\"Scrape-Player-Data-for-Post-Up-Plays-4\"><span class=\"toc-item-num\">4&nbsp;&nbsp;</span>Scrape Player Data for Post-Up Plays</a></span></li><li><span><a href=\"#Scrape-Player-Data-for-Spot-Up-Plays\" data-toc-modified-id=\"Scrape-Player-Data-for-Spot-Up-Plays-5\"><span class=\"toc-item-num\">5&nbsp;&nbsp;</span>Scrape Player Data for Spot-Up Plays</a></span></li><li><span><a href=\"#Scrape-Player-Data-for-Hand-Off-Plays\" data-toc-modified-id=\"Scrape-Player-Data-for-Hand-Off-Plays-6\"><span class=\"toc-item-num\">6&nbsp;&nbsp;</span>Scrape Player Data for Hand-Off Plays</a></span></li><li><span><a href=\"#Scrape-Player-Data-for-Cutting-Plays\" data-toc-modified-id=\"Scrape-Player-Data-for-Cutting-Plays-7\"><span class=\"toc-item-num\">7&nbsp;&nbsp;</span>Scrape Player Data for Cutting Plays</a></span></li><li><span><a href=\"#Scrape-Player-Data-for-Off-Screen-Plays\" data-toc-modified-id=\"Scrape-Player-Data-for-Off-Screen-Plays-8\"><span class=\"toc-item-num\">8&nbsp;&nbsp;</span>Scrape Player Data for Off-Screen Plays</a></span></li><li><span><a href=\"#Scrape-Player-Data-for-Put-Back-Plays\" data-toc-modified-id=\"Scrape-Player-Data-for-Put-Back-Plays-9\"><span class=\"toc-item-num\">9&nbsp;&nbsp;</span>Scrape Player Data for Put-Back Plays</a></span></li><li><span><a href=\"#Scrape-Player-Data-for-Miscellaneous-Play-Types\" data-toc-modified-id=\"Scrape-Player-Data-for-Miscellaneous-Play-Types-10\"><span class=\"toc-item-num\">10&nbsp;&nbsp;</span>Scrape Player Data for Miscellaneous Play-Types</a></span></li><li><span><a href=\"#Merge-and-Store-Dataframes\" data-toc-modified-id=\"Merge-and-Store-Dataframes-11\"><span class=\"toc-item-num\">11&nbsp;&nbsp;</span>Merge and Store Dataframes</a></span></li></ul></div>"
   ]
  },
  {
   "cell_type": "code",
   "execution_count": 1,
   "metadata": {},
   "outputs": [],
   "source": [
    "import numpy as np\n",
    "import urllib.request\n",
    "from selenium import webdriver\n",
    "from selenium.webdriver.support.ui import Select\n",
    "from selenium.webdriver.support import expected_conditions as EC\n",
    "from selenium.webdriver.common.by import By\n",
    "from selenium.webdriver.support.ui import WebDriverWait\n",
    "from selenium.common.exceptions import TimeoutException\n",
    "from selenium.webdriver.firefox.options import Options as FirefoxOptions\n",
    "from selenium.webdriver.chrome.options import Options as ChromeOptions\n",
    "import lxml.html\n",
    "from lxml import etree\n",
    "import re\n",
    "import time\n",
    "import pandas as pd\n",
    "from functools import reduce"
   ]
  },
  {
   "cell_type": "code",
   "execution_count": 2,
   "metadata": {},
   "outputs": [],
   "source": [
    "# Modify dataframe to have appropriate data types\n",
    "def ConvertDataFrame(df):\n",
    "    new_df = df.loc[:, df.columns != 'name'].astype(float)\n",
    "    df[new_df.columns] = new_df\n",
    "    df['name'] = df['name'].astype('str')\n",
    "    df['year'] = df['year'].astype('int')\n",
    "    df = df.groupby(['name', 'year']).mean().reset_index()\n",
    "    return df\n"
   ]
  },
  {
   "cell_type": "code",
   "execution_count": 4,
   "metadata": {},
   "outputs": [],
   "source": [
    "# Scrape play-type data tables from NBA.com webpages, grabbing only\n",
    "# the specified columns (by index) and for the specified seasons\n",
    "def FetchPlayTypeTables(urls, years, button):\n",
    "    # Create a headless Firefox browser instance\n",
    "    opt = FirefoxOptions()\n",
    "    opt.add_argument(\"--headless\")\n",
    "    driver = webdriver.Firefox(options=opt)\n",
    "    \n",
    "    arr = []\n",
    "    for i,url in enumerate(urls):\n",
    "        year = years[i]\n",
    "        print(\"Fetching play type data from Year\", year, \"...\")\n",
    "        \n",
    "        driver.get(url)\n",
    "        wait = WebDriverWait(driver, 30)\n",
    "        wait.until(EC.presence_of_element_located((By.XPATH, \"//select[@name='TypeGrouping']\")))\n",
    "        sel = Select(driver.find_element_by_name('TypeGrouping'))\n",
    "        sel.select_by_visible_text(button)\n",
    "        wait.until(EC.presence_of_element_located((By.XPATH, \"//select[contains(@class, 'stats-table-pagination__select')]\")))\n",
    "        sel = Select(driver.find_element_by_class_name('stats-table-pagination__select'))\n",
    "        sel.select_by_visible_text(\"All\")\n",
    "        driver.execute_script(\"window.scrollTo(0, document.body.scrollHeight);var lenOfPage=document.body.scrollHeight;return lenOfPage;\")\n",
    "        \n",
    "        root = lxml.html.fromstring(driver.page_source)\n",
    "        results = root.xpath(\"//*[@class='nba-stat-table__overflow']//table/tbody/tr\")\n",
    "    \n",
    "        # Process the table text and break into columns, \n",
    "        # stripping extraneous newline characters and inserting the season year\n",
    "        counter = 0\n",
    "        for result in results:\n",
    "            item = result.xpath(\"./td//text()\")\n",
    "            item = [re.sub('\\n +', '', x) for x in item]\n",
    "            data = [x for x in item if x != '' and x != '\\n']            \n",
    "            if len(data) != 17:\n",
    "                continue\n",
    "            del data[-15]\n",
    "            del data[-15]\n",
    "            #% on indices 2, 7-14\n",
    "            data = [s.strip('%') for s in data]\n",
    "            data.insert(1, int(year))\n",
    "            arr.append(data)\n",
    "            counter += 1\n",
    "            #print(data)\n",
    "            \n",
    "        print(\"Fetched stats for\", counter, \"NBA players.\")\n",
    "        \n",
    "    driver.quit()\n",
    "    #print(arr)\n",
    "    return np.array(arr)"
   ]
  },
  {
   "cell_type": "code",
   "execution_count": 5,
   "metadata": {},
   "outputs": [],
   "source": [
    "# Scrape play-type data tables from NBA.com webpages, grabbing only\n",
    "# the specified columns (by index) and for the specified seasons.\n",
    "# ADDITIONALLY: completely reset the web driver for each URL,\n",
    "# which is needed for specific webpages.\n",
    "def FetchPlayTypeTables_ResetPage(urls, years, button):\n",
    "    # Create a headless Firefox browser instance\n",
    "    opt = FirefoxOptions()\n",
    "    opt.add_argument(\"--headless\")\n",
    "    \n",
    "    arr = []\n",
    "    for i,url in enumerate(urls):\n",
    "        driver = webdriver.Firefox(options=opt)\n",
    "        year = years[i]\n",
    "        print(\"Fetching play type data from Year\", year, \"...\")\n",
    "        \n",
    "        driver.get(url)\n",
    "        wait = WebDriverWait(driver, 30)\n",
    "        wait.until(EC.presence_of_element_located((By.XPATH, \"//select[@name='TypeGrouping']\")))\n",
    "        sel = Select(driver.find_element_by_name('TypeGrouping'))\n",
    "        sel.select_by_visible_text(button)\n",
    "        wait.until(EC.presence_of_element_located((By.XPATH, \"//select[contains(@class, 'stats-table-pagination__select')]\")))\n",
    "        sel = Select(driver.find_element_by_class_name('stats-table-pagination__select'))\n",
    "        sel.select_by_visible_text(\"All\")\n",
    "        driver.execute_script(\"window.scrollTo(0, document.body.scrollHeight);var lenOfPage=document.body.scrollHeight;return lenOfPage;\")\n",
    "        \n",
    "        root = lxml.html.fromstring(driver.page_source)\n",
    "        results = root.xpath(\"//*[@class='nba-stat-table__overflow']//table/tbody/tr\")\n",
    "    \n",
    "        # Process the table text and break into columns, \n",
    "        # stripping extraneous newline characters and inserting the season year\n",
    "        counter = 0\n",
    "        for result in results:\n",
    "            item = result.xpath(\"./td//text()\")\n",
    "            item = [re.sub('\\n +', '', x) for x in item]\n",
    "            data = [x for x in item if x != '' and x != '\\n']            \n",
    "            if len(data) != 17:\n",
    "                continue\n",
    "            del data[-15]\n",
    "            del data[-15]\n",
    "            #% on indices 2, 7-14\n",
    "            data = [s.strip('%') for s in data]\n",
    "            data.insert(1, int(year))\n",
    "            arr.append(data)\n",
    "            counter += 1\n",
    "            #print(data)\n",
    "            \n",
    "        print(\"Fetched stats for\", counter, \"NBA players.\")\n",
    "        driver.quit()\n",
    "\n",
    "    #print(arr)\n",
    "    return np.array(arr)"
   ]
  },
  {
   "cell_type": "markdown",
   "metadata": {},
   "source": [
    "# Scrape Player Data for Transition Plays"
   ]
  },
  {
   "cell_type": "code",
   "execution_count": 6,
   "metadata": {},
   "outputs": [],
   "source": [
    "#off_play_types = ['TR', 'CUT', 'PB', 'MISC', 'ISO', 'PRBH', 'PRRM', 'PU', 'SU', 'HO', 'OS']\n",
    "#def_play_types = ['ISO', 'PRBH', 'PRRM', 'PU', 'SU', 'HO', 'OS']\n",
    "cols = ['name', 'year', '_POSS_', '_FREQ_', '_PPP_', '_PTS_', '_FGM_', '_FGA_', '_FGP_', '_EFGP_', '_FT_FREQ_', '_TO_FREQ_', '_SF_FREQ_', '_AND1_FREQ_', '_SCORE_FREQ_', '_PERC_']\n",
    "#for play_type in play_types:\n",
    "#    off_cols = ['OFF'+s+play_type for i,s in enumerate(cols) if i > 1]\n",
    "#    def_cols = ['DEF'+s+play_type for i,s in enumerate(cols) if i > 1]\n",
    "#    print(off_cols, '\\n', def_cols)"
   ]
  },
  {
   "cell_type": "code",
   "execution_count": 7,
   "metadata": {},
   "outputs": [],
   "source": [
    "# Establish the years for which we want to fetch play-type data from NBA.com\n",
    "ya = [str(n).zfill(2) for n in range(15, 20)]\n",
    "yb = [str(n).zfill(2) for n in range(16, 21)]\n",
    "years = [int(\"20\"+y) for y in yb]"
   ]
  },
  {
   "cell_type": "code",
   "execution_count": 8,
   "metadata": {},
   "outputs": [
    {
     "name": "stdout",
     "output_type": "stream",
     "text": [
      "Fetching play type data from Year 2016 ...\n",
      "Fetched stats for 396 NBA players.\n",
      "Fetching play type data from Year 2017 ...\n",
      "Fetched stats for 399 NBA players.\n",
      "Fetching play type data from Year 2018 ...\n",
      "Fetched stats for 423 NBA players.\n",
      "Fetching play type data from Year 2019 ...\n",
      "Fetched stats for 458 NBA players.\n",
      "Fetching play type data from Year 2020 ...\n",
      "Fetched stats for 347 NBA players.\n",
      "               name  year  OFF_POSS_TR  OFF_FREQ_TR  OFF_PPP_TR  OFF_PTS_TR  \\\n",
      "0      Aaron Brooks  2016          0.9         10.4        0.95         0.8   \n",
      "1      Aaron Brooks  2017          0.6         10.2        0.72         0.4   \n",
      "2      Aaron Gordon  2016          1.6         17.4        1.08         1.8   \n",
      "3      Aaron Gordon  2017          2.6         19.9        1.03         2.7   \n",
      "4      Aaron Gordon  2018          3.7         20.1        0.96         3.6   \n",
      "...             ...   ...          ...          ...         ...         ...   \n",
      "1892  Zach Randolph  2018          0.7          4.5        1.15         0.8   \n",
      "1893  Zaza Pachulia  2016          0.4          4.1        1.17         0.4   \n",
      "1894  Zaza Pachulia  2017          0.6          9.1        1.39         0.8   \n",
      "1895  Zaza Pachulia  2018          0.7         12.6        1.17         0.8   \n",
      "1896  Zaza Pachulia  2019          0.2          5.2        1.63         0.4   \n",
      "\n",
      "      OFF_FGM_TR  OFF_FGA_TR  OFF_FGP_TR  OFF_EFGP_TR  OFF_FT_FREQ_TR  \\\n",
      "0            0.4         0.7        39.2         52.0             3.3   \n",
      "1            0.3         0.4        33.3         46.3             5.1   \n",
      "2            0.5         1.1        55.8         58.1            24.4   \n",
      "3            0.9         1.9        53.6         56.5            17.2   \n",
      "4            1.5         2.8        47.3         52.7            12.1   \n",
      "...          ...         ...         ...          ...             ...   \n",
      "1892         0.3         0.6        55.6         65.3             2.4   \n",
      "1893         0.1         0.3        45.0         45.0            31.0   \n",
      "1894         0.2         0.5        67.6         67.6            14.6   \n",
      "1895         0.2         0.5        61.8         61.8            18.8   \n",
      "1896         0.0         0.2        76.9         76.9            25.0   \n",
      "\n",
      "      OFF_TO_FREQ_TR  OFF_SF_FREQ_TR  OFF_AND1_FREQ_TR  OFF_SCORE_FREQ_TR  \\\n",
      "0               11.7             3.3               0.0               36.7   \n",
      "1               25.6             5.1               0.0               28.2   \n",
      "2               12.6            21.3               4.7               54.3   \n",
      "3               12.4            16.7               2.9               51.7   \n",
      "4               13.6            10.7               3.3               44.4   \n",
      "...              ...             ...               ...                ...   \n",
      "1892            12.2             2.4               2.4               48.8   \n",
      "1893             0.0            31.0               0.0               58.6   \n",
      "1894             2.4            14.6               0.0               70.7   \n",
      "1895            14.6            18.8               4.2               58.3   \n",
      "1896             0.0            25.0               6.3               81.3   \n",
      "\n",
      "      OFF_PERC_TR  \n",
      "0            20.3  \n",
      "1             4.2  \n",
      "2            43.9  \n",
      "3            37.1  \n",
      "4            23.9  \n",
      "...           ...  \n",
      "1892         58.1  \n",
      "1893         64.4  \n",
      "1894         92.5  \n",
      "1895         62.4  \n",
      "1896         99.0  \n",
      "\n",
      "[1897 rows x 16 columns]\n"
     ]
    }
   ],
   "source": [
    "# Scrape transition play-type data, fetch the data in 2D array format,\n",
    "# and convert to a dataframe format with the appropriate data types\n",
    "play_type = \"TR\"\n",
    "off_cols = ['name', 'year'] + ['OFF'+s+play_type for i,s in enumerate(cols) if i > 1]\n",
    "#urls = [ \"https://stats.nba.com/players/transition/?SeasonYear=2018-19&SeasonType=Regular%20Season&sort=PLAYER_NAME&dir=-1\" ]\n",
    "urls = [ \"https://stats.nba.com/players/transition/?SeasonYear=20{0}-{1}&SeasonType=Regular%20Season&sort=PLAYER_NAME&dir=-1\".format(ya[i], yb[i]) for i in range(len(ya)) ]\n",
    "#print(urls)\n",
    "np_arr_trans = FetchPlayTypeTables(urls, years, \"Offensive\")\n",
    "df_trans = pd.DataFrame(np_arr_trans, columns=off_cols)\n",
    "df_trans = ConvertDataFrame(df_trans)\n",
    "#print(df_trans.dtypes)\n",
    "print(df_trans)\n"
   ]
  },
  {
   "cell_type": "markdown",
   "metadata": {},
   "source": [
    "# Scrape Player Data for Isolation Plays"
   ]
  },
  {
   "cell_type": "code",
   "execution_count": 9,
   "metadata": {},
   "outputs": [
    {
     "name": "stdout",
     "output_type": "stream",
     "text": [
      "Fetching play type data from Year 2016 ...\n",
      "Fetched stats for 287 NBA players.\n",
      "Fetching play type data from Year 2017 ...\n",
      "Fetched stats for 288 NBA players.\n",
      "Fetching play type data from Year 2018 ...\n",
      "Fetched stats for 277 NBA players.\n",
      "Fetching play type data from Year 2019 ...\n",
      "Fetched stats for 287 NBA players.\n",
      "Fetching play type data from Year 2020 ...\n",
      "Fetched stats for 165 NBA players.\n",
      "Fetching play type data from Year 2016 ...\n",
      "Fetched stats for 380 NBA players.\n",
      "Fetching play type data from Year 2017 ...\n",
      "Fetched stats for 387 NBA players.\n",
      "Fetching play type data from Year 2018 ...\n",
      "Fetched stats for 383 NBA players.\n",
      "Fetching play type data from Year 2019 ...\n",
      "Fetched stats for 411 NBA players.\n",
      "Fetching play type data from Year 2020 ...\n",
      "Fetched stats for 304 NBA players.\n"
     ]
    }
   ],
   "source": [
    "# Scrape isolation play-type data, fetch the data in 2D array format,\n",
    "# and convert to a dataframe format with the appropriate data types\n",
    "play_type = \"ISO\"\n",
    "off_cols = ['name', 'year'] + ['OFF'+s+play_type for i,s in enumerate(cols) if i > 1]\n",
    "def_cols = ['name', 'year'] + ['DEF'+s+play_type for i,s in enumerate(cols) if i > 1]\n",
    "urls = [ \"https://stats.nba.com/players/isolation/?SeasonYear=20{0}-{1}&SeasonType=Regular%20Season&sort=PLAYER_NAME&dir=-1\".format(ya[i], yb[i]) for i in range(len(ya)) ]\n",
    "\n",
    "np_arr_iso = FetchPlayTypeTables(urls, years, \"Offensive\")\n",
    "df_iso = pd.DataFrame(np_arr_iso, columns=off_cols)\n",
    "df_iso = ConvertDataFrame(df_iso)\n",
    "\n",
    "np_arr_iso = FetchPlayTypeTables(urls, years, \"Defensive\")\n",
    "df_iso2 = pd.DataFrame(np_arr_iso, columns=def_cols)\n",
    "df_iso2 = ConvertDataFrame(df_iso2)\n"
   ]
  },
  {
   "cell_type": "markdown",
   "metadata": {},
   "source": [
    "# Scrape Player Data for Pick-and-Roll Plays"
   ]
  },
  {
   "cell_type": "code",
   "execution_count": 10,
   "metadata": {
    "scrolled": false
   },
   "outputs": [
    {
     "name": "stdout",
     "output_type": "stream",
     "text": [
      "Fetching play type data from Year 2016 ...\n",
      "https://stats.nba.com/players/ball-handler/#!?SeasonYear=2015-16&SeasonType=Regular%20Season&sort=PLAYER_NAME&dir=-1\n",
      "Fetched stats for 272 NBA players.\n",
      "Fetching play type data from Year 2017 ...\n",
      "https://stats.nba.com/players/ball-handler/#!?SeasonYear=2016-17&SeasonType=Regular%20Season&sort=PLAYER_NAME&dir=-1\n",
      "Fetched stats for 265 NBA players.\n",
      "Fetching play type data from Year 2018 ...\n",
      "https://stats.nba.com/players/ball-handler/#!?SeasonYear=2017-18&SeasonType=Regular%20Season&sort=PLAYER_NAME&dir=-1\n",
      "Fetched stats for 302 NBA players.\n",
      "Fetching play type data from Year 2019 ...\n",
      "https://stats.nba.com/players/ball-handler/#!?SeasonYear=2018-19&SeasonType=Regular%20Season&sort=PLAYER_NAME&dir=-1\n",
      "Fetched stats for 308 NBA players.\n",
      "Fetching play type data from Year 2020 ...\n",
      "https://stats.nba.com/players/ball-handler/#!?SeasonYear=2019-20&SeasonType=Regular%20Season&sort=PLAYER_NAME&dir=-1\n",
      "Fetched stats for 241 NBA players.\n",
      "Fetching play type data from Year 2016 ...\n",
      "https://stats.nba.com/players/ball-handler/#!?SeasonYear=2015-16&SeasonType=Regular%20Season&sort=PLAYER_NAME&dir=-1\n",
      "Fetched stats for 312 NBA players.\n",
      "Fetching play type data from Year 2017 ...\n",
      "https://stats.nba.com/players/ball-handler/#!?SeasonYear=2016-17&SeasonType=Regular%20Season&sort=PLAYER_NAME&dir=-1\n",
      "Fetched stats for 327 NBA players.\n",
      "Fetching play type data from Year 2018 ...\n",
      "https://stats.nba.com/players/ball-handler/#!?SeasonYear=2017-18&SeasonType=Regular%20Season&sort=PLAYER_NAME&dir=-1\n",
      "Fetched stats for 367 NBA players.\n",
      "Fetching play type data from Year 2019 ...\n",
      "https://stats.nba.com/players/ball-handler/#!?SeasonYear=2018-19&SeasonType=Regular%20Season&sort=PLAYER_NAME&dir=-1\n",
      "Fetched stats for 395 NBA players.\n",
      "Fetching play type data from Year 2020 ...\n",
      "https://stats.nba.com/players/ball-handler/#!?SeasonYear=2019-20&SeasonType=Regular%20Season&sort=PLAYER_NAME&dir=-1\n",
      "Fetched stats for 302 NBA players.\n"
     ]
    }
   ],
   "source": [
    "# Scrape pick-and-roll ball handler play-type data, fetch the data in 2D array format,\n",
    "# and convert to a dataframe format with the appropriate data types\n",
    "play_type = \"PRBH\"\n",
    "off_cols = ['name', 'year'] + ['OFF'+s+play_type for i,s in enumerate(cols) if i > 1]\n",
    "def_cols = ['name', 'year'] + ['DEF'+s+play_type for i,s in enumerate(cols) if i > 1]\n",
    "urls = [ \"https://stats.nba.com/players/ball-handler/#!?SeasonYear=20{0}-{1}&SeasonType=Regular%20Season&sort=PLAYER_NAME&dir=-1\".format(ya[i], yb[i]) for i in range(len(ya)) ]\n",
    "#print(urls)\n",
    "\n",
    "np_arr_prbh = FetchPlayTypeTables_ResetPage(urls, years, \"Offensive\")\n",
    "df_prbh = pd.DataFrame(np_arr_prbh, columns=off_cols)\n",
    "df_prbh = ConvertDataFrame(df_prbh)\n",
    "\n",
    "np_arr_prbh = FetchPlayTypeTables_ResetPage(urls, years, \"Defensive\")\n",
    "df_prbh2 = pd.DataFrame(np_arr_prbh, columns=def_cols)\n",
    "df_prbh2 = ConvertDataFrame(df_prbh2)\n"
   ]
  },
  {
   "cell_type": "code",
   "execution_count": 11,
   "metadata": {},
   "outputs": [
    {
     "name": "stdout",
     "output_type": "stream",
     "text": [
      "Fetching play type data from Year 2016 ...\n",
      "Fetched stats for 202 NBA players.\n",
      "Fetching play type data from Year 2017 ...\n",
      "Fetched stats for 196 NBA players.\n",
      "Fetching play type data from Year 2018 ...\n",
      "Fetched stats for 190 NBA players.\n",
      "Fetching play type data from Year 2019 ...\n",
      "Fetched stats for 201 NBA players.\n",
      "Fetching play type data from Year 2020 ...\n",
      "Fetched stats for 157 NBA players.\n",
      "Fetching play type data from Year 2016 ...\n",
      "Fetched stats for 272 NBA players.\n",
      "Fetching play type data from Year 2017 ...\n",
      "Fetched stats for 282 NBA players.\n",
      "Fetching play type data from Year 2018 ...\n",
      "Fetched stats for 293 NBA players.\n",
      "Fetching play type data from Year 2019 ...\n",
      "Fetched stats for 268 NBA players.\n",
      "Fetching play type data from Year 2020 ...\n",
      "Fetched stats for 161 NBA players.\n"
     ]
    }
   ],
   "source": [
    "# Scrape pick-and-roll roll man play-type data, fetch the data in 2D array format,\n",
    "# and convert to a dataframe format with the appropriate data types\n",
    "play_type = \"PRRM\"\n",
    "off_cols = ['name', 'year'] + ['OFF'+s+play_type for i,s in enumerate(cols) if i > 1]\n",
    "def_cols = ['name', 'year'] + ['DEF'+s+play_type for i,s in enumerate(cols) if i > 1]\n",
    "urls = [ \"https://stats.nba.com/players/roll-man/?SeasonYear=20{0}-{1}&SeasonType=Regular%20Season&sort=PLAYER_NAME&dir=-1\".format(ya[i], yb[i]) for i in range(len(ya)) ]\n",
    "\n",
    "np_arr_prrm = FetchPlayTypeTables(urls, years, \"Offensive\")\n",
    "df_prrm = pd.DataFrame(np_arr_prrm, columns=off_cols)\n",
    "df_prrm = ConvertDataFrame(df_prrm)\n",
    "\n",
    "np_arr_prrm = FetchPlayTypeTables(urls, years, \"Defensive\")\n",
    "df_prrm2 = pd.DataFrame(np_arr_prrm, columns=def_cols)\n",
    "df_prrm2 = ConvertDataFrame(df_prrm2)\n"
   ]
  },
  {
   "cell_type": "markdown",
   "metadata": {},
   "source": [
    "# Scrape Player Data for Post-Up Plays"
   ]
  },
  {
   "cell_type": "code",
   "execution_count": 12,
   "metadata": {},
   "outputs": [
    {
     "name": "stdout",
     "output_type": "stream",
     "text": [
      "Fetching play type data from Year 2016 ...\n",
      "Fetched stats for 216 NBA players.\n",
      "Fetching play type data from Year 2017 ...\n",
      "Fetched stats for 184 NBA players.\n",
      "Fetching play type data from Year 2018 ...\n",
      "Fetched stats for 192 NBA players.\n",
      "Fetching play type data from Year 2019 ...\n",
      "Fetched stats for 195 NBA players.\n",
      "Fetching play type data from Year 2020 ...\n",
      "Fetched stats for 113 NBA players.\n",
      "Fetching play type data from Year 2016 ...\n",
      "Fetched stats for 374 NBA players.\n",
      "Fetching play type data from Year 2017 ...\n",
      "Fetched stats for 358 NBA players.\n",
      "Fetching play type data from Year 2018 ...\n",
      "Fetched stats for 371 NBA players.\n",
      "Fetching play type data from Year 2019 ...\n",
      "Fetched stats for 387 NBA players.\n",
      "Fetching play type data from Year 2020 ...\n",
      "Fetched stats for 250 NBA players.\n"
     ]
    }
   ],
   "source": [
    "# Scrape post up play-type data, fetch the data in 2D array format,\n",
    "# and convert to a dataframe format with the appropriate data types\n",
    "play_type = \"PU\"\n",
    "off_cols = ['name', 'year'] + ['OFF'+s+play_type for i,s in enumerate(cols) if i > 1]\n",
    "def_cols = ['name', 'year'] + ['DEF'+s+play_type for i,s in enumerate(cols) if i > 1]\n",
    "urls = [ \"https://stats.nba.com/players/playtype-post-up/?SeasonYear=20{0}-{1}&SeasonType=Regular%20Season&sort=PLAYER_NAME&dir=-1\".format(ya[i], yb[i]) for i in range(len(ya)) ]\n",
    "\n",
    "np_arr_pu = FetchPlayTypeTables(urls, years, \"Offensive\")\n",
    "df_pu = pd.DataFrame(np_arr_pu, columns=off_cols)\n",
    "df_pu = ConvertDataFrame(df_pu)\n",
    "\n",
    "np_arr_pu = FetchPlayTypeTables(urls, years, \"Defensive\")\n",
    "df_pu2 = pd.DataFrame(np_arr_pu, columns=def_cols)\n",
    "df_pu2 = ConvertDataFrame(df_pu2)\n"
   ]
  },
  {
   "cell_type": "markdown",
   "metadata": {},
   "source": [
    "# Scrape Player Data for Spot-Up Plays"
   ]
  },
  {
   "cell_type": "code",
   "execution_count": 13,
   "metadata": {},
   "outputs": [
    {
     "name": "stdout",
     "output_type": "stream",
     "text": [
      "Fetching play type data from Year 2016 ...\n",
      "Fetched stats for 392 NBA players.\n",
      "Fetching play type data from Year 2017 ...\n",
      "Fetched stats for 396 NBA players.\n",
      "Fetching play type data from Year 2018 ...\n",
      "Fetched stats for 428 NBA players.\n",
      "Fetching play type data from Year 2019 ...\n",
      "Fetched stats for 458 NBA players.\n",
      "Fetching play type data from Year 2020 ...\n",
      "Fetched stats for 359 NBA players.\n",
      "Fetching play type data from Year 2016 ...\n",
      "Fetched stats for 417 NBA players.\n",
      "Fetching play type data from Year 2017 ...\n",
      "Fetched stats for 413 NBA players.\n",
      "Fetching play type data from Year 2018 ...\n",
      "Fetched stats for 438 NBA players.\n",
      "Fetching play type data from Year 2019 ...\n",
      "Fetched stats for 477 NBA players.\n",
      "Fetching play type data from Year 2020 ...\n",
      "Fetched stats for 382 NBA players.\n"
     ]
    }
   ],
   "source": [
    "# Scrape spot up play-type data, fetch the data in 2D array format,\n",
    "# and convert to a dataframe format with the appropriate data types\n",
    "play_type = \"SU\"\n",
    "off_cols = ['name', 'year'] + ['OFF'+s+play_type for i,s in enumerate(cols) if i > 1]\n",
    "def_cols = ['name', 'year'] + ['DEF'+s+play_type for i,s in enumerate(cols) if i > 1]\n",
    "urls = [ \"https://stats.nba.com/players/spot-up/?SeasonYear=20{0}-{1}&SeasonType=Regular%20Season&sort=PLAYER_NAME&dir=-1\".format(ya[i], yb[i]) for i in range(len(ya)) ]\n",
    "\n",
    "np_arr_su = FetchPlayTypeTables(urls, years, \"Offensive\")\n",
    "df_su = pd.DataFrame(np_arr_su, columns=off_cols)\n",
    "df_su = ConvertDataFrame(df_su)\n",
    "\n",
    "np_arr_su = FetchPlayTypeTables(urls, years, \"Defensive\")\n",
    "df_su2 = pd.DataFrame(np_arr_su, columns=def_cols)\n",
    "df_su2 = ConvertDataFrame(df_su2)\n"
   ]
  },
  {
   "cell_type": "markdown",
   "metadata": {},
   "source": [
    "# Scrape Player Data for Hand-Off Plays"
   ]
  },
  {
   "cell_type": "code",
   "execution_count": 14,
   "metadata": {},
   "outputs": [
    {
     "name": "stdout",
     "output_type": "stream",
     "text": [
      "Fetching play type data from Year 2016 ...\n",
      "Fetched stats for 233 NBA players.\n",
      "Fetching play type data from Year 2017 ...\n",
      "Fetched stats for 235 NBA players.\n",
      "Fetching play type data from Year 2018 ...\n",
      "Fetched stats for 256 NBA players.\n",
      "Fetching play type data from Year 2019 ...\n",
      "Fetched stats for 280 NBA players.\n",
      "Fetching play type data from Year 2020 ...\n",
      "Fetched stats for 198 NBA players.\n",
      "Fetching play type data from Year 2016 ...\n",
      "Fetched stats for 269 NBA players.\n",
      "Fetching play type data from Year 2017 ...\n",
      "Fetched stats for 279 NBA players.\n",
      "Fetching play type data from Year 2018 ...\n",
      "Fetched stats for 302 NBA players.\n",
      "Fetching play type data from Year 2019 ...\n",
      "Fetched stats for 340 NBA players.\n",
      "Fetching play type data from Year 2020 ...\n",
      "Fetched stats for 239 NBA players.\n"
     ]
    }
   ],
   "source": [
    "# Scrape hand off play-type data, fetch the data in 2D array format,\n",
    "# and convert to a dataframe format with the appropriate data types\n",
    "play_type = \"HO\"\n",
    "off_cols = ['name', 'year'] + ['OFF'+s+play_type for i,s in enumerate(cols) if i > 1]\n",
    "def_cols = ['name', 'year'] + ['DEF'+s+play_type for i,s in enumerate(cols) if i > 1]\n",
    "urls = [ \"https://stats.nba.com/players/hand-off/?SeasonYear=20{0}-{1}&SeasonType=Regular%20Season&sort=PLAYER_NAME&dir=-1\".format(ya[i], yb[i]) for i in range(len(ya)) ]\n",
    "\n",
    "np_arr_ho = FetchPlayTypeTables(urls, years, \"Offensive\")\n",
    "df_ho = pd.DataFrame(np_arr_ho, columns=off_cols)\n",
    "df_ho = ConvertDataFrame(df_ho)\n",
    "\n",
    "np_arr_ho = FetchPlayTypeTables(urls, years, \"Defensive\")\n",
    "df_ho2 = pd.DataFrame(np_arr_ho, columns=def_cols)\n",
    "df_ho2 = ConvertDataFrame(df_ho2)\n"
   ]
  },
  {
   "cell_type": "markdown",
   "metadata": {},
   "source": [
    "# Scrape Player Data for Cutting Plays"
   ]
  },
  {
   "cell_type": "code",
   "execution_count": 15,
   "metadata": {},
   "outputs": [
    {
     "name": "stdout",
     "output_type": "stream",
     "text": [
      "Fetching play type data from Year 2016 ...\n",
      "Fetched stats for 334 NBA players.\n",
      "Fetching play type data from Year 2017 ...\n",
      "Fetched stats for 334 NBA players.\n",
      "Fetching play type data from Year 2018 ...\n",
      "Fetched stats for 340 NBA players.\n",
      "Fetching play type data from Year 2019 ...\n",
      "Fetched stats for 360 NBA players.\n",
      "Fetching play type data from Year 2020 ...\n",
      "Fetched stats for 245 NBA players.\n"
     ]
    }
   ],
   "source": [
    "# Scrape cutting play-type data, fetch the data in 2D array format,\n",
    "# and convert to a dataframe format with the appropriate data types\n",
    "play_type = \"CUT\"\n",
    "off_cols = ['name', 'year'] + ['OFF'+s+play_type for i,s in enumerate(cols) if i > 1]\n",
    "def_cols = ['name', 'year'] + ['DEF'+s+play_type for i,s in enumerate(cols) if i > 1]\n",
    "urls = [ \"https://stats.nba.com/players/cut/?SeasonYear=20{0}-{1}&SeasonType=Regular%20Season&sort=PLAYER_NAME&dir=-1\".format(ya[i], yb[i]) for i in range(len(ya)) ]\n",
    "\n",
    "np_arr_cut = FetchPlayTypeTables(urls, years, \"Offensive\")\n",
    "df_cut = pd.DataFrame(np_arr_cut, columns=off_cols)\n",
    "df_cut = ConvertDataFrame(df_cut)\n"
   ]
  },
  {
   "cell_type": "markdown",
   "metadata": {},
   "source": [
    "# Scrape Player Data for Off-Screen Plays"
   ]
  },
  {
   "cell_type": "code",
   "execution_count": 18,
   "metadata": {},
   "outputs": [
    {
     "name": "stdout",
     "output_type": "stream",
     "text": [
      "Fetching play type data from Year 2016 ...\n",
      "Fetched stats for 238 NBA players.\n",
      "Fetching play type data from Year 2017 ...\n",
      "Fetched stats for 246 NBA players.\n",
      "Fetching play type data from Year 2018 ...\n",
      "Fetched stats for 247 NBA players.\n",
      "Fetching play type data from Year 2019 ...\n",
      "Fetched stats for 229 NBA players.\n",
      "Fetching play type data from Year 2020 ...\n",
      "Fetched stats for 172 NBA players.\n",
      "Fetching play type data from Year 2016 ...\n",
      "Fetched stats for 331 NBA players.\n",
      "Fetching play type data from Year 2017 ...\n",
      "Fetched stats for 336 NBA players.\n",
      "Fetching play type data from Year 2018 ...\n",
      "Fetched stats for 339 NBA players.\n",
      "Fetching play type data from Year 2019 ...\n",
      "Fetched stats for 351 NBA players.\n",
      "Fetching play type data from Year 2020 ...\n",
      "Fetched stats for 239 NBA players.\n"
     ]
    }
   ],
   "source": [
    "# Scrape off screen play-type data, fetch the data in 2D array format,\n",
    "# and convert to a dataframe format with the appropriate data types\n",
    "play_type = \"OS\"\n",
    "off_cols = ['name', 'year'] + ['OFF'+s+play_type for i,s in enumerate(cols) if i > 1]\n",
    "def_cols = ['name', 'year'] + ['DEF'+s+play_type for i,s in enumerate(cols) if i > 1]\n",
    "urls = [ \"https://stats.nba.com/players/off-screen/?SeasonYear=20{0}-{1}&SeasonType=Regular%20Season&sort=PLAYER_NAME&dir=-1\".format(ya[i], yb[i]) for i in range(len(ya)) ]\n",
    "\n",
    "np_arr_os = FetchPlayTypeTables(urls, years, \"Offensive\")\n",
    "df_os = pd.DataFrame(np_arr_os, columns=off_cols)\n",
    "df_os = ConvertDataFrame(df_os)\n",
    "\n",
    "np_arr_os = FetchPlayTypeTables(urls, years, \"Defensive\")\n",
    "df_os2 = pd.DataFrame(np_arr_os, columns=def_cols)\n",
    "df_os2 = ConvertDataFrame(df_os2)\n"
   ]
  },
  {
   "cell_type": "markdown",
   "metadata": {},
   "source": [
    "# Scrape Player Data for Put-Back Plays"
   ]
  },
  {
   "cell_type": "code",
   "execution_count": 20,
   "metadata": {},
   "outputs": [
    {
     "name": "stdout",
     "output_type": "stream",
     "text": [
      "Fetching play type data from Year 2016 ...\n",
      "Fetched stats for 287 NBA players.\n",
      "Fetching play type data from Year 2017 ...\n",
      "Fetched stats for 280 NBA players.\n",
      "Fetching play type data from Year 2018 ...\n",
      "Fetched stats for 282 NBA players.\n",
      "Fetching play type data from Year 2019 ...\n",
      "Fetched stats for 309 NBA players.\n",
      "Fetching play type data from Year 2020 ...\n",
      "Fetched stats for 202 NBA players.\n"
     ]
    }
   ],
   "source": [
    "# Scrape put-back play-type data, fetch the data in 2D array format,\n",
    "# and convert to a dataframe format with the appropriate data types\n",
    "play_type = \"PB\"\n",
    "off_cols = ['name', 'year'] + ['OFF'+s+play_type for i,s in enumerate(cols) if i > 1]\n",
    "def_cols = ['name', 'year'] + ['DEF'+s+play_type for i,s in enumerate(cols) if i > 1]\n",
    "urls = [ \"https://stats.nba.com/players/putbacks/?SeasonYear=20{0}-{1}&SeasonType=Regular%20Season&sort=PLAYER_NAME&dir=-1\".format(ya[i], yb[i]) for i in range(len(ya)) ]\n",
    "\n",
    "np_arr_pb = FetchPlayTypeTables(urls, years, \"Offensive\")\n",
    "df_pb = pd.DataFrame(np_arr_pb, columns=off_cols)\n",
    "df_pb = ConvertDataFrame(df_pb)\n"
   ]
  },
  {
   "cell_type": "markdown",
   "metadata": {},
   "source": [
    "# Scrape Player Data for Miscellaneous Play-Types"
   ]
  },
  {
   "cell_type": "code",
   "execution_count": 21,
   "metadata": {},
   "outputs": [
    {
     "name": "stdout",
     "output_type": "stream",
     "text": [
      "Fetching play type data from Year 2016 ...\n",
      "Fetched stats for 366 NBA players.\n",
      "Fetching play type data from Year 2017 ...\n",
      "Fetched stats for 362 NBA players.\n",
      "Fetching play type data from Year 2018 ...\n",
      "Fetched stats for 361 NBA players.\n",
      "Fetching play type data from Year 2019 ...\n",
      "Fetched stats for 377 NBA players.\n",
      "Fetching play type data from Year 2020 ...\n",
      "Fetched stats for 284 NBA players.\n"
     ]
    }
   ],
   "source": [
    "# Scrape miscellaneous play-type data, fetch the data in 2D array format,\n",
    "# and convert to a dataframe format with the appropriate data types\n",
    "play_type = \"MISC\"\n",
    "off_cols = ['name', 'year'] + ['OFF'+s+play_type for i,s in enumerate(cols) if i > 1]\n",
    "def_cols = ['name', 'year'] + ['DEF'+s+play_type for i,s in enumerate(cols) if i > 1]\n",
    "urls = [ \"https://stats.nba.com/players/playtype-misc/?SeasonYear=20{0}-{1}&SeasonType=Regular%20Season&sort=PLAYER_NAME&dir=-1\".format(ya[i], yb[i]) for i in range(len(ya)) ]\n",
    "\n",
    "np_arr_misc = FetchPlayTypeTables(urls, years, \"Offensive\")\n",
    "df_misc = pd.DataFrame(np_arr_misc, columns=off_cols)\n",
    "df_misc = ConvertDataFrame(df_misc)\n"
   ]
  },
  {
   "cell_type": "markdown",
   "metadata": {},
   "source": [
    "# Merge and Store Dataframes"
   ]
  },
  {
   "cell_type": "code",
   "execution_count": 22,
   "metadata": {},
   "outputs": [],
   "source": [
    "# Create a complete dataframe, performing an outer merge so as\n",
    "# not to exclude players who play with a couple of play types exclusively\n",
    "df = pd.merge(df_trans, df_iso, on=['name', 'year'], how='outer')\n",
    "df = pd.merge(df, df_iso2, on=['name', 'year'], how='outer')\n",
    "df = pd.merge(df, df_prbh, on=['name', 'year'], how='outer')\n",
    "df = pd.merge(df, df_prbh2, on=['name', 'year'], how='outer')\n",
    "df = pd.merge(df, df_prrm, on=['name', 'year'], how='outer')\n",
    "df = pd.merge(df, df_prrm2, on=['name', 'year'], how='outer')\n",
    "df = pd.merge(df, df_pu, on=['name', 'year'], how='outer')\n",
    "df = pd.merge(df, df_pu2, on=['name', 'year'], how='outer')\n",
    "df = pd.merge(df, df_su, on=['name', 'year'], how='outer')\n",
    "df = pd.merge(df, df_su2, on=['name', 'year'], how='outer')\n",
    "df = pd.merge(df, df_ho, on=['name', 'year'], how='outer')\n",
    "df = pd.merge(df, df_ho2, on=['name', 'year'], how='outer')\n",
    "df = pd.merge(df, df_cut, on=['name', 'year'], how='outer')\n",
    "df = pd.merge(df, df_os, on=['name', 'year'], how='outer')\n",
    "df = pd.merge(df, df_os2, on=['name', 'year'], how='outer')\n",
    "df = pd.merge(df, df_pb, on=['name', 'year'], how='outer')\n",
    "df = pd.merge(df, df_misc, on=['name', 'year'], how='outer')\n",
    "\n",
    "# Scale percentage quantities to be in range 0-1 (for convenience)\n",
    "perc_cols = [col for col in df.columns if 'FGP' in col or '3PP' in col or 'FTP' in col or 'PERC' in col or 'PCT' in col or 'FREQ' in col]\n",
    "df[perc_cols] = df[perc_cols].astype(float)/100.\n"
   ]
  },
  {
   "cell_type": "code",
   "execution_count": 23,
   "metadata": {},
   "outputs": [
    {
     "name": "stdout",
     "output_type": "stream",
     "text": [
      "                  name  year  OFF_POSS_TR  OFF_FREQ_TR  OFF_PPP_TR  \\\n",
      "0         Aaron Brooks  2016          0.9        0.104        0.95   \n",
      "1         Aaron Brooks  2017          0.6        0.102        0.72   \n",
      "2         Aaron Gordon  2016          1.6        0.174        1.08   \n",
      "3         Aaron Gordon  2017          2.6        0.199        1.03   \n",
      "4         Aaron Gordon  2018          3.7        0.201        0.96   \n",
      "...                ...   ...          ...          ...         ...   \n",
      "2028    Devin Robinson  2019          0.0        0.000        0.00   \n",
      "2029  Jared Cunningham  2016          0.0        0.000        0.00   \n",
      "2030     Jarrod Uthoff  2017          0.0        0.000        0.00   \n",
      "2031    Alex Stepheson  2016          0.0        0.000        0.00   \n",
      "2032       Jack Cooley  2018          0.0        0.000        0.00   \n",
      "\n",
      "      OFF_PTS_TR  OFF_FGM_TR  OFF_FGA_TR  OFF_FGP_TR  OFF_EFGP_TR  ...  \\\n",
      "0            0.8         0.4         0.7       0.392        0.520  ...   \n",
      "1            0.4         0.3         0.4       0.333        0.463  ...   \n",
      "2            1.8         0.5         1.1       0.558        0.581  ...   \n",
      "3            2.7         0.9         1.9       0.536        0.565  ...   \n",
      "4            3.6         1.5         2.8       0.473        0.527  ...   \n",
      "...          ...         ...         ...         ...          ...  ...   \n",
      "2028         0.0         0.0         0.0       0.000        0.000  ...   \n",
      "2029         0.0         0.0         0.0       0.000        0.000  ...   \n",
      "2030         0.0         0.0         0.0       0.000        0.000  ...   \n",
      "2031         0.0         0.0         0.0       0.000        0.000  ...   \n",
      "2032         0.0         0.0         0.0       0.000        0.000  ...   \n",
      "\n",
      "      OFF_FGM_MISC  OFF_FGA_MISC  OFF_FGP_MISC  OFF_EFGP_MISC  \\\n",
      "0              0.1           0.2         0.167          0.167   \n",
      "1              0.1           0.2         0.180          0.227   \n",
      "2              0.2           0.3         0.400          0.425   \n",
      "3              0.1           0.2         0.440          0.469   \n",
      "4              0.2           0.3         0.375          0.438   \n",
      "...            ...           ...           ...            ...   \n",
      "2028           0.0           0.0         0.000          0.000   \n",
      "2029           0.0           0.0         0.000          0.000   \n",
      "2030           0.0           0.0         0.000          0.000   \n",
      "2031           0.0           0.0         0.000          0.000   \n",
      "2032           0.0           0.0         0.000          0.000   \n",
      "\n",
      "      OFF_FT_FREQ_MISC  OFF_TO_FREQ_MISC  OFF_SF_FREQ_MISC  \\\n",
      "0                0.207             0.379             0.034   \n",
      "1                0.095             0.381             0.000   \n",
      "2                0.283             0.358             0.057   \n",
      "3                0.195             0.415             0.049   \n",
      "4                0.195             0.488             0.098   \n",
      "...                ...               ...               ...   \n",
      "2028             0.000             0.000             0.000   \n",
      "2029             0.000             0.000             0.000   \n",
      "2030             0.000             0.000             0.000   \n",
      "2031             0.000             0.000             0.000   \n",
      "2032             0.000             0.000             0.000   \n",
      "\n",
      "      OFF_AND1_FREQ_MISC  OFF_SCORE_FREQ_MISC  OFF_PERC_MISC  \n",
      "0                   0.00                0.276          0.311  \n",
      "1                   0.00                0.190          0.382  \n",
      "2                   0.02                0.377          0.729  \n",
      "3                   0.00                0.366          0.755  \n",
      "4                   0.07                0.268          0.547  \n",
      "...                  ...                  ...            ...  \n",
      "2028                0.00                0.000          0.000  \n",
      "2029                0.00                0.000          0.000  \n",
      "2030                0.00                0.000          0.000  \n",
      "2031                0.00                0.000          0.000  \n",
      "2032                0.00                0.000          0.000  \n",
      "\n",
      "[2033 rows x 254 columns]\n"
     ]
    }
   ],
   "source": [
    "# Fill all NaN values with 0, which is reasonable for play-type missing values\n",
    "df = df.fillna(0)\n",
    "print(df)"
   ]
  },
  {
   "cell_type": "code",
   "execution_count": 24,
   "metadata": {},
   "outputs": [],
   "source": [
    "# Write overall play-type dataframe to a .csv file\n",
    "df.to_csv(\"NBAPlayTypeStats.csv\")"
   ]
  },
  {
   "cell_type": "code",
   "execution_count": null,
   "metadata": {},
   "outputs": [],
   "source": []
  }
 ],
 "metadata": {
  "kernelspec": {
   "display_name": "Python 3",
   "language": "python",
   "name": "python3"
  },
  "language_info": {
   "codemirror_mode": {
    "name": "ipython",
    "version": 3
   },
   "file_extension": ".py",
   "mimetype": "text/x-python",
   "name": "python",
   "nbconvert_exporter": "python",
   "pygments_lexer": "ipython3",
   "version": "3.7.3"
  },
  "toc": {
   "base_numbering": 1,
   "nav_menu": {},
   "number_sections": true,
   "sideBar": false,
   "skip_h1_title": false,
   "title_cell": "Table of Contents",
   "title_sidebar": "Contents",
   "toc_cell": true,
   "toc_position": {},
   "toc_section_display": true,
   "toc_window_display": false
  }
 },
 "nbformat": 4,
 "nbformat_minor": 2
}
