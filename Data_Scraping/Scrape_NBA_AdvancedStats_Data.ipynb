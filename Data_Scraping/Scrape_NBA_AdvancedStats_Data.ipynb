{
 "cells": [
  {
   "cell_type": "markdown",
   "metadata": {
    "toc": true
   },
   "source": [
    "<h1>Table of Contents<span class=\"tocSkip\"></span></h1>\n",
    "<div class=\"toc\"><ul class=\"toc-item\"><li><span><a href=\"#Scrape-Basic-Player-Stats\" data-toc-modified-id=\"Scrape-Basic-Player-Stats-1\"><span class=\"toc-item-num\">1&nbsp;&nbsp;</span>Scrape Basic Player Stats</a></span></li><li><span><a href=\"#Scrape-Advanced-Player-Stats\" data-toc-modified-id=\"Scrape-Advanced-Player-Stats-2\"><span class=\"toc-item-num\">2&nbsp;&nbsp;</span>Scrape Advanced Player Stats</a></span></li><li><span><a href=\"#Scrape-Defensive-Player-Stats\" data-toc-modified-id=\"Scrape-Defensive-Player-Stats-3\"><span class=\"toc-item-num\">3&nbsp;&nbsp;</span>Scrape Defensive Player Stats</a></span></li><li><span><a href=\"#Scrape-Player-Usage-Stats\" data-toc-modified-id=\"Scrape-Player-Usage-Stats-4\"><span class=\"toc-item-num\">4&nbsp;&nbsp;</span>Scrape Player Usage Stats</a></span></li><li><span><a href=\"#Scrape-Miscellaneous-Player-Stats\" data-toc-modified-id=\"Scrape-Miscellaneous-Player-Stats-5\"><span class=\"toc-item-num\">5&nbsp;&nbsp;</span>Scrape Miscellaneous Player Stats</a></span></li><li><span><a href=\"#Scrape-Player-Distance/Speed-Tracking-Stats\" data-toc-modified-id=\"Scrape-Player-Distance/Speed-Tracking-Stats-6\"><span class=\"toc-item-num\">6&nbsp;&nbsp;</span>Scrape Player Distance/Speed Tracking Stats</a></span></li><li><span><a href=\"#Scrape-Player-Stats-for-Field-Goals-by-Distance\" data-toc-modified-id=\"Scrape-Player-Stats-for-Field-Goals-by-Distance-7\"><span class=\"toc-item-num\">7&nbsp;&nbsp;</span>Scrape Player Stats for Field Goals by Distance</a></span><ul class=\"toc-item\"><li><span><a href=\"#Offensive-Field-Goals-by-Distance\" data-toc-modified-id=\"Offensive-Field-Goals-by-Distance-7.1\"><span class=\"toc-item-num\">7.1&nbsp;&nbsp;</span>Offensive Field Goals by Distance</a></span></li><li><span><a href=\"#Opponent-(Defensive)-Field-Goals-by-Distance\" data-toc-modified-id=\"Opponent-(Defensive)-Field-Goals-by-Distance-7.2\"><span class=\"toc-item-num\">7.2&nbsp;&nbsp;</span>Opponent (Defensive) Field Goals by Distance</a></span></li></ul></li><li><span><a href=\"#Scrape-Player-Stats-for-Shots-by-Defender-Proximity\" data-toc-modified-id=\"Scrape-Player-Stats-for-Shots-by-Defender-Proximity-8\"><span class=\"toc-item-num\">8&nbsp;&nbsp;</span>Scrape Player Stats for Shots by Defender Proximity</a></span></li><li><span><a href=\"#Scrape-Player-Stats-for-Shots-by-Number-of-Dribbles\" data-toc-modified-id=\"Scrape-Player-Stats-for-Shots-by-Number-of-Dribbles-9\"><span class=\"toc-item-num\">9&nbsp;&nbsp;</span>Scrape Player Stats for Shots by Number of Dribbles</a></span></li><li><span><a href=\"#Scrape-Player-Stats-for-Shot-Selection-and-Efficiency\" data-toc-modified-id=\"Scrape-Player-Stats-for-Shot-Selection-and-Efficiency-10\"><span class=\"toc-item-num\">10&nbsp;&nbsp;</span>Scrape Player Stats for Shot Selection and Efficiency</a></span></li><li><span><a href=\"#Scrape-Defensive-Player-Stats-(by-Opponent-Field-Goals)\" data-toc-modified-id=\"Scrape-Defensive-Player-Stats-(by-Opponent-Field-Goals)-11\"><span class=\"toc-item-num\">11&nbsp;&nbsp;</span>Scrape Defensive Player Stats (by Opponent Field Goals)</a></span></li><li><span><a href=\"#Scrape-Player-Passing-and-Assist-Stats\" data-toc-modified-id=\"Scrape-Player-Passing-and-Assist-Stats-12\"><span class=\"toc-item-num\">12&nbsp;&nbsp;</span>Scrape Player Passing and Assist Stats</a></span></li><li><span><a href=\"#Scrape-Player-Rebounding-Stats\" data-toc-modified-id=\"Scrape-Player-Rebounding-Stats-13\"><span class=\"toc-item-num\">13&nbsp;&nbsp;</span>Scrape Player Rebounding Stats</a></span></li><li><span><a href=\"#Scrape-Player-Box-Out-Stats\" data-toc-modified-id=\"Scrape-Player-Box-Out-Stats-14\"><span class=\"toc-item-num\">14&nbsp;&nbsp;</span>Scrape Player Box-Out Stats</a></span></li><li><span><a href=\"#Scrape-Player-Hustle-Stats\" data-toc-modified-id=\"Scrape-Player-Hustle-Stats-15\"><span class=\"toc-item-num\">15&nbsp;&nbsp;</span>Scrape Player Hustle Stats</a></span></li><li><span><a href=\"#Merge-and-Store-Dataframes-for-All-Player-Stats\" data-toc-modified-id=\"Merge-and-Store-Dataframes-for-All-Player-Stats-16\"><span class=\"toc-item-num\">16&nbsp;&nbsp;</span>Merge and Store Dataframes for All Player Stats</a></span></li></ul></div>"
   ]
  },
  {
   "cell_type": "code",
   "execution_count": 1,
   "metadata": {},
   "outputs": [],
   "source": [
    "import numpy as np\n",
    "import urllib.request\n",
    "from selenium import webdriver\n",
    "from selenium.webdriver.support.ui import Select\n",
    "from selenium.webdriver.support import expected_conditions as EC\n",
    "from selenium.webdriver.common.by import By\n",
    "from selenium.webdriver.support.ui import WebDriverWait\n",
    "from selenium.common.exceptions import TimeoutException\n",
    "from selenium.webdriver.firefox.options import Options as FirefoxOptions\n",
    "from selenium.webdriver.chrome.options import Options as ChromeOptions\n",
    "import lxml.html\n",
    "from lxml import etree\n",
    "import re\n",
    "import time\n",
    "import pandas as pd\n",
    "from functools import reduce\n",
    "from operator import itemgetter"
   ]
  },
  {
   "cell_type": "code",
   "execution_count": 2,
   "metadata": {},
   "outputs": [],
   "source": [
    "# Modify dataframe to have appropriate data types\n",
    "def ConvertDataFrame(df):\n",
    "    cols = df.columns.drop(['name'])\n",
    "    df[cols] = df[cols].apply(pd.to_numeric, errors='coerce', axis=1)\n",
    "    df['name'] = df['name'].astype('str')\n",
    "    df['year'] = df['year'].astype('int')\n",
    "    df = df.groupby(['name', 'year']).mean().reset_index()\n",
    "    return df\n"
   ]
  },
  {
   "cell_type": "code",
   "execution_count": 102,
   "metadata": {},
   "outputs": [],
   "source": [
    "# Scrape player data tables from NBA.com webpages, grabbing only\n",
    "# the specified columns (by index) and for the specified seasons\n",
    "def FetchStatsTables(urls, years, col_list):\n",
    "    # Create a headless Firefox browser instance\n",
    "    opt = FirefoxOptions()\n",
    "    opt.add_argument(\"--headless\")\n",
    "    driver = webdriver.Firefox(options=opt)\n",
    "    \n",
    "    arr = []\n",
    "    for i,url in enumerate(urls):\n",
    "        year = years[i]\n",
    "        print(\"Fetching player stats from the\", year, \"season...\")\n",
    "        \n",
    "        driver.get(url)\n",
    "        wait = WebDriverWait(driver, 30)\n",
    "        wait.until(EC.presence_of_element_located((By.XPATH, \"//select[contains(@class, 'stats-table-pagination__select')]\")))\n",
    "        sel = Select(driver.find_element_by_class_name('stats-table-pagination__select'))\n",
    "        sel.select_by_visible_text(\"All\")\n",
    "        driver.execute_script(\"window.scrollTo(0, document.body.scrollHeight);var lenOfPage=document.body.scrollHeight;return lenOfPage;\")\n",
    "        \n",
    "        retries = 1\n",
    "        while retries <= 3:\n",
    "            try:\n",
    "                wait.until(EC.presence_of_element_located((By.XPATH, \"//*[@class='nba-stat-table__overflow']//table/tbody/tr\")))\n",
    "                break\n",
    "            except TimeoutException:\n",
    "                print('\\nRefreshing lineup page due to timeout (retry #', retries,')...')\n",
    "                driver.refresh()\n",
    "                time.sleep(1)\n",
    "                retries += 1\n",
    "\n",
    "        root = lxml.html.fromstring(driver.page_source)\n",
    "        results = root.xpath(\"//*[@class='nba-stat-table__overflow']//table/tbody/tr\")\n",
    "    \n",
    "        # Process the table text and break into columns, \n",
    "        # stripping extraneous newline characters and inserting the season year\n",
    "        counter = 0\n",
    "        for result in results:\n",
    "            item = result.xpath(\"./td//text()\")\n",
    "            item = [re.sub('\\n +', '', x) for x in item]\n",
    "            data = [x for x in item if x != '' and x != '\\n']\n",
    "            data = [s.strip('%') for s in data]\n",
    "            if len(data) < col_list[-1]+1:\n",
    "                continue\n",
    "            data = list(itemgetter(*col_list)(data))\n",
    "            data.insert(1, int(year))\n",
    "            arr.append(data)\n",
    "            counter += 1\n",
    "            #print(data)\n",
    "        \n",
    "        print(\"Fetched stats for\", counter, \"NBA players.\")\n",
    "        \n",
    "    driver.quit()\n",
    "    #print(arr)\n",
    "    return np.array(arr)\n"
   ]
  },
  {
   "cell_type": "markdown",
   "metadata": {},
   "source": [
    "# Scrape Basic Player Stats"
   ]
  },
  {
   "cell_type": "code",
   "execution_count": 100,
   "metadata": {},
   "outputs": [],
   "source": [
    "# Establish the years for which we want to fetch player data\n",
    "# (for data available for 2014-15 onward)\n",
    "ya = [str(n).zfill(2) for n in range(14, 20)]\n",
    "yb = [str(n).zfill(2) for n in range(15, 21)]\n",
    "years = [int(\"20\"+y) for y in yb]\n"
   ]
  },
  {
   "cell_type": "code",
   "execution_count": 6,
   "metadata": {
    "scrolled": true
   },
   "outputs": [
    {
     "name": "stdout",
     "output_type": "stream",
     "text": [
      "Fetching player stats from the 2015 season...\n",
      "Fetched stats for 492 NBA players.\n",
      "Fetching player stats from the 2016 season...\n",
      "Fetched stats for 476 NBA players.\n",
      "Fetching player stats from the 2017 season...\n",
      "Fetched stats for 486 NBA players.\n",
      "Fetching player stats from the 2018 season...\n",
      "Fetched stats for 540 NBA players.\n",
      "Fetching player stats from the 2019 season...\n",
      "Fetched stats for 530 NBA players.\n",
      "Fetching player stats from the 2020 season...\n",
      "Fetched stats for 480 NBA players.\n"
     ]
    }
   ],
   "source": [
    "# Create URLs for the available years of NBA.com basic stats data (per 36 minutes), \n",
    "# fetch the data in 2D array format, and put into a Pandas dataframe\n",
    "urls = [ \"https://stats.nba.com/players/traditional/?sort=PLAYER_NAME&dir=-1&Season=20{0}-{1}&SeasonType=Regular%20Season&PerMode=Per36\".format(ya[i], yb[i]) for i in range(len(ya)) ]\n",
    "np_arr_basic = FetchStatsTables(urls, years, [0, 2, 4, 5, 7, 8, 9, 10, 11, 12, 13, 14, 15, 16, 17, 18, 19, 20, 21, 22, 23, 24, 28])\n"
   ]
  },
  {
   "cell_type": "code",
   "execution_count": 7,
   "metadata": {
    "scrolled": false
   },
   "outputs": [
    {
     "name": "stdout",
     "output_type": "stream",
     "text": [
      "                name  year   age     W     L  PTS_PT  FGM_PT  FGA_PT  FGP_PT  \\\n",
      "0         AJ Hammons  2017  24.0   4.0  18.0    10.6     3.7     9.3    40.5   \n",
      "1           AJ Price  2015  28.0  11.0  15.0    14.8     5.7    15.2    37.2   \n",
      "2       Aaron Brooks  2015  30.0  50.0  32.0    18.2     6.6    15.6    42.1   \n",
      "3       Aaron Brooks  2016  31.0  36.0  33.0    16.0     6.1    15.2    40.1   \n",
      "4       Aaron Brooks  2017  32.0  36.0  29.0    13.0     4.9    12.1    40.3   \n",
      "...              ...   ...   ...   ...   ...     ...     ...     ...     ...   \n",
      "2999    Zhaire Smith  2019  20.0   2.0   4.0    13.0     4.6    11.1    41.2   \n",
      "3000         Zhou Qi  2018  22.0  14.0   4.0     6.4     1.7     9.3    18.8   \n",
      "3001         Zhou Qi  2019  23.0   0.0   1.0    75.4    37.7    37.7   100.0   \n",
      "3002    Zoran Dragic  2015  26.0   6.0  10.0    13.4     5.3    14.4    36.7   \n",
      "3003  Zylan Cheatham  2020  24.0   1.0   1.0     3.6     1.8     7.3    25.0   \n",
      "\n",
      "      3PM_PT  ...  FTP_PT  ORB_PT  DRB_PT  TRB_PT  AST_PT  TOV_PT  STL_PT  \\\n",
      "0        1.1  ...    45.0     1.8     6.2     7.9     0.9     2.2     0.2   \n",
      "1        1.7  ...    66.7     0.7     2.9     3.6     5.1     1.6     0.8   \n",
      "2        2.3  ...    83.3     0.6     2.6     3.2     5.0     3.0     1.0   \n",
      "3        2.1  ...    76.6     0.7     2.6     3.3     5.8     2.7     1.0   \n",
      "4        1.9  ...    80.0     0.7     2.1     2.8     5.0     2.7     1.0   \n",
      "...      ...  ...     ...     ...     ...     ...     ...     ...     ...   \n",
      "2999     2.0  ...    75.0     1.0     3.3     4.2     3.3     2.0     0.7   \n",
      "3000     0.6  ...    66.7     1.7     4.6     6.4     0.6     2.9     0.6   \n",
      "3001     0.0  ...     0.0     0.0     0.0     0.0     0.0     0.0     0.0   \n",
      "3002     1.4  ...    60.0     2.4     1.4     3.8     2.4     2.4     1.0   \n",
      "3003     0.0  ...     0.0     0.0     5.5     5.5     1.8     1.8     0.0   \n",
      "\n",
      "      BLK_PT  PF_PT  PM_PT  \n",
      "0        2.9    4.6   -1.1  \n",
      "1        0.0    1.7   -7.1  \n",
      "2        0.3    3.6    4.0  \n",
      "3        0.3    4.3   -0.4  \n",
      "4        0.4    3.7   -1.3  \n",
      "...      ...    ...    ...  \n",
      "2999     0.7    2.6    4.6  \n",
      "3000     4.1    4.1  -19.5  \n",
      "3001     0.0    0.0  -75.4  \n",
      "3002     0.0    2.9   -7.2  \n",
      "3003     0.0    5.5  -42.0  \n",
      "\n",
      "[3004 rows x 24 columns]\n"
     ]
    }
   ],
   "source": [
    "# Convert the dataframe to one with appropriate data types\n",
    "df_basic = pd.DataFrame(np_arr_basic, columns=['name', 'year', 'age', 'W', 'L', 'PTS_PT', 'FGM_PT', 'FGA_PT', 'FGP_PT', '3PM_PT', '3PA_PT', '3PP_PT', 'FTM_PT', 'FTA_PT', 'FTP_PT', 'ORB_PT', 'DRB_PT', 'TRB_PT', 'AST_PT', 'TOV_PT', 'STL_PT', 'BLK_PT', 'PF_PT', 'PM_PT'])\n",
    "df_basic = ConvertDataFrame(df_basic)\n",
    "print(df_basic)"
   ]
  },
  {
   "cell_type": "code",
   "execution_count": 8,
   "metadata": {},
   "outputs": [
    {
     "name": "stdout",
     "output_type": "stream",
     "text": [
      "Fetching player stats from the 2015 season...\n",
      "Fetched stats for 492 NBA players.\n",
      "Fetching player stats from the 2016 season...\n",
      "Fetched stats for 476 NBA players.\n",
      "Fetching player stats from the 2017 season...\n",
      "Fetched stats for 486 NBA players.\n",
      "Fetching player stats from the 2018 season...\n",
      "Fetched stats for 540 NBA players.\n",
      "Fetching player stats from the 2019 season...\n",
      "Fetched stats for 530 NBA players.\n",
      "Fetching player stats from the 2020 season...\n",
      "Fetched stats for 480 NBA players.\n"
     ]
    }
   ],
   "source": [
    "# Create URLs for the available years of NBA.com basic stats data (per 100 possessions), \n",
    "# fetch the data in 2D array format, and put into a Pandas dataframe\n",
    "urls = [ \"https://stats.nba.com/players/traditional/?sort=PLAYER_NAME&dir=-1&Season=20{0}-{1}&SeasonType=Regular%20Season&PerMode=Per100Possessions\".format(ya[i], yb[i]) for i in range(len(ya)) ]\n",
    "np_arr_basic2 = FetchStatsTables(urls, years, [0, 7, 8, 9, 10, 11, 12, 13, 14, 15, 16, 17, 18, 19, 20, 21, 22, 23, 24, 28])\n"
   ]
  },
  {
   "cell_type": "code",
   "execution_count": 9,
   "metadata": {
    "scrolled": false
   },
   "outputs": [
    {
     "name": "stdout",
     "output_type": "stream",
     "text": [
      "                name  year  PTS_PH  FGM_PH  FGA_PH  FGP_PH  3PM_PH  3PA_PH  \\\n",
      "0         AJ Hammons  2017    14.7     5.2    12.8    40.5     1.5     3.1   \n",
      "1           AJ Price  2015    21.2     8.1    21.9    37.2     2.4     9.1   \n",
      "2       Aaron Brooks  2015    25.7     9.3    22.0    42.1     3.3     8.4   \n",
      "3       Aaron Brooks  2016    21.8     8.4    20.9    40.1     2.9     8.2   \n",
      "4       Aaron Brooks  2017    17.9     6.7    16.6    40.3     2.7     7.1   \n",
      "...              ...   ...     ...     ...     ...     ...     ...     ...   \n",
      "2999    Zhaire Smith  2019    16.9     5.9    14.3    41.2     2.5     6.8   \n",
      "3000         Zhou Qi  2018     8.3     2.3    12.1    18.8     0.8     7.2   \n",
      "3001         Zhou Qi  2019    66.7    33.3    33.3   100.0     0.0     0.0   \n",
      "3002    Zoran Dragic  2015    17.8     7.0    19.1    36.7     1.9     8.9   \n",
      "3003  Zylan Cheatham  2020     5.3     2.6    10.5    25.0     0.0     2.6   \n",
      "\n",
      "      3PP_PH  FTM_PH  ...  FTP_PH  ORB_PH  DRB_PH  TRB_PH  AST_PH  TOV_PH  \\\n",
      "0       50.0     2.8  ...    45.0     2.4     8.6    11.0     1.2     3.1   \n",
      "1       26.3     2.6  ...    66.7     1.0     4.1     5.1     7.3     2.2   \n",
      "2       38.7     3.9  ...    83.3     0.9     3.6     4.5     7.0     4.2   \n",
      "3       35.7     2.2  ...    76.6     0.9     3.6     4.5     8.0     3.6   \n",
      "4       37.5     1.8  ...    80.0     1.0     2.8     3.8     6.9     3.7   \n",
      "...      ...     ...  ...     ...     ...     ...     ...     ...     ...   \n",
      "2999    37.5     2.5  ...    75.0     1.3     4.2     5.5     4.2     2.5   \n",
      "3000    10.5     3.0  ...    66.7     2.3     6.0     8.3     0.8     3.8   \n",
      "3001     0.0     0.0  ...     0.0     0.0     0.0     0.0     0.0     0.0   \n",
      "3002    21.4     1.9  ...    60.0     3.2     1.9     5.1     3.2     3.2   \n",
      "3003     0.0     0.0  ...     0.0     0.0     7.9     7.9     2.6     2.6   \n",
      "\n",
      "      STL_PH  BLK_PH  PF_PH  PM_PH  \n",
      "0        0.3     4.0    6.4   -1.5  \n",
      "1        1.1     0.0    2.4  -10.2  \n",
      "2        1.5     0.4    5.1    5.6  \n",
      "3        1.3     0.4    5.9   -0.5  \n",
      "4        1.4     0.5    5.2   -1.8  \n",
      "...      ...     ...    ...    ...  \n",
      "2999     0.8     0.8    3.4    5.9  \n",
      "3000     0.8     5.3    5.3  -25.3  \n",
      "3001     0.0     0.0    0.0  -66.7  \n",
      "3002     1.3     0.0    3.8   -9.6  \n",
      "3003     0.0     0.0    7.9  -60.5  \n",
      "\n",
      "[3004 rows x 21 columns]\n"
     ]
    }
   ],
   "source": [
    "df_basic2 = pd.DataFrame(np_arr_basic2, columns=['name', 'year', 'PTS_PH', 'FGM_PH', 'FGA_PH', 'FGP_PH', '3PM_PH', '3PA_PH', '3PP_PH', 'FTM_PH', 'FTA_PH', 'FTP_PH', 'ORB_PH', 'DRB_PH', 'TRB_PH', 'AST_PH', 'TOV_PH', 'STL_PH', 'BLK_PH', 'PF_PH', 'PM_PH'])\n",
    "df_basic2 = ConvertDataFrame(df_basic2)\n",
    "print(df_basic2)"
   ]
  },
  {
   "cell_type": "markdown",
   "metadata": {},
   "source": [
    "# Scrape Advanced Player Stats"
   ]
  },
  {
   "cell_type": "code",
   "execution_count": 10,
   "metadata": {},
   "outputs": [
    {
     "name": "stdout",
     "output_type": "stream",
     "text": [
      "Fetching player stats from the 2015 season...\n",
      "Fetched stats for 492 NBA players.\n",
      "Fetching player stats from the 2016 season...\n",
      "Fetched stats for 476 NBA players.\n",
      "Fetching player stats from the 2017 season...\n",
      "Fetched stats for 486 NBA players.\n",
      "Fetching player stats from the 2018 season...\n",
      "Fetched stats for 540 NBA players.\n",
      "Fetching player stats from the 2019 season...\n",
      "Fetched stats for 530 NBA players.\n",
      "Fetching player stats from the 2020 season...\n",
      "Fetched stats for 480 NBA players.\n"
     ]
    }
   ],
   "source": [
    "# Create URLs for the available years of NBA.com advanced stats data, \n",
    "# fetch the data in 2D array format, and put into a Pandas dataframe\n",
    "urls = [ \"https://stats.nba.com/players/advanced/?sort=PLAYER_NAME&dir=-1&Season=20{0}-{1}&SeasonType=Regular%20Season\".format(ya[i], yb[i]) for i in range(len(ya)) ]\n",
    "np_arr_adv = FetchStatsTables(urls, years, [0,7,8,9,17,20,21])\n"
   ]
  },
  {
   "cell_type": "code",
   "execution_count": 11,
   "metadata": {},
   "outputs": [
    {
     "name": "stdout",
     "output_type": "stream",
     "text": [
      "                name  year  OFFRTG  DEFRTG  NETRTG   EFGP    PACE   PIE\n",
      "0         AJ Hammons  2017   101.2   101.5    -0.3   46.4   96.75   4.3\n",
      "1           AJ Price  2015    94.4   104.5   -10.0   42.7   93.11   8.9\n",
      "2       Aaron Brooks  2015   107.2   102.1     5.0   49.5   94.35   9.2\n",
      "3       Aaron Brooks  2016   102.3   102.3     0.0   47.1   97.72   7.3\n",
      "4       Aaron Brooks  2017   101.8   103.4    -1.6   48.3   96.91   6.2\n",
      "...              ...   ...     ...     ...     ...    ...     ...   ...\n",
      "2999    Zhaire Smith  2019   118.1   110.8     7.3   50.0  103.49   5.4\n",
      "3000         Zhou Qi  2018    81.5   107.6   -26.1   21.9  102.22  -0.5\n",
      "3001         Zhou Qi  2019    66.7   133.3   -66.7  100.0  150.79  33.3\n",
      "3002    Zoran Dragic  2015    92.4   101.3    -8.9   41.7  100.50   3.3\n",
      "3003  Zylan Cheatham  2020    78.9   132.5   -53.6   25.0   94.86  -1.3\n",
      "\n",
      "[3004 rows x 8 columns]\n"
     ]
    }
   ],
   "source": [
    "df_adv = pd.DataFrame(np_arr_adv, columns=['name', 'year', 'OFFRTG', 'DEFRTG', 'NETRTG', 'EFGP', 'PACE', 'PIE'])\n",
    "df_adv = ConvertDataFrame(df_adv)\n",
    "print(df_adv)"
   ]
  },
  {
   "cell_type": "markdown",
   "metadata": {},
   "source": [
    "# Scrape Defensive Player Stats"
   ]
  },
  {
   "cell_type": "code",
   "execution_count": 12,
   "metadata": {},
   "outputs": [
    {
     "name": "stdout",
     "output_type": "stream",
     "text": [
      "Fetching player stats from the 2015 season...\n",
      "Fetched stats for 492 NBA players.\n",
      "Fetching player stats from the 2016 season...\n",
      "Fetched stats for 476 NBA players.\n",
      "Fetching player stats from the 2017 season...\n",
      "Fetched stats for 486 NBA players.\n",
      "Fetching player stats from the 2018 season...\n",
      "Fetched stats for 540 NBA players.\n",
      "Fetching player stats from the 2019 season...\n",
      "Fetched stats for 530 NBA players.\n",
      "Fetching player stats from the 2020 season...\n",
      "Fetched stats for 480 NBA players.\n"
     ]
    }
   ],
   "source": [
    "# Create URLs for the available years of NBA.com defensive stats data (per 36 minutes), \n",
    "# fetch the data in 2D array format, and put into a Pandas dataframe\n",
    "urls = [ \"https://stats.nba.com/players/defense/?sort=PLAYER_NAME&dir=-1&Season=20{0}-{1}&SeasonType=Regular%20Season&PerMode=Per36\".format(ya[i], yb[i]) for i in range(len(ya)) ]\n",
    "np_arr_def = FetchStatsTables(urls, years, [0,15,16,17,18])\n"
   ]
  },
  {
   "cell_type": "code",
   "execution_count": 13,
   "metadata": {},
   "outputs": [
    {
     "name": "stdout",
     "output_type": "stream",
     "text": [
      "                name  year  OPP_PTS_TOV_PT  OPP_PTS_2ND_PT  OPP_PTS_FB_PT  \\\n",
      "0         AJ Hammons  2017            13.0             9.7           10.1   \n",
      "1           AJ Price  2015            13.0             8.0            7.6   \n",
      "2       Aaron Brooks  2015            11.5             9.9            8.8   \n",
      "3       Aaron Brooks  2016            11.8             9.3           10.3   \n",
      "4       Aaron Brooks  2017            11.2             8.5            8.5   \n",
      "...              ...   ...             ...             ...            ...   \n",
      "2999    Zhaire Smith  2019            12.4             9.8           12.4   \n",
      "3000         Zhou Qi  2018            14.8             9.9            4.6   \n",
      "3001         Zhou Qi  2019             0.0             0.0            0.0   \n",
      "3002    Zoran Dragic  2015            14.8            12.9            4.3   \n",
      "3003  Zylan Cheatham  2020            14.6            20.1           10.9   \n",
      "\n",
      "      OPP_PTS_PAINT_PT  \n",
      "0                 32.2  \n",
      "1                 31.6  \n",
      "2                 29.0  \n",
      "3                 30.9  \n",
      "4                 27.2  \n",
      "...                ...  \n",
      "2999              39.7  \n",
      "3000              33.1  \n",
      "3001              75.4  \n",
      "3002              36.4  \n",
      "3003              43.8  \n",
      "\n",
      "[3004 rows x 6 columns]\n"
     ]
    }
   ],
   "source": [
    "df_def = pd.DataFrame(np_arr_def, columns=['name', 'year', 'OPP_PTS_TOV_PT', 'OPP_PTS_2ND_PT', 'OPP_PTS_FB_PT', 'OPP_PTS_PAINT_PT'])\n",
    "df_def = ConvertDataFrame(df_def)\n",
    "print(df_def)"
   ]
  },
  {
   "cell_type": "code",
   "execution_count": 14,
   "metadata": {},
   "outputs": [
    {
     "name": "stdout",
     "output_type": "stream",
     "text": [
      "Fetching player stats from the 2015 season...\n",
      "Fetched stats for 492 NBA players.\n",
      "Fetching player stats from the 2016 season...\n",
      "Fetched stats for 476 NBA players.\n",
      "Fetching player stats from the 2017 season...\n",
      "Fetched stats for 486 NBA players.\n",
      "Fetching player stats from the 2018 season...\n",
      "Fetched stats for 540 NBA players.\n",
      "Fetching player stats from the 2019 season...\n",
      "Fetched stats for 530 NBA players.\n",
      "Fetching player stats from the 2020 season...\n",
      "Fetched stats for 480 NBA players.\n"
     ]
    }
   ],
   "source": [
    "# Create URLs for the available years of NBA.com defensive stats data (per 100 possessions), \n",
    "# fetch the data in 2D array format, and put into a Pandas dataframe\n",
    "urls = [ \"https://stats.nba.com/players/defense/?sort=PLAYER_NAME&dir=-1&Season=20{0}-{1}&SeasonType=Regular%20Season&PerMode=Per100Possessions\".format(ya[i], yb[i]) for i in range(len(ya)) ]\n",
    "np_arr_def2 = FetchStatsTables(urls, years, [0,15,16,17,18])\n"
   ]
  },
  {
   "cell_type": "code",
   "execution_count": 15,
   "metadata": {},
   "outputs": [
    {
     "name": "stdout",
     "output_type": "stream",
     "text": [
      "                name  year  OPP_PTS_TOV_PH  OPP_PTS_2ND_PH  OPP_PTS_FB_PH  \\\n",
      "0         AJ Hammons  2017            18.0            13.5           14.1   \n",
      "1           AJ Price  2015            18.7            11.5           10.8   \n",
      "2       Aaron Brooks  2015            16.2            13.9           12.4   \n",
      "3       Aaron Brooks  2016            16.1            12.8           14.1   \n",
      "4       Aaron Brooks  2017            15.4            11.6           11.7   \n",
      "...              ...   ...             ...             ...            ...   \n",
      "2999    Zhaire Smith  2019            16.0            12.7           16.0   \n",
      "3000         Zhou Qi  2018            19.2            12.8            6.0   \n",
      "3001         Zhou Qi  2019             0.0             0.0            0.0   \n",
      "3002    Zoran Dragic  2015            19.7            17.2            5.7   \n",
      "3003  Zylan Cheatham  2020            21.1            28.9           15.8   \n",
      "\n",
      "      OPP_PTS_PAINT_PH  \n",
      "0                 44.6  \n",
      "1                 45.3  \n",
      "2                 40.8  \n",
      "3                 42.2  \n",
      "4                 37.5  \n",
      "...                ...  \n",
      "2999              51.5  \n",
      "3000              43.0  \n",
      "3001              66.7  \n",
      "3002              48.4  \n",
      "3003              63.2  \n",
      "\n",
      "[3004 rows x 6 columns]\n"
     ]
    }
   ],
   "source": [
    "df_def2 = pd.DataFrame(np_arr_def2, columns=['name', 'year', 'OPP_PTS_TOV_PH', 'OPP_PTS_2ND_PH', 'OPP_PTS_FB_PH', 'OPP_PTS_PAINT_PH'])\n",
    "df_def2 = ConvertDataFrame(df_def2)\n",
    "print(df_def2)"
   ]
  },
  {
   "cell_type": "markdown",
   "metadata": {},
   "source": [
    "# Scrape Player Usage Stats"
   ]
  },
  {
   "cell_type": "code",
   "execution_count": 16,
   "metadata": {},
   "outputs": [
    {
     "name": "stdout",
     "output_type": "stream",
     "text": [
      "Fetching player stats from the 2015 season...\n",
      "Fetched stats for 492 NBA players.\n",
      "Fetching player stats from the 2016 season...\n",
      "Fetched stats for 476 NBA players.\n",
      "Fetching player stats from the 2017 season...\n",
      "Fetched stats for 486 NBA players.\n",
      "Fetching player stats from the 2018 season...\n",
      "Fetched stats for 540 NBA players.\n",
      "Fetching player stats from the 2019 season...\n",
      "Fetched stats for 530 NBA players.\n",
      "Fetching player stats from the 2020 season...\n",
      "Fetched stats for 480 NBA players.\n"
     ]
    }
   ],
   "source": [
    "# Create URLs for the available years of NBA.com usage stats data, \n",
    "# fetch the data in 2D array format, and put into a Pandas dataframe\n",
    "urls = [ \"https://stats.nba.com/players/usage/?sort=PLAYER_NAME&dir=-1&Season=20{0}-{1}&SeasonType=Regular%20Season\".format(ya[i], yb[i]) for i in range(len(ya)) ]\n",
    "np_arr_usg = FetchStatsTables(urls, years, [0,8,9,10,11,12,13,14,15,16,17,18,19,20,24])\n"
   ]
  },
  {
   "cell_type": "code",
   "execution_count": 17,
   "metadata": {},
   "outputs": [
    {
     "name": "stdout",
     "output_type": "stream",
     "text": [
      "                name  year  PERC_FGM  PERC_FGA  PERC_3PM  PERC_3PA  PERC_FTM  \\\n",
      "0         AJ Hammons  2017      14.0      14.7      12.8       8.8      18.0   \n",
      "1           AJ Price  2015      22.0      24.2      31.3      37.0      20.0   \n",
      "2       Aaron Brooks  2015      24.4      25.7      35.0      33.9      17.8   \n",
      "3       Aaron Brooks  2016      21.7      23.4      28.9      30.9      14.4   \n",
      "4       Aaron Brooks  2017      17.3      18.7      30.4      29.6      11.5   \n",
      "...              ...   ...       ...       ...       ...       ...       ...   \n",
      "2999    Zhaire Smith  2019      12.4      15.7      20.0      23.2      25.0   \n",
      "3000         Zhou Qi  2018       7.8      15.0       6.7      16.4      25.0   \n",
      "3001         Zhou Qi  2019     100.0     100.0       0.0       0.0       0.0   \n",
      "3002    Zoran Dragic  2015      20.4      22.2      23.1      27.5      12.5   \n",
      "3003  Zylan Cheatham  2020       9.1      12.9       0.0       7.1       0.0   \n",
      "\n",
      "      PERC_FTA  PERC_ORB  PERC_DRB  PERC_TRB  PERC_AST  PERC_TOV  PERC_STL  \\\n",
      "0         28.6      19.5      26.7      24.7       5.2      20.8       5.0   \n",
      "1         19.2       6.8      12.6      10.8      38.0      15.1      18.9   \n",
      "2         17.0       7.2      10.3       9.5      31.6      29.5      22.8   \n",
      "3         14.3       8.2      10.1       9.6      35.2      26.5      22.6   \n",
      "4         11.6       8.8       8.3       8.4      34.9      26.1      19.4   \n",
      "...        ...       ...       ...       ...       ...       ...       ...   \n",
      "2999      21.1      15.8      11.4      12.1      15.2      25.0      13.3   \n",
      "3000      26.7      21.4      16.8      17.9       6.3      19.2      11.8   \n",
      "3001       0.0       0.0       0.0       0.0       0.0       0.0       0.0   \n",
      "3002      16.1      29.4       6.0      11.9      17.2      21.7      15.4   \n",
      "3003       0.0       0.0      25.0      23.1      14.3      14.3       0.0   \n",
      "\n",
      "      PERC_BLK  PERC_PTS  \n",
      "0         44.8      14.5  \n",
      "1          0.0      22.5  \n",
      "2          7.5      24.0  \n",
      "3          8.9      21.3  \n",
      "4         11.0      17.5  \n",
      "...        ...       ...  \n",
      "2999      15.4      14.3  \n",
      "3000      77.8      10.2  \n",
      "3001       0.0     100.0  \n",
      "3002       0.0      19.3  \n",
      "3003       0.0       6.7  \n",
      "\n",
      "[3004 rows x 16 columns]\n"
     ]
    }
   ],
   "source": [
    "df_usg = pd.DataFrame(np_arr_usg, columns=['name', 'year', 'PERC_FGM', 'PERC_FGA', 'PERC_3PM', 'PERC_3PA', 'PERC_FTM', 'PERC_FTA', 'PERC_ORB', 'PERC_DRB', 'PERC_TRB', 'PERC_AST', 'PERC_TOV', 'PERC_STL', 'PERC_BLK', 'PERC_PTS'])\n",
    "df_usg = ConvertDataFrame(df_usg)\n",
    "print(df_usg)"
   ]
  },
  {
   "cell_type": "markdown",
   "metadata": {},
   "source": [
    "# Scrape Miscellaneous Player Stats"
   ]
  },
  {
   "cell_type": "code",
   "execution_count": 18,
   "metadata": {
    "scrolled": true
   },
   "outputs": [
    {
     "name": "stdout",
     "output_type": "stream",
     "text": [
      "Fetching player stats from the 2015 season...\n",
      "Fetched stats for 492 NBA players.\n",
      "Fetching player stats from the 2016 season...\n",
      "Fetched stats for 476 NBA players.\n",
      "Fetching player stats from the 2017 season...\n",
      "Fetched stats for 486 NBA players.\n",
      "Fetching player stats from the 2018 season...\n",
      "Fetched stats for 540 NBA players.\n",
      "Fetching player stats from the 2019 season...\n",
      "Fetched stats for 530 NBA players.\n",
      "Fetching player stats from the 2020 season...\n",
      "Fetched stats for 480 NBA players.\n"
     ]
    }
   ],
   "source": [
    "# Create URLs for the available years of NBA.com miscellaneous stats data (per 36 minutes), \n",
    "# fetch the data in 2D array format, and put into a Pandas dataframe\n",
    "urls = [ \"https://stats.nba.com/players/misc/?sort=PLAYER_NAME&dir=-1&Season=20{0}-{1}&SeasonType=Regular%20Season&PerMode=Per36\".format(ya[i], yb[i]) for i in range(len(ya)) ]\n",
    "np_arr_misc = FetchStatsTables(urls, years, [0,7,8,9,10,16,18])\n"
   ]
  },
  {
   "cell_type": "code",
   "execution_count": 19,
   "metadata": {},
   "outputs": [
    {
     "name": "stdout",
     "output_type": "stream",
     "text": [
      "                name  year  PTS_OFF_TOV_PT  SEC_CHANCE_PTS_PT  FB_PTS_PT  \\\n",
      "0         AJ Hammons  2017             1.3                1.5        0.4   \n",
      "1           AJ Price  2015             3.1                1.4        0.6   \n",
      "2       Aaron Brooks  2015             1.3                1.0        1.7   \n",
      "3       Aaron Brooks  2016             1.2                0.5        1.3   \n",
      "4       Aaron Brooks  2017             1.6                1.2        1.0   \n",
      "...              ...   ...             ...                ...        ...   \n",
      "2999    Zhaire Smith  2019             2.6                1.3        0.7   \n",
      "3000         Zhou Qi  2018             0.3                0.6        1.2   \n",
      "3001         Zhou Qi  2019             0.0                0.0        0.0   \n",
      "3002    Zoran Dragic  2015             6.7                1.0        6.2   \n",
      "3003  Zylan Cheatham  2020             0.0                0.0        0.0   \n",
      "\n",
      "      PTS_PAINT_PT  BLK_ATTEMPT_PT  PF_DRAWN_PT  \n",
      "0              2.2             1.1          2.9  \n",
      "1              3.3             0.6          3.4  \n",
      "2              6.6             1.0          2.8  \n",
      "3              6.0             1.1          2.5  \n",
      "4              3.6             0.6          2.2  \n",
      "...            ...             ...          ...  \n",
      "2999           4.6             1.0          1.3  \n",
      "3000           2.3             0.9          2.3  \n",
      "3001          75.4             0.0          0.0  \n",
      "3002           7.7             0.5          3.8  \n",
      "3003           3.6             0.0          0.0  \n",
      "\n",
      "[3004 rows x 8 columns]\n"
     ]
    }
   ],
   "source": [
    "df_misc = pd.DataFrame(np_arr_misc, columns=['name', 'year', 'PTS_OFF_TOV_PT', 'SEC_CHANCE_PTS_PT', 'FB_PTS_PT', 'PTS_PAINT_PT', 'BLK_ATTEMPT_PT', 'PF_DRAWN_PT'])\n",
    "df_misc = ConvertDataFrame(df_misc)\n",
    "print(df_misc)"
   ]
  },
  {
   "cell_type": "code",
   "execution_count": 20,
   "metadata": {
    "scrolled": true
   },
   "outputs": [
    {
     "name": "stdout",
     "output_type": "stream",
     "text": [
      "Fetching player stats from the 2015 season...\n",
      "Fetched stats for 492 NBA players.\n",
      "Fetching player stats from the 2016 season...\n",
      "Fetched stats for 476 NBA players.\n",
      "Fetching player stats from the 2017 season...\n",
      "Fetched stats for 486 NBA players.\n",
      "Fetching player stats from the 2018 season...\n",
      "Fetched stats for 540 NBA players.\n",
      "Fetching player stats from the 2019 season...\n",
      "Fetched stats for 530 NBA players.\n",
      "Fetching player stats from the 2020 season...\n",
      "Fetched stats for 480 NBA players.\n"
     ]
    }
   ],
   "source": [
    "# Create URLs for the available years of NBA.com miscellaneous stats data (per 100 possessions), \n",
    "# fetch the data in 2D array format, and put into a Pandas dataframe\n",
    "urls = [ \"https://stats.nba.com/players/misc/?sort=PLAYER_NAME&dir=-1&Season=20{0}-{1}&SeasonType=Regular%20Season&PerMode=Per100Possessions\".format(ya[i], yb[i]) for i in range(len(ya)) ]\n",
    "np_arr_misc2 = FetchStatsTables(urls, years, [0,7,8,9,10,16,18])\n"
   ]
  },
  {
   "cell_type": "code",
   "execution_count": 21,
   "metadata": {},
   "outputs": [
    {
     "name": "stdout",
     "output_type": "stream",
     "text": [
      "                name  year  PTS_OFF_TOV_PH  SEC_CHANCE_PTS_PH  FB_PTS_PH  \\\n",
      "0         AJ Hammons  2017             1.8                2.1        0.6   \n",
      "1           AJ Price  2015             4.5                2.1        0.8   \n",
      "2       Aaron Brooks  2015             1.8                1.3        2.4   \n",
      "3       Aaron Brooks  2016             1.7                0.7        1.8   \n",
      "4       Aaron Brooks  2017             2.2                1.7        1.3   \n",
      "...              ...   ...             ...                ...        ...   \n",
      "2999    Zhaire Smith  2019             3.4                1.7        0.8   \n",
      "3000         Zhou Qi  2018             0.4                0.8        1.5   \n",
      "3001         Zhou Qi  2019             0.0                0.0        0.0   \n",
      "3002    Zoran Dragic  2015             8.9                1.3        8.3   \n",
      "3003  Zylan Cheatham  2020             0.0                0.0        0.0   \n",
      "\n",
      "      PTS_PAINT_PH  BLK_ATTEMPT_PH  PF_DRAWN_PH  \n",
      "0              3.1             1.5          4.0  \n",
      "1              4.8             0.8          4.9  \n",
      "2              9.3             1.4          4.0  \n",
      "3              8.2             1.5          3.4  \n",
      "4              5.0             0.8          3.1  \n",
      "...            ...             ...          ...  \n",
      "2999           5.9             1.3          1.7  \n",
      "3000           3.0             1.1          3.0  \n",
      "3001          66.7             0.0          0.0  \n",
      "3002          10.2             0.6          5.1  \n",
      "3003           5.3             0.0          0.0  \n",
      "\n",
      "[3004 rows x 8 columns]\n"
     ]
    }
   ],
   "source": [
    "df_misc2 = pd.DataFrame(np_arr_misc2, columns=['name', 'year', 'PTS_OFF_TOV_PH', 'SEC_CHANCE_PTS_PH', 'FB_PTS_PH', 'PTS_PAINT_PH', 'BLK_ATTEMPT_PH', 'PF_DRAWN_PH'])\n",
    "df_misc2 = ConvertDataFrame(df_misc2)\n",
    "print(df_misc2)"
   ]
  },
  {
   "cell_type": "markdown",
   "metadata": {},
   "source": [
    "# Scrape Player Distance/Speed Tracking Stats"
   ]
  },
  {
   "cell_type": "code",
   "execution_count": 34,
   "metadata": {},
   "outputs": [
    {
     "name": "stdout",
     "output_type": "stream",
     "text": [
      "Fetching player stats from the 2015 season...\n",
      "Fetched stats for 492 NBA players.\n",
      "Fetching player stats from the 2016 season...\n",
      "Fetched stats for 476 NBA players.\n",
      "Fetching player stats from the 2017 season...\n",
      "Fetched stats for 486 NBA players.\n",
      "Fetching player stats from the 2018 season...\n",
      "Fetched stats for 540 NBA players.\n",
      "Fetching player stats from the 2019 season...\n",
      "Fetched stats for 530 NBA players.\n",
      "Fetching player stats from the 2020 season...\n",
      "Fetched stats for 477 NBA players.\n"
     ]
    }
   ],
   "source": [
    "# Create URLs for the available years of NBA.com distance/speed stats data, \n",
    "# fetch the data in 2D array format, and put into a Pandas dataframe\n",
    "urls = [ \"https://stats.nba.com/players/speed-distance/?sort=PLAYER_NAME&dir=-1&Season=20{0}-{1}&SeasonType=Regular%20Season\".format(ya[i], yb[i]) for i in range(len(ya)) ]\n",
    "np_arr_dist = FetchStatsTables(urls, years, [0,6,7,8,9,10,11,12])\n"
   ]
  },
  {
   "cell_type": "code",
   "execution_count": 35,
   "metadata": {},
   "outputs": [
    {
     "name": "stdout",
     "output_type": "stream",
     "text": [
      "                name  year  DIST_FEET_PG  DIST_M_PG  DIST_M_OFF  DIST_M_DEF  \\\n",
      "0         AJ Hammons  2017        2571.2       0.49        0.25        0.23   \n",
      "1           AJ Price  2015        4690.0       0.89        0.50        0.39   \n",
      "2       Aaron Brooks  2015        8351.7       1.58        0.87        0.71   \n",
      "3       Aaron Brooks  2016        5779.6       1.09        0.58        0.51   \n",
      "4       Aaron Brooks  2017        4953.5       0.94        0.51        0.43   \n",
      "...              ...   ...           ...        ...         ...         ...   \n",
      "2996    Zhaire Smith  2019        7941.8       1.50        0.84        0.67   \n",
      "2997         Zhou Qi  2018        2525.6       0.48        0.26        0.22   \n",
      "2998         Zhou Qi  2019         385.0       0.07        0.03        0.04   \n",
      "2999    Zoran Dragic  2015        1794.4       0.34        0.18        0.16   \n",
      "3000  Zylan Cheatham  2020        4062.5       0.77        0.40        0.36   \n",
      "\n",
      "      AVG_SPEED  AVG_SPEED_OFF  AVG_SPEED_DEF  \n",
      "0          3.94           4.16           3.72  \n",
      "1          4.29           4.57           3.98  \n",
      "2          4.15           4.48           3.81  \n",
      "3          4.10           4.39           3.83  \n",
      "4          4.14           4.35           3.92  \n",
      "...         ...            ...            ...  \n",
      "2996       4.58           5.06           4.09  \n",
      "2997       4.10           4.20           3.99  \n",
      "2998       5.01           0.00           0.00  \n",
      "2999       4.30           4.95           3.73  \n",
      "3000       4.29           4.84           3.80  \n",
      "\n",
      "[3001 rows x 9 columns]\n"
     ]
    }
   ],
   "source": [
    "df_dist = pd.DataFrame(np_arr_dist, columns=['name', 'year', 'DIST_FEET_PG', 'DIST_M_PG', 'DIST_M_OFF', 'DIST_M_DEF', 'AVG_SPEED', 'AVG_SPEED_OFF', 'AVG_SPEED_DEF'])\n",
    "df_dist = ConvertDataFrame(df_dist)\n",
    "print(df_dist)"
   ]
  },
  {
   "cell_type": "markdown",
   "metadata": {},
   "source": [
    "# Scrape Player Stats for Field Goals by Distance"
   ]
  },
  {
   "cell_type": "markdown",
   "metadata": {},
   "source": [
    "## Offensive Field Goals by Distance"
   ]
  },
  {
   "cell_type": "code",
   "execution_count": 36,
   "metadata": {},
   "outputs": [
    {
     "name": "stdout",
     "output_type": "stream",
     "text": [
      "Fetching player stats from the 2015 season...\n",
      "Fetched stats for 492 NBA players.\n",
      "Fetching player stats from the 2016 season...\n",
      "Fetched stats for 476 NBA players.\n",
      "Fetching player stats from the 2017 season...\n",
      "Fetched stats for 486 NBA players.\n",
      "Fetching player stats from the 2018 season...\n",
      "Fetched stats for 540 NBA players.\n",
      "Fetching player stats from the 2019 season...\n",
      "Fetched stats for 530 NBA players.\n",
      "Fetching player stats from the 2020 season...\n",
      "Fetched stats for 480 NBA players.\n",
      "Fetching player stats from the 2015 season...\n",
      "Fetched stats for 492 NBA players.\n",
      "Fetching player stats from the 2016 season...\n",
      "Fetched stats for 476 NBA players.\n",
      "Fetching player stats from the 2017 season...\n",
      "Fetched stats for 486 NBA players.\n",
      "Fetching player stats from the 2018 season...\n",
      "Fetched stats for 540 NBA players.\n",
      "Fetching player stats from the 2019 season...\n",
      "Fetched stats for 530 NBA players.\n",
      "Fetching player stats from the 2020 season...\n",
      "Fetched stats for 480 NBA players.\n",
      "Fetching player stats from the 2015 season...\n",
      "Fetched stats for 492 NBA players.\n",
      "Fetching player stats from the 2016 season...\n",
      "Fetched stats for 476 NBA players.\n",
      "Fetching player stats from the 2017 season...\n",
      "Fetched stats for 486 NBA players.\n",
      "Fetching player stats from the 2018 season...\n",
      "Fetched stats for 540 NBA players.\n",
      "Fetching player stats from the 2019 season...\n",
      "Fetched stats for 530 NBA players.\n",
      "Fetching player stats from the 2020 season...\n",
      "Fetched stats for 480 NBA players.\n",
      "                name  year  FGM_RA  FGA_RA  FGP_RA  FGM_NONRA  FGA_NONRA  \\\n",
      "0         AJ Hammons  2017     0.2     0.4    55.6        0.0        0.3   \n",
      "1           AJ Price  2015     0.1     0.3    28.6        0.5        1.0   \n",
      "2       Aaron Brooks  2015     1.5     3.1    48.4        0.6        1.4   \n",
      "3       Aaron Brooks  2016     0.8     1.8    47.2        0.5        1.2   \n",
      "4       Aaron Brooks  2017     0.5     1.0    43.9        0.3        0.7   \n",
      "...              ...   ...     ...     ...     ...        ...        ...   \n",
      "2999    Zhaire Smith  2019     1.0     2.0    50.0        0.2        0.2   \n",
      "3000         Zhou Qi  2018     0.2     0.4    42.9        0.1        0.3   \n",
      "3001         Zhou Qi  2019     1.0     1.0   100.0        0.0        0.0   \n",
      "3002    Zoran Dragic  2015     0.6     1.0    61.5        0.0        0.0   \n",
      "3003  Zylan Cheatham  2020     0.5     0.5   100.0        0.0        1.0   \n",
      "\n",
      "      FGP_NONRA  FGM_MR  FGA_MR  FGP_MR  FGM_LC  FGA_LC  FGP_LC  FGM_RC  \\\n",
      "0           0.0     0.4     0.9    38.9     0.0     0.2     0.0     0.0   \n",
      "1          54.2     0.8     2.0    42.9     0.1     0.3    20.0     0.0   \n",
      "2          43.9     0.6     1.7    36.8     0.1     0.3    19.0     0.1   \n",
      "3          40.5     0.4     1.1    39.0     0.0     0.1    16.7     0.1   \n",
      "4          38.1     0.4     1.0    43.8     0.1     0.1    66.7     0.0   \n",
      "...         ...     ...     ...     ...     ...     ...     ...     ...   \n",
      "2999      100.0     0.2     0.8    20.0     0.0     0.5     0.0     0.0   \n",
      "3000       20.0     0.0     0.1     0.0     0.0     0.1     0.0     0.1   \n",
      "3001        0.0     NaN     NaN     NaN     NaN     NaN     NaN     NaN   \n",
      "3002        0.0     0.0     0.3     0.0     0.0     0.5     0.0     0.3   \n",
      "3003        0.0     0.0     0.0     0.0     0.0     0.0     0.0     NaN   \n",
      "\n",
      "      FGA_RC  FGP_RC  FGM_AB  FGA_AB  FGP_AB  \n",
      "0        0.0     0.0     0.0     0.2     0.0  \n",
      "1        0.1     0.0     0.1     0.4    25.0  \n",
      "2        0.3    52.9     0.2     0.6    33.3  \n",
      "3        0.2    50.0     0.1     0.3    33.3  \n",
      "4        0.2    22.2     0.1     0.3    33.3  \n",
      "...      ...     ...     ...     ...     ...  \n",
      "2999     0.4     0.0     0.0     0.9     0.0  \n",
      "3000     0.2    50.0     0.1     0.3    33.3  \n",
      "3001     NaN     NaN     0.0     0.0     NaN  \n",
      "3002     0.4    66.7     0.3     0.9    33.3  \n",
      "3003     NaN     NaN     0.0     0.0     NaN  \n",
      "\n",
      "[3004 rows x 20 columns]\n"
     ]
    }
   ],
   "source": [
    "# Field goals by distance\n",
    "\n",
    "# Close range (5 ft)\n",
    "#https://stats.nba.com/players/shooting/?Season=2014-15&SeasonType=Regular%20Season\n",
    "urls = [ \"https://stats.nba.com/players/shooting/?Season=20{0}-{1}&SeasonType=Regular%20Season\".format(ya[i], yb[i]) for i in range(len(ya)) ]\n",
    "np_arr_fg5ft = FetchStatsTables(urls, years, [0,3,4,5,6,7,8,9,10,11,12,13,14,15,16,17,18,19,20])\n",
    "df_fg5ft = pd.DataFrame(np_arr_fg5ft, columns=['name', 'year', 'FGM_05FT', 'FGA_05FT', 'FGP_05FT', 'FGM_59FT', 'FGA_59FT', 'FGP_59FT', 'FGM_1014FT', 'FGA_1014FT', 'FGP_1014FT', 'FGM_1519FT', 'FGA_1519FT', 'FGP_1519FT', 'FGM_2024FT', 'FGA_2024FT', 'FGP_2024FT', 'FGM_2529FT', 'FGA_2529FT', 'FGP_2529FT'])\n",
    "df_fg5ft = ConvertDataFrame(df_fg5ft)\n",
    "\n",
    "# Farther range (8 ft)\n",
    "#https://stats.nba.com/players/shooting/?Season=2014-15&SeasonType=Regular%20Season&DistanceRange=8ft%20Range\n",
    "urls = [ \"https://stats.nba.com/players/shooting/?Season=20{0}-{1}&SeasonType=Regular%20Season&DistanceRange=8ft%20Range\".format(ya[i], yb[i]) for i in range(len(ya)) ]\n",
    "np_arr_fg8ft = FetchStatsTables(urls, years, [0,3,4,5,6,7,8,9,10,11,12,13,14,15,16,17])\n",
    "df_fg8ft = pd.DataFrame(np_arr_fg8ft, columns=['name', 'year', 'FGM_08FT', 'FGA_08FT', 'FGP_08FT', 'FGM_816FT', 'FGA_816FT', 'FGP_816FT', 'FGM_1624FT', 'FGA_1624FT', 'FGP_1624FT', 'FGM_GT24FT', 'FGA_GT24FT', 'FGP_GT24FT', 'FGM_BC', 'FGA_BC', 'FGP_BC'])\n",
    "df_fg8ft = ConvertDataFrame(df_fg8ft)\n",
    "\n",
    "# By zone\n",
    "#https://stats.nba.com/players/shooting/?Season=2014-15&SeasonType=Regular%20Season&DistanceRange=By%20Zone\n",
    "urls = [ \"https://stats.nba.com/players/shooting/?Season=20{0}-{1}&SeasonType=Regular%20Season&DistanceRange=By%20Zone\".format(ya[i], yb[i]) for i in range(len(ya)) ]\n",
    "np_arr_fgzone = FetchStatsTables(urls, years, [0,3,4,5,6,7,8,9,10,11,12,13,14,15,16,17,18,19,20])\n",
    "df_fgzone = pd.DataFrame(np_arr_fgzone, columns=['name', 'year', 'FGM_RA', 'FGA_RA', 'FGP_RA', 'FGM_NONRA', 'FGA_NONRA', 'FGP_NONRA', 'FGM_MR', 'FGA_MR', 'FGP_MR', 'FGM_LC', 'FGA_LC', 'FGP_LC', 'FGM_RC', 'FGA_RC', 'FGP_RC', 'FGM_AB', 'FGA_AB', 'FGP_AB'])\n",
    "df_fgzone = ConvertDataFrame(df_fgzone)\n",
    "print(df_fgzone)\n"
   ]
  },
  {
   "cell_type": "markdown",
   "metadata": {},
   "source": [
    "## Opponent (Defensive) Field Goals by Distance"
   ]
  },
  {
   "cell_type": "code",
   "execution_count": 37,
   "metadata": {},
   "outputs": [
    {
     "name": "stdout",
     "output_type": "stream",
     "text": [
      "Fetching player stats from the 2015 season...\n",
      "Fetched stats for 492 NBA players.\n",
      "Fetching player stats from the 2016 season...\n",
      "Fetched stats for 476 NBA players.\n",
      "Fetching player stats from the 2017 season...\n",
      "Fetched stats for 486 NBA players.\n",
      "Fetching player stats from the 2018 season...\n",
      "Fetched stats for 540 NBA players.\n",
      "Fetching player stats from the 2019 season...\n",
      "Fetched stats for 530 NBA players.\n",
      "Fetching player stats from the 2020 season...\n",
      "Fetched stats for 480 NBA players.\n",
      "Fetching player stats from the 2015 season...\n",
      "Fetched stats for 492 NBA players.\n",
      "Fetching player stats from the 2016 season...\n",
      "Fetched stats for 476 NBA players.\n",
      "Fetching player stats from the 2017 season...\n",
      "Fetched stats for 486 NBA players.\n",
      "Fetching player stats from the 2018 season...\n",
      "Fetched stats for 540 NBA players.\n",
      "Fetching player stats from the 2019 season...\n",
      "Fetched stats for 530 NBA players.\n",
      "Fetching player stats from the 2020 season...\n",
      "Fetched stats for 480 NBA players.\n",
      "Fetching player stats from the 2015 season...\n",
      "Fetched stats for 492 NBA players.\n",
      "Fetching player stats from the 2016 season...\n",
      "Fetched stats for 476 NBA players.\n",
      "Fetching player stats from the 2017 season...\n",
      "Fetched stats for 486 NBA players.\n",
      "Fetching player stats from the 2018 season...\n",
      "Fetched stats for 540 NBA players.\n",
      "Fetching player stats from the 2019 season...\n",
      "Fetched stats for 530 NBA players.\n",
      "Fetching player stats from the 2020 season...\n",
      "Fetched stats for 480 NBA players.\n",
      "                name  year  OPP_FGM_RA  OPP_FGA_RA  OPP_FGP_RA  OPP_FGM_NONRA  \\\n",
      "0         AJ Hammons  2017         2.7         4.3        61.5            1.0   \n",
      "1           AJ Price  2015         4.2         6.8        61.8            1.5   \n",
      "2       Aaron Brooks  2015         6.7        11.9        56.6            2.5   \n",
      "3       Aaron Brooks  2016         5.5         8.9        61.8            1.4   \n",
      "4       Aaron Brooks  2017         3.9         6.5        60.7            1.4   \n",
      "...              ...   ...         ...         ...         ...            ...   \n",
      "2999    Zhaire Smith  2019         7.5        11.2        67.2            2.7   \n",
      "3000         Zhou Qi  2018         2.4         4.1        58.1            0.8   \n",
      "3001         Zhou Qi  2019         1.0         1.0       100.0            0.0   \n",
      "3002    Zoran Dragic  2015         2.2         2.4        90.3            0.8   \n",
      "3003  Zylan Cheatham  2020         5.5         7.5        73.3            0.5   \n",
      "\n",
      "      OPP_FGA_NONRA  OPP_FGP_NONRA  OPP_FGM_MR  OPP_FGA_MR  OPP_FGP_MR  \\\n",
      "0               2.1           47.2         0.9         2.9        31.0   \n",
      "1               3.0           50.0         2.5         5.8        43.2   \n",
      "2               6.0           41.8         5.0        12.9        38.8   \n",
      "3               4.0           34.8         3.0         7.8        38.1   \n",
      "4               3.1           43.7         2.0         5.6        36.3   \n",
      "...             ...            ...         ...         ...         ...   \n",
      "2999            6.2           43.2         2.3         6.3        36.8   \n",
      "3000            1.9           42.4         0.7         2.1        35.1   \n",
      "3001            0.0            0.0         NaN         NaN         NaN   \n",
      "3002            1.5           55.6         0.5         2.1        21.7   \n",
      "3003            2.0           25.0         2.0         3.5        57.1   \n",
      "\n",
      "      OPP_FGM_LC  OPP_FGA_LC  OPP_FGP_LC  OPP_FGM_RC  OPP_FGA_RC  OPP_FGP_RC  \\\n",
      "0            0.4         1.0        38.5         0.3         0.9        33.3   \n",
      "1            0.5         0.7        69.2         0.3         0.7        40.0   \n",
      "2            0.4         1.1        32.1         0.6         1.3        46.0   \n",
      "3            0.5         1.1        44.3         0.4         1.0        38.8   \n",
      "4            0.6         1.2        46.2         0.5         1.3        39.1   \n",
      "...          ...         ...         ...         ...         ...         ...   \n",
      "2999         0.5         1.5        33.3         0.2         1.0        20.0   \n",
      "3000         0.3         0.9        36.4         0.3         0.8        42.9   \n",
      "3001         NaN         NaN         NaN         NaN         NaN         NaN   \n",
      "3002         0.0         1.3         0.0         0.4         1.0        37.5   \n",
      "3003         0.0         2.0         0.0         NaN         NaN         NaN   \n",
      "\n",
      "      OPP_FGM_AB  OPP_FGA_AB  OPP_FGP_AB  \n",
      "0            1.1         3.6        30.9  \n",
      "1            1.7         5.0        34.1  \n",
      "2            2.3         7.2        31.8  \n",
      "3            2.0         6.1        32.5  \n",
      "4            2.0         6.2        32.6  \n",
      "...          ...         ...         ...  \n",
      "2999         4.0         9.8        40.7  \n",
      "3000         1.4         3.7        37.9  \n",
      "3001         0.0         0.0         0.0  \n",
      "3002         0.8         2.4        31.6  \n",
      "3003         2.5         5.5        45.5  \n",
      "\n",
      "[3004 rows x 20 columns]\n"
     ]
    }
   ],
   "source": [
    "# Opponent field goals by distance\n",
    "# Close range (5 ft)\n",
    "#https://stats.nba.com/players/opponent-shooting/?Season=2014-15&SeasonType=Regular%20Season\n",
    "urls = [ \"https://stats.nba.com/players/opponent-shooting/?Season=20{0}-{1}&SeasonType=Regular%20Season\".format(ya[i], yb[i]) for i in range(len(ya)) ]\n",
    "np_arr_ofg5ft = FetchStatsTables(urls, years, [0,3,4,5,6,7,8,9,10,11,12,13,14,15,16,17,18,19,20])\n",
    "df_ofg5ft = pd.DataFrame(np_arr_ofg5ft, columns=['name', 'year', 'OPP_FGM_05FT', 'OPP_FGA_05FT', 'OPP_FGP_05FT', 'OPP_FGM_59FT', 'OPP_FGA_59FT', 'OPP_FGP_59FT', 'OPP_FGM_1014FT', 'OPP_FGA_1014FT', 'OPP_FGP_1014FT', 'OPP_FGM_1519FT', 'OPP_FGA_1519FT', 'OPP_FGP_1519FT', 'OPP_FGM_2024FT', 'OPP_FGA_2024FT', 'OPP_FGP_2024FT', 'OPP_FGM_2529FT', 'OPP_FGA_2529FT', 'OPP_FGP_2529FT'])\n",
    "df_ofg5ft = ConvertDataFrame(df_ofg5ft)\n",
    "    \n",
    "# Farther range (8 ft)\n",
    "#https://stats.nba.com/players/opponent-shooting/?Season=2014-15&SeasonType=Regular%20Season&DistanceRange=8ft%20Range\n",
    "urls = [ \"https://stats.nba.com/players/opponent-shooting/?Season=20{0}-{1}&SeasonType=Regular%20Season&DistanceRange=8ft%20Range\".format(ya[i], yb[i]) for i in range(len(ya)) ]\n",
    "np_arr_ofg8ft = FetchStatsTables(urls, years, [0,3,4,5,6,7,8,9,10,11,12,13,14,15,16,17])\n",
    "df_ofg8ft = pd.DataFrame(np_arr_ofg8ft, columns=['name', 'year', 'OPP_FGM_08FT', 'OPP_FGA_08FT', 'OPP_FGP_08FT', 'OPP_FGM_816FT', 'OPP_FGA_816FT', 'OPP_FGP_816FT', 'OPP_FGM_1624FT', 'OPP_FGA_1624FT', 'OPP_FGP_1624FT', 'OPP_FGM_GT24FT', 'OPP_FGA_GT24FT', 'OPP_FGP_GT24FT', 'OPP_FGM_BC', 'OPP_FGA_BC', 'OPP_FGP_BC'])\n",
    "df_ofg8ft = ConvertDataFrame(df_ofg8ft)\n",
    "\n",
    "# By zone\n",
    "#https://stats.nba.com/players/opponent-shooting/?Season=2014-15&SeasonType=Regular%20Season&DistanceRange=By%20Zone\n",
    "urls = [ \"https://stats.nba.com/players/opponent-shooting/?Season=20{0}-{1}&SeasonType=Regular%20Season&DistanceRange=By%20Zone\".format(ya[i], yb[i]) for i in range(len(ya)) ]\n",
    "np_arr_ofgzone = FetchStatsTables(urls, years, [0,3,4,5,6,7,8,9,10,11,12,13,14,15,16,17,18,19,20])\n",
    "df_ofgzone = pd.DataFrame(np_arr_ofgzone, columns=['name', 'year', 'OPP_FGM_RA', 'OPP_FGA_RA', 'OPP_FGP_RA', 'OPP_FGM_NONRA', 'OPP_FGA_NONRA', 'OPP_FGP_NONRA', 'OPP_FGM_MR', 'OPP_FGA_MR', 'OPP_FGP_MR', 'OPP_FGM_LC', 'OPP_FGA_LC', 'OPP_FGP_LC', 'OPP_FGM_RC', 'OPP_FGA_RC', 'OPP_FGP_RC', 'OPP_FGM_AB', 'OPP_FGA_AB', 'OPP_FGP_AB'])\n",
    "df_ofgzone = ConvertDataFrame(df_ofgzone)\n",
    "print(df_ofgzone)\n"
   ]
  },
  {
   "cell_type": "markdown",
   "metadata": {},
   "source": [
    "# Scrape Player Stats for Shots by Defender Proximity"
   ]
  },
  {
   "cell_type": "code",
   "execution_count": 64,
   "metadata": {
    "scrolled": false
   },
   "outputs": [
    {
     "name": "stdout",
     "output_type": "stream",
     "text": [
      "Fetching player stats from the 2017 season...\n",
      "Fetched stats for 469 NBA players.\n",
      "Fetching player stats from the 2018 season...\n",
      "Fetched stats for 490 NBA players.\n",
      "Fetching player stats from the 2019 season...\n",
      "Fetched stats for 499 NBA players.\n",
      "Fetching player stats from the 2020 season...\n",
      "Fetched stats for 429 NBA players.\n",
      "               name  year  FG_FREQ_DEF02FT  FGM_DEF02FT  FGA_DEF02FT  \\\n",
      "0        AJ Hammons  2017              8.1          0.1          0.1   \n",
      "1      Aaron Brooks  2017             17.4          0.3          0.8   \n",
      "2      Aaron Brooks  2018             12.3          0.1          0.3   \n",
      "3      Aaron Gordon  2017             13.0          0.8          1.3   \n",
      "4      Aaron Gordon  2018              8.2          0.7          1.2   \n",
      "...             ...   ...              ...          ...          ...   \n",
      "1882  Zaza Pachulia  2017             31.5          0.7          1.2   \n",
      "1883  Zaza Pachulia  2018             15.9          0.3          0.5   \n",
      "1884  Zaza Pachulia  2019             22.8          0.2          0.7   \n",
      "1885   Zhaire Smith  2019              8.8          0.2          0.5   \n",
      "1886        Zhou Qi  2018              6.7          0.1          0.1   \n",
      "\n",
      "      FGP_DEF02FT  EFGP_DEF02FT  2PT_FREQ_DEF02FT  2PM_DEF02FT  2PA_DEF02FT  \\\n",
      "0            33.3          33.3               8.1          0.1          0.1   \n",
      "1            45.8          45.8              17.0          0.3          0.7   \n",
      "2            37.5          37.5              12.3          0.1          0.3   \n",
      "3            60.7          61.2              12.7          0.8          1.3   \n",
      "4            56.7          56.7               8.2          0.7          1.2   \n",
      "...           ...           ...               ...          ...          ...   \n",
      "1882         53.5          53.5              31.1          0.7          1.2   \n",
      "1883         55.6          55.6              15.9          0.3          0.5   \n",
      "1884         34.1          34.1              22.3          0.2          0.6   \n",
      "1885         33.3          33.3               8.8          0.2          0.5   \n",
      "1886         50.0          50.0               6.7          0.1          0.1   \n",
      "\n",
      "      2PP_DEF02FT  3PT_FREQ_DEF02FT  3PM_DEF02FT  3PA_DEF02FT  3PP_DEF02FT  \n",
      "0            33.3               0.0          0.0          0.0          NaN  \n",
      "1            46.8               0.4          0.0          0.0          0.0  \n",
      "2            37.5               0.0          0.0          0.0          NaN  \n",
      "3            61.5               0.4          0.0          0.0         33.3  \n",
      "4            56.7               0.0          0.0          0.0          NaN  \n",
      "...           ...               ...          ...          ...          ...  \n",
      "1882         54.1               0.4          0.0          0.0          0.0  \n",
      "1883         55.6               0.0          0.0          0.0          NaN  \n",
      "1884         34.9               0.5          0.0          0.0          0.0  \n",
      "1885         33.3               0.0          0.0          0.0          NaN  \n",
      "1886         50.0               0.0          0.0          0.0          NaN  \n",
      "\n",
      "[1887 rows x 15 columns]\n",
      "Fetching player stats from the 2017 season...\n",
      "Fetched stats for 476 NBA players.\n",
      "Fetching player stats from the 2018 season...\n",
      "Fetched stats for 522 NBA players.\n",
      "Fetching player stats from the 2019 season...\n",
      "Fetched stats for 519 NBA players.\n",
      "Fetching player stats from the 2020 season...\n",
      "Fetched stats for 465 NBA players.\n",
      "Fetching player stats from the 2017 season...\n",
      "Fetched stats for 477 NBA players.\n",
      "Fetching player stats from the 2018 season...\n",
      "Fetched stats for 510 NBA players.\n",
      "Fetching player stats from the 2019 season...\n",
      "Fetched stats for 514 NBA players.\n",
      "Fetching player stats from the 2020 season...\n",
      "Fetched stats for 460 NBA players.\n",
      "Fetching player stats from the 2017 season...\n",
      "Fetched stats for 473 NBA players.\n",
      "Fetching player stats from the 2018 season...\n",
      "Fetched stats for 516 NBA players.\n",
      "Fetching player stats from the 2019 season...\n",
      "Fetched stats for 515 NBA players.\n",
      "Fetching player stats from the 2020 season...\n",
      "Fetched stats for 453 NBA players.\n"
     ]
    }
   ],
   "source": [
    "# Shots by distance to closest defender\n",
    "\n",
    "# Very tight (0-2 ft)\n",
    "#https://stats.nba.com/players/shots-closest-defender/?Season=2014-15&SeasonType=Regular%20Season\n",
    "urls = [ \"https://stats.nba.com/players/shots-closest-defender/?Season=20{0}-{1}&SeasonType=Regular%20Season\".format(ya[i], yb[i]) for i in range(len(ya)) ]\n",
    "np_arr_vtdef = FetchStatsTables(urls, years, [0,5,6,7,8,9,10,11,12,13,14,15,16,17])\n",
    "df_vtdef = pd.DataFrame(np_arr_vtdef, columns=['name', 'year', 'FG_FREQ_DEF02FT', 'FGM_DEF02FT', 'FGA_DEF02FT', 'FGP_DEF02FT', 'EFGP_DEF02FT', '2PT_FREQ_DEF02FT', '2PM_DEF02FT', '2PA_DEF02FT', '2PP_DEF02FT', '3PT_FREQ_DEF02FT', '3PM_DEF02FT', '3PA_DEF02FT', '3PP_DEF02FT'])\n",
    "df_vtdef = ConvertDataFrame(df_vtdef)\n",
    "print(df_vtdef)\n",
    "\n",
    "# Tight (2-4 ft)\n",
    "#https://stats.nba.com/players/shots-closest-defender/?Season=2014-15&SeasonType=Regular%20Season&CloseDefDistRange=2-4%20Feet%20-%20Tight\n",
    "urls = [ \"https://stats.nba.com/players/shots-closest-defender/?Season=20{0}-{1}&SeasonType=Regular%20Season&CloseDefDistRange=2-4%20Feet%20-%20Tight\".format(ya[i], yb[i]) for i in range(len(ya)) ]\n",
    "np_arr_tdef = FetchStatsTables(urls, years, [0,5,6,7,8,9,10,11,12,13,14,15,16,17])\n",
    "df_tdef = pd.DataFrame(np_arr_tdef, columns=['name', 'year', 'FG_FREQ_DEF24FT', 'FGM_DEF24FT', 'FGA_DEF24FT', 'FGP_DEF24FT', 'EFGP_DEF24FT', '2PT_FREQ_DEF24FT', '2PM_DEF24FT', '2PA_DEF24FT', '2PP_DEF24FT', '3PT_FREQ_DEF24FT', '3PM_DEF24FT', '3PA_DEF24FT', '3PP_DEF24FT'])\n",
    "df_tdef = ConvertDataFrame(df_tdef)\n",
    "\n",
    "# Open (4-6 ft)\n",
    "#https://stats.nba.com/players/shots-closest-defender/?Season=2014-15&SeasonType=Regular%20Season&CloseDefDistRange=4-6%20Feet%20-%20Open\n",
    "urls = [ \"https://stats.nba.com/players/shots-closest-defender/?Season=20{0}-{1}&SeasonType=Regular%20Season&CloseDefDistRange=4-6%20Feet%20-%20Open\".format(ya[i], yb[i]) for i in range(len(ya)) ]\n",
    "np_arr_opendef = FetchStatsTables(urls, years, [0,5,6,7,8,9,10,11,12,13,14,15,16,17])\n",
    "df_opendef = pd.DataFrame(np_arr_opendef, columns=['name', 'year', 'FG_FREQ_DEF46FT', 'FGM_DEF46FT', 'FGA_DEF46FT', 'FGP_DEF46FT', 'EFGP_DEF46FT', '2PT_FREQ_DEF46FT', '2PM_DEF46FT', '2PA_DEF46FT', '2PP_DEF46FT', '3PT_FREQ_DEF46FT', '3PM_DEF46FT', '3PA_DEF46FT', '3PP_DEF46FT'])\n",
    "df_opendef = ConvertDataFrame(df_opendef)\n",
    "\n",
    "# Wide open (6+ ft)\n",
    "#https://stats.nba.com/players/shots-closest-defender/?Season=2014-15&SeasonType=Regular%20Season&CloseDefDistRange=6%2B%20Feet%20-%20Wide%20Open\n",
    "urls = [ \"https://stats.nba.com/players/shots-closest-defender/?Season=20{0}-{1}&SeasonType=Regular%20Season&CloseDefDistRange=6%2B%20Feet%20-%20Wide%20Open\".format(ya[i], yb[i]) for i in range(len(ya)) ]\n",
    "np_arr_wodef = FetchStatsTables(urls, years, [0,5,6,7,8,9,10,11,12,13,14,15,16,17])\n",
    "df_wodef = pd.DataFrame(np_arr_wodef, columns=['name', 'year', 'FG_FREQ_DEFGT6FT', 'FGM_DEFGT6FT', 'FGA_DEFGT6FT', 'FGP_DEFGT6FT', 'EFGP_DEFGT6FT', '2PT_FREQ_DEFGT6FT', '2PM_DEFGT6FT', '2PA_DEFGT6FT', '2PP_DEFGT6FT', '3PT_FREQ_DEFGT6FT', '3PM_DEFGT6FT', '3PA_DEFGT6FT', '3PP_DEFGT6FT'])\n",
    "df_wodef = ConvertDataFrame(df_wodef)\n"
   ]
  },
  {
   "cell_type": "markdown",
   "metadata": {},
   "source": [
    "# Scrape Player Stats for Shots by Number of Dribbles"
   ]
  },
  {
   "cell_type": "code",
   "execution_count": 65,
   "metadata": {
    "scrolled": false
   },
   "outputs": [
    {
     "name": "stdout",
     "output_type": "stream",
     "text": [
      "Fetching player stats from the 2017 season...\n",
      "Fetched stats for 484 NBA players.\n",
      "Fetching player stats from the 2018 season...\n",
      "Fetched stats for 526 NBA players.\n",
      "Fetching player stats from the 2019 season...\n",
      "Fetched stats for 523 NBA players.\n",
      "Fetching player stats from the 2020 season...\n",
      "Fetched stats for 464 NBA players.\n",
      "                name  year  FG_FREQ_0DRIB  FGM_0DRIB  FGA_0DRIB  FGP_0DRIB  \\\n",
      "0         AJ Hammons  2017           78.4        0.7        1.3       55.2   \n",
      "1       Aaron Brooks  2017           27.9        0.5        1.2       41.6   \n",
      "2       Aaron Brooks  2018           23.1        0.3        0.5       53.3   \n",
      "3       Aaron Gordon  2017           49.8        2.7        5.1       52.6   \n",
      "4       Aaron Gordon  2018           48.0        3.4        6.7       50.6   \n",
      "...              ...   ...            ...        ...        ...        ...   \n",
      "1992   Zaza Pachulia  2019           66.8        0.8        1.9       44.2   \n",
      "1993    Zhaire Smith  2019           52.9        1.2        3.0       38.9   \n",
      "1994         Zhou Qi  2018           86.7        0.3        1.4       19.2   \n",
      "1995         Zhou Qi  2019          100.0        1.0        1.0      100.0   \n",
      "1996  Zylan Cheatham  2020           75.0        0.5        1.5       33.3   \n",
      "\n",
      "      EFGP_0DRIB  2PT_FREQ_0DRIB  2PM_0DRIB  2PA_0DRIB  2PP_0DRIB  \\\n",
      "0           63.8            51.4        0.5        0.9       57.9   \n",
      "1           58.4             2.9        0.1        0.1       75.0   \n",
      "2           80.0             1.5        0.0        0.0        0.0   \n",
      "3           60.1            25.3        1.9        2.6       73.6   \n",
      "4           62.1            19.5        1.9        2.7       67.9   \n",
      "...          ...             ...        ...        ...        ...   \n",
      "1992        44.2            66.3        0.8        1.9       44.5   \n",
      "1993        50.0            17.6        0.5        1.0       50.0   \n",
      "1994        23.1            23.3        0.2        0.4       42.9   \n",
      "1995       100.0           100.0        1.0        1.0      100.0   \n",
      "1996        33.3            50.0        0.5        1.0       50.0   \n",
      "\n",
      "      3PT_FREQ_0DRIB  3PM_0DRIB  3PA_0DRIB  3PP_0DRIB  \n",
      "0               27.0        0.2        0.5       50.0  \n",
      "1               25.0        0.4        1.1       37.7  \n",
      "2               21.5        0.3        0.4       57.1  \n",
      "3               24.5        0.8        2.5       30.8  \n",
      "4               28.5        1.6        4.0       38.8  \n",
      "...              ...        ...        ...        ...  \n",
      "1992             0.5        0.0        0.0        0.0  \n",
      "1993            35.3        0.7        2.0       33.3  \n",
      "1994            63.3        0.1        1.1       10.5  \n",
      "1995             0.0        0.0        0.0        NaN  \n",
      "1996            25.0        0.0        0.5        0.0  \n",
      "\n",
      "[1997 rows x 15 columns]\n",
      "Fetching player stats from the 2017 season...\n",
      "Fetched stats for 475 NBA players.\n",
      "Fetching player stats from the 2018 season...\n",
      "Fetched stats for 500 NBA players.\n",
      "Fetching player stats from the 2019 season...\n",
      "Fetched stats for 506 NBA players.\n",
      "Fetching player stats from the 2020 season...\n",
      "Fetched stats for 444 NBA players.\n",
      "Fetching player stats from the 2017 season...\n",
      "Fetched stats for 462 NBA players.\n",
      "Fetching player stats from the 2018 season...\n",
      "Fetched stats for 493 NBA players.\n",
      "Fetching player stats from the 2019 season...\n",
      "Fetched stats for 497 NBA players.\n",
      "Fetching player stats from the 2020 season...\n",
      "Fetched stats for 440 NBA players.\n",
      "Fetching player stats from the 2017 season...\n",
      "Fetched stats for 454 NBA players.\n",
      "Fetching player stats from the 2018 season...\n",
      "Fetched stats for 486 NBA players.\n",
      "Fetching player stats from the 2019 season...\n",
      "Fetched stats for 494 NBA players.\n",
      "Fetching player stats from the 2020 season...\n",
      "Fetched stats for 432 NBA players.\n",
      "Fetching player stats from the 2017 season...\n",
      "Fetched stats for 343 NBA players.\n",
      "Fetching player stats from the 2018 season...\n",
      "Fetched stats for 378 NBA players.\n",
      "Fetching player stats from the 2019 season...\n",
      "Fetched stats for 383 NBA players.\n",
      "Fetching player stats from the 2020 season...\n",
      "Fetched stats for 323 NBA players.\n"
     ]
    }
   ],
   "source": [
    "# Shots based on # dribbles\n",
    "# 0 dribbles\n",
    "#https://stats.nba.com/players/shots-dribbles/?Season=2014-15&SeasonType=Regular%20Season\n",
    "urls = [ \"https://stats.nba.com/players/shots-dribbles/?Season=20{0}-{1}&SeasonType=Regular%20Season\".format(ya[i], yb[i]) for i in range(len(ya)) ]\n",
    "np_arr_0drib = FetchStatsTables(urls, years, [0,5,6,7,8,9,10,11,12,13,14,15,16,17])\n",
    "df_0drib = pd.DataFrame(np_arr_0drib, columns=['name', 'year', 'FG_FREQ_0DRIB', 'FGM_0DRIB', 'FGA_0DRIB', 'FGP_0DRIB', 'EFGP_0DRIB', '2PT_FREQ_0DRIB', '2PM_0DRIB', '2PA_0DRIB', '2PP_0DRIB', '3PT_FREQ_0DRIB', '3PM_0DRIB', '3PA_0DRIB', '3PP_0DRIB'])\n",
    "df_0drib = ConvertDataFrame(df_0drib)\n",
    "print(df_0drib)\n",
    "# 1\n",
    "#https://stats.nba.com/players/shots-dribbles/?Season=2014-15&SeasonType=Regular%20Season&DribbleRange=1%20Dribble\n",
    "urls = [ \"https://stats.nba.com/players/shots-dribbles/?Season=20{0}-{1}&SeasonType=Regular%20Season&DribbleRange=1%20Dribble\".format(ya[i], yb[i]) for i in range(len(ya)) ]\n",
    "np_arr_1drib = FetchStatsTables(urls, years, [0,5,6,7,8,9,10,11,12,13,14,15,16,17])\n",
    "df_1drib = pd.DataFrame(np_arr_1drib, columns=['name', 'year', 'FG_FREQ_1DRIB', 'FGM_1DRIB', 'FGA_1DRIB', 'FGP_1DRIB', 'EFGP_1DRIB', '2PT_FREQ_1DRIB', '2PM_1DRIB', '2PA_1DRIB', '2PP_1DRIB', '3PT_FREQ_1DRIB', '3PM_1DRIB', '3PA_1DRIB', '3PP_1DRIB'])\n",
    "df_1drib = ConvertDataFrame(df_1drib)\n",
    "# 2\n",
    "#https://stats.nba.com/players/shots-dribbles/?Season=2014-15&SeasonType=Regular%20Season&DribbleRange=2%20Dribbles\n",
    "urls = [ \"https://stats.nba.com/players/shots-dribbles/?Season=20{0}-{1}&SeasonType=Regular%20Season&DribbleRange=2%20Dribbles\".format(ya[i], yb[i]) for i in range(len(ya)) ]\n",
    "np_arr_2drib = FetchStatsTables(urls, years, [0,5,6,7,8,9,10,11,12,13,14,15,16,17])\n",
    "df_2drib = pd.DataFrame(np_arr_2drib, columns=['name', 'year', 'FG_FREQ_2DRIB', 'FGM_2DRIB', 'FGA_2DRIB', 'FGP_2DRIB', 'EFGP_2DRIB', '2PT_FREQ_2DRIB', '2PM_2DRIB', '2PA_2DRIB', '2PP_2DRIB', '3PT_FREQ_2DRIB', '3PM_2DRIB', '3PA_2DRIB', '3PP_2DRIB'])\n",
    "df_2drib = ConvertDataFrame(df_2drib)\n",
    "# 3-6\n",
    "#https://stats.nba.com/players/shots-dribbles/?Season=2014-15&SeasonType=Regular%20Season&DribbleRange=3-6%20Dribbles\n",
    "urls = [ \"https://stats.nba.com/players/shots-dribbles/?Season=20{0}-{1}&SeasonType=Regular%20Season&DribbleRange=3-6%20Dribbles\".format(ya[i], yb[i]) for i in range(len(ya)) ]\n",
    "np_arr_3drib = FetchStatsTables(urls, years, [0,5,6,7,8,9,10,11,12,13,14,15,16,17])\n",
    "df_3drib = pd.DataFrame(np_arr_3drib, columns=['name', 'year', 'FG_FREQ_36DRIB', 'FGM_36DRIB', 'FGA_36DRIB', 'FGP_36DRIB', 'EFGP_36DRIB', '2PT_FREQ_36DRIB', '2PM_36DRIB', '2PA_36DRIB', '2PP_36DRIB', '3PT_FREQ_36DRIB', '3PM_36DRIB', '3PA_36DRIB', '3PP_36DRIB'])\n",
    "df_3drib = ConvertDataFrame(df_3drib)\n",
    "# 7+\n",
    "#https://stats.nba.com/players/shots-dribbles/?Season=2014-15&SeasonType=Regular%20Season&DribbleRange=7%2B%20Dribbles\n",
    "urls = [ \"https://stats.nba.com/players/shots-dribbles/?Season=20{0}-{1}&SeasonType=Regular%20Season&DribbleRange=7%2B%20Dribbles\".format(ya[i], yb[i]) for i in range(len(ya)) ]\n",
    "np_arr_7drib = FetchStatsTables(urls, years, [0,5,6,7,8,9,10,11,12,13,14,15,16,17])\n",
    "df_7drib = pd.DataFrame(np_arr_7drib, columns=['name', 'year', 'FG_FREQ_GT7DRIB', 'FGM_GT7DRIB', 'FGA_GT7DRIB', 'FGP_GT7DRIB', 'EFGP_GT7DRIB', '2PT_FREQ_GT7DRIB', '2PM_GT7DRIB', '2PA_GT7DRIB', '2PP_GT7DRIB', '3PT_FREQ_GT7DRIB', '3PM_GT7DRIB', '3PA_GT7DRIB', '3PP_GT7DRIB'])\n",
    "df_7drib = ConvertDataFrame(df_7drib)\n",
    "    "
   ]
  },
  {
   "cell_type": "markdown",
   "metadata": {},
   "source": [
    "# Scrape Player Stats for Shot Selection and Efficiency"
   ]
  },
  {
   "cell_type": "code",
   "execution_count": 45,
   "metadata": {},
   "outputs": [
    {
     "name": "stdout",
     "output_type": "stream",
     "text": [
      "Fetching player stats from the 2015 season...\n",
      "Fetched stats for 492 NBA players.\n",
      "Fetching player stats from the 2016 season...\n",
      "Fetched stats for 476 NBA players.\n",
      "Fetching player stats from the 2017 season...\n",
      "Fetched stats for 486 NBA players.\n",
      "Fetching player stats from the 2018 season...\n",
      "Fetched stats for 540 NBA players.\n",
      "Fetching player stats from the 2019 season...\n",
      "Fetched stats for 530 NBA players.\n",
      "Fetching player stats from the 2020 season...\n",
      "Fetched stats for 480 NBA players.\n",
      "                name  year  PTS_DRIVE  FGP_DRIVE  PTS_CANDS  FGP_CANDS  \\\n",
      "0         AJ Hammons  2017        0.0        0.0        1.3       50.0   \n",
      "1           AJ Price  2015        1.6       48.6        1.2       32.3   \n",
      "2       Aaron Brooks  2015        4.9       46.5        2.6       42.3   \n",
      "3       Aaron Brooks  2016        2.9       43.1        1.6       40.9   \n",
      "4       Aaron Brooks  2017        1.7       43.0        1.3       39.0   \n",
      "...              ...   ...        ...        ...        ...        ...   \n",
      "2999    Zhaire Smith  2019        1.2       50.0        2.0       30.8   \n",
      "3000         Zhou Qi  2018        0.2       33.3        0.3       10.5   \n",
      "3001         Zhou Qi  2019        0.0        0.0        0.0        0.0   \n",
      "3002    Zoran Dragic  2015        0.3       66.7        0.6       20.0   \n",
      "3003  Zylan Cheatham  2020        0.0        0.0        0.0        0.0   \n",
      "\n",
      "      PTS_PU  FGP_PU  PTS_PT_TOUCH  FGP_PT_TOUCH  PTS_POST_TOUCH  \\\n",
      "0        0.0     0.0           0.7          71.4             0.1   \n",
      "1        2.8    40.5           0.2          50.0             0.1   \n",
      "2        3.5    38.6           0.1          29.4             0.0   \n",
      "3        2.3    32.7           0.0          33.3             0.0   \n",
      "4        1.8    41.1           0.1          33.3             0.0   \n",
      "...      ...     ...           ...           ...             ...   \n",
      "2999     1.3    37.5           1.0         100.0             0.0   \n",
      "3000     0.0     0.0           0.4          33.3             0.0   \n",
      "3001     0.0     0.0           2.0         100.0             0.0   \n",
      "3002     0.0     0.0           0.0           0.0             0.0   \n",
      "3003     0.0     0.0           1.0          50.0             0.0   \n",
      "\n",
      "      FGP_POST_TOUCH  PTS_ELB_TOUCH  FGP_ELB_TOUCH  \n",
      "0               12.5            0.3           50.0  \n",
      "1              100.0            0.1           50.0  \n",
      "2                0.0            0.2           45.5  \n",
      "3                0.0            0.0           33.3  \n",
      "4                0.0            0.1          100.0  \n",
      "...              ...            ...            ...  \n",
      "2999             0.0            0.3           33.3  \n",
      "3000             0.0            0.1           33.3  \n",
      "3001             0.0            0.0            0.0  \n",
      "3002             0.0            0.3          100.0  \n",
      "3003             0.0            0.0            0.0  \n",
      "\n",
      "[3004 rows x 14 columns]\n"
     ]
    }
   ],
   "source": [
    "# Shooting efficiency (by shot type)\n",
    "#https://stats.nba.com/players/shooting-efficiency/?Season=2014-15&SeasonType=Regular%20Season\n",
    "urls = [ \"https://stats.nba.com/players/shooting-efficiency/?Season=20{0}-{1}&SeasonType=Regular%20Season\".format(ya[i], yb[i]) for i in range(len(ya)) ]\n",
    "np_arr_shots = FetchStatsTables(urls, years, [0,7,8,9,10,11,12,13,14,15,16,17,18])\n",
    "df_shots = pd.DataFrame(np_arr_shots, columns=['name', 'year', 'PTS_DRIVE', 'FGP_DRIVE', 'PTS_CANDS', 'FGP_CANDS', 'PTS_PU', 'FGP_PU', 'PTS_PT_TOUCH', 'FGP_PT_TOUCH', 'PTS_POST_TOUCH', 'FGP_POST_TOUCH', 'PTS_ELB_TOUCH', 'FGP_ELB_TOUCH'])\n",
    "df_shots = ConvertDataFrame(df_shots)\n",
    "print(df_shots)\n"
   ]
  },
  {
   "cell_type": "code",
   "execution_count": 46,
   "metadata": {},
   "outputs": [
    {
     "name": "stdout",
     "output_type": "stream",
     "text": [
      "Fetching player stats from the 2015 season...\n",
      "Fetched stats for 492 NBA players.\n",
      "Fetching player stats from the 2016 season...\n",
      "Fetched stats for 476 NBA players.\n",
      "Fetching player stats from the 2017 season...\n",
      "Fetched stats for 486 NBA players.\n",
      "Fetching player stats from the 2018 season...\n",
      "Fetched stats for 540 NBA players.\n",
      "Fetching player stats from the 2019 season...\n",
      "Fetched stats for 530 NBA players.\n",
      "Fetching player stats from the 2020 season...\n",
      "Fetched stats for 480 NBA players.\n",
      "                name  year  FGM_CANDS  FGA_CANDS  3PM_CANDS  3PA_CANDS\n",
      "0         AJ Hammons  2017        0.5        1.0        0.2        0.5\n",
      "1           AJ Price  2015        0.4        1.2        0.4        1.1\n",
      "2       Aaron Brooks  2015        0.8        1.9        0.8        1.9\n",
      "3       Aaron Brooks  2016        0.5        1.2        0.5        1.2\n",
      "4       Aaron Brooks  2017        0.5        1.1        0.4        1.0\n",
      "...              ...   ...        ...        ...        ...        ...\n",
      "2999    Zhaire Smith  2019        0.7        2.2        0.7        2.0\n",
      "3000         Zhou Qi  2018        0.1        1.1        0.1        1.1\n",
      "3001         Zhou Qi  2019        0.0        0.0        NaN        NaN\n",
      "3002    Zoran Dragic  2015        0.2        0.9        0.2        0.9\n",
      "3003  Zylan Cheatham  2020        0.0        1.0        0.0        0.5\n",
      "\n",
      "[3004 rows x 6 columns]\n"
     ]
    }
   ],
   "source": [
    "# Catch and shoot\n",
    "#https://stats.nba.com/players/catch-shoot/?Season=2014-15&SeasonType=Regular%20Season\n",
    "urls = [ \"https://stats.nba.com/players/catch-shoot/?Season=20{0}-{1}&SeasonType=Regular%20Season\".format(ya[i], yb[i]) for i in range(len(ya)) ]\n",
    "np_arr_cands = FetchStatsTables(urls, years, [0,5,6,8,9])\n",
    "df_cands = pd.DataFrame(np_arr_cands, columns=['name', 'year', 'FGM_CANDS', 'FGA_CANDS', '3PM_CANDS', '3PA_CANDS'])\n",
    "df_cands = ConvertDataFrame(df_cands)\n",
    "print(df_cands)\n"
   ]
  },
  {
   "cell_type": "code",
   "execution_count": 47,
   "metadata": {},
   "outputs": [
    {
     "name": "stdout",
     "output_type": "stream",
     "text": [
      "Fetching player stats from the 2015 season...\n",
      "Fetched stats for 492 NBA players.\n",
      "Fetching player stats from the 2016 season...\n",
      "Fetched stats for 476 NBA players.\n",
      "Fetching player stats from the 2017 season...\n",
      "Fetched stats for 486 NBA players.\n",
      "Fetching player stats from the 2018 season...\n",
      "Fetched stats for 540 NBA players.\n",
      "Fetching player stats from the 2019 season...\n",
      "Fetched stats for 530 NBA players.\n",
      "Fetching player stats from the 2020 season...\n",
      "Fetched stats for 480 NBA players.\n",
      "                name  year  DRIVES_PG  FGM_DRIVE  FGA_DRIVE  FTM_DRIVE  \\\n",
      "0         AJ Hammons  2017        0.1        0.0        0.0        0.0   \n",
      "1           AJ Price  2015        3.9        0.7        1.4        0.2   \n",
      "2       Aaron Brooks  2015       10.4        2.0        4.3        0.8   \n",
      "3       Aaron Brooks  2016        6.2        1.3        3.1        0.2   \n",
      "4       Aaron Brooks  2017        4.2        0.7        1.7        0.2   \n",
      "...              ...   ...        ...        ...        ...        ...   \n",
      "2999    Zhaire Smith  2019        2.3        0.5        1.0        0.2   \n",
      "3000         Zhou Qi  2018        0.6        0.1        0.2        0.1   \n",
      "3001         Zhou Qi  2019        0.0        0.0        0.0        0.0   \n",
      "3002    Zoran Dragic  2015        0.5        0.1        0.2        0.0   \n",
      "3003  Zylan Cheatham  2020        0.0        0.0        0.0        0.0   \n",
      "\n",
      "      FTA_DRIVE  FTP_DRIVE  PTSP_DRIVE  PASS_DRIVE  PASSP_DRIVE  AST_DRIVE  \\\n",
      "0           0.0        0.0         0.0         0.0          0.0        0.0   \n",
      "1           0.3       62.5        41.6         1.7         43.6        0.3   \n",
      "2           0.9       82.9        46.8         3.8         36.2        0.9   \n",
      "3           0.3       70.8        47.5         1.9         30.0        0.5   \n",
      "4           0.3       83.3        40.4         1.4         33.3        0.5   \n",
      "...         ...        ...         ...         ...          ...        ...   \n",
      "2999        0.3       50.0        50.0         0.7         28.6        0.0   \n",
      "3000        0.1      100.0        40.0         0.2         40.0        0.0   \n",
      "3001        0.0        0.0         0.0         0.0          0.0        0.0   \n",
      "3002        0.0        0.0        50.0         0.1         25.0        0.1   \n",
      "3003        0.0        0.0         0.0         0.0          0.0        0.0   \n",
      "\n",
      "      ASTP_DRIVE  TOV_DRIVE  TOVP_DRIVE  PF_DRIVE  PFP_DRIVE  \n",
      "0            0.0        0.0         0.0       0.0        0.0  \n",
      "1            8.9        0.2         5.9       0.2        4.0  \n",
      "2            8.9        0.7         6.9       0.5        4.7  \n",
      "3            8.0        0.4         6.6       0.2        2.8  \n",
      "4           12.7        0.3         8.2       0.1        3.4  \n",
      "...          ...        ...         ...       ...        ...  \n",
      "2999         0.0        0.3        14.3       0.2        7.1  \n",
      "3000         0.0        0.1        20.0       0.1       10.0  \n",
      "3001         0.0        0.0         0.0       0.0        0.0  \n",
      "3002        12.5        0.1        25.0       0.0        0.0  \n",
      "3003         0.0        0.0         0.0       0.0        0.0  \n",
      "\n",
      "[3004 rows x 17 columns]\n"
     ]
    }
   ],
   "source": [
    "# Drives\n",
    "#https://stats.nba.com/players/drives/?Season=2014-15&SeasonType=Regular%20Season\n",
    "urls = [ \"https://stats.nba.com/players/drives/?Season=20{0}-{1}&SeasonType=Regular%20Season\".format(ya[i], yb[i]) for i in range(len(ya)) ]\n",
    "np_arr_drives = FetchStatsTables(urls, years, [0,6,7,8,10,11,12,14,15,16,17,18,19,20,21,22])\n",
    "df_drives = pd.DataFrame(np_arr_drives, columns=['name', 'year', 'DRIVES_PG', 'FGM_DRIVE', 'FGA_DRIVE', 'FTM_DRIVE', 'FTA_DRIVE', 'FTP_DRIVE', 'PTSP_DRIVE', 'PASS_DRIVE', 'PASSP_DRIVE', 'AST_DRIVE', 'ASTP_DRIVE', 'TOV_DRIVE', 'TOVP_DRIVE', 'PF_DRIVE', 'PFP_DRIVE'])\n",
    "df_drives = ConvertDataFrame(df_drives)\n",
    "print(df_drives)\n"
   ]
  },
  {
   "cell_type": "markdown",
   "metadata": {},
   "source": [
    "# Scrape Defensive Player Stats (by Opponent Field Goals)"
   ]
  },
  {
   "cell_type": "code",
   "execution_count": 103,
   "metadata": {},
   "outputs": [
    {
     "name": "stdout",
     "output_type": "stream",
     "text": [
      "Fetching player stats from the 2015 season...\n",
      "Fetched stats for 491 NBA players.\n",
      "Fetching player stats from the 2016 season...\n",
      "Fetched stats for 473 NBA players.\n",
      "Fetching player stats from the 2017 season...\n",
      "Fetched stats for 484 NBA players.\n",
      "Fetching player stats from the 2018 season...\n",
      "Fetched stats for 536 NBA players.\n",
      "Fetching player stats from the 2019 season...\n",
      "Fetched stats for 524 NBA players.\n",
      "Fetching player stats from the 2020 season...\n",
      "Fetched stats for 477 NBA players.\n"
     ]
    }
   ],
   "source": [
    "# Player defense\n",
    "\n",
    "# Overall\n",
    "#https://stats.nba.com/players/defense-dash-overall/?Season=2014-15&SeasonType=Regular%20Season\n",
    "urls = [ \"https://stats.nba.com/players/defense-dash-overall/?Season=20{0}-{1}&SeasonType=Regular%20Season\".format(ya[i], yb[i]) for i in range(len(ya)) ]\n",
    "np_arr_odef = FetchStatsTables(urls, years, [0,3,7,8,9,11])\n",
    "df_odef = pd.DataFrame(np_arr_odef, columns=['name', 'year', 'red_pos', 'DFGM_PG', 'DFGA_PG', 'DFGP_PG', 'DPCT_DIFF_PG'])\n",
    "# For this dataframe, there is an extra string 'red_pos' that requires \n",
    "# custom treatment of type conversions\n",
    "#df_odef = ConvertDataFrame(df_odef)\n",
    "\n",
    "cols = df_odef.columns.drop(['name', 'red_pos'])\n",
    "df_odef[cols] = df_odef[cols].apply(pd.to_numeric, errors='coerce', axis=1)\n",
    "df_odef['name'] = df_odef['name'].astype('str')\n",
    "df_odef['red_pos'] = df_odef['red_pos'].astype('str')\n",
    "df_odef['year'] = df_odef['year'].astype('int')\n",
    "df_odef = df_odef.groupby(['name', 'year', 'red_pos']).mean().reset_index()\n"
   ]
  },
  {
   "cell_type": "code",
   "execution_count": 48,
   "metadata": {},
   "outputs": [
    {
     "name": "stdout",
     "output_type": "stream",
     "text": [
      "Fetching player stats from the 2015 season...\n",
      "Fetched stats for 491 NBA players.\n",
      "Fetching player stats from the 2016 season...\n",
      "Fetched stats for 473 NBA players.\n",
      "Fetching player stats from the 2017 season...\n",
      "Fetched stats for 484 NBA players.\n",
      "Fetching player stats from the 2018 season...\n",
      "Fetched stats for 536 NBA players.\n",
      "Fetching player stats from the 2019 season...\n",
      "Fetched stats for 524 NBA players.\n",
      "Fetching player stats from the 2020 season...\n",
      "Fetched stats for 475 NBA players.\n",
      "Fetching player stats from the 2015 season...\n",
      "Fetched stats for 490 NBA players.\n",
      "Fetching player stats from the 2016 season...\n",
      "Fetched stats for 473 NBA players.\n",
      "Fetching player stats from the 2017 season...\n",
      "Fetched stats for 484 NBA players.\n",
      "Fetching player stats from the 2018 season...\n",
      "Fetched stats for 531 NBA players.\n",
      "Fetching player stats from the 2019 season...\n",
      "Fetched stats for 522 NBA players.\n",
      "Fetching player stats from the 2020 season...\n",
      "Fetched stats for 470 NBA players.\n",
      "Fetching player stats from the 2015 season...\n",
      "Fetched stats for 486 NBA players.\n",
      "Fetching player stats from the 2016 season...\n",
      "Fetched stats for 470 NBA players.\n",
      "Fetching player stats from the 2017 season...\n",
      "Fetched stats for 479 NBA players.\n",
      "Fetching player stats from the 2018 season...\n",
      "Fetched stats for 528 NBA players.\n",
      "Fetching player stats from the 2019 season...\n",
      "Fetched stats for 517 NBA players.\n",
      "Fetching player stats from the 2020 season...\n",
      "Fetched stats for 465 NBA players.\n",
      "Fetching player stats from the 2015 season...\n",
      "Fetched stats for 486 NBA players.\n",
      "Fetching player stats from the 2016 season...\n",
      "Fetched stats for 470 NBA players.\n",
      "Fetching player stats from the 2017 season...\n",
      "Fetched stats for 480 NBA players.\n",
      "Fetching player stats from the 2018 season...\n",
      "Fetched stats for 525 NBA players.\n",
      "Fetching player stats from the 2019 season...\n",
      "Fetched stats for 517 NBA players.\n",
      "Fetching player stats from the 2020 season...\n",
      "Fetched stats for 462 NBA players.\n",
      "Fetching player stats from the 2015 season...\n",
      "Fetched stats for 489 NBA players.\n",
      "Fetching player stats from the 2016 season...\n",
      "Fetched stats for 470 NBA players.\n",
      "Fetching player stats from the 2017 season...\n",
      "Fetched stats for 483 NBA players.\n",
      "Fetching player stats from the 2018 season...\n",
      "Fetched stats for 527 NBA players.\n",
      "Fetching player stats from the 2019 season...\n",
      "Fetched stats for 518 NBA players.\n",
      "Fetching player stats from the 2020 season...\n",
      "Fetched stats for 464 NBA players.\n",
      "Fetching player stats from the 2015 season...\n",
      "Fetched stats for 489 NBA players.\n",
      "Fetching player stats from the 2016 season...\n",
      "Fetched stats for 472 NBA players.\n",
      "Fetching player stats from the 2017 season...\n",
      "Fetched stats for 483 NBA players.\n",
      "Fetching player stats from the 2018 season...\n",
      "Fetched stats for 533 NBA players.\n",
      "Fetching player stats from the 2019 season...\n",
      "Fetched stats for 520 NBA players.\n",
      "Fetching player stats from the 2020 season...\n",
      "Fetched stats for 466 NBA players.\n",
      "Fetching player stats from the 2015 season...\n",
      "Fetched stats for 492 NBA players.\n",
      "Fetching player stats from the 2016 season...\n",
      "Fetched stats for 476 NBA players.\n",
      "Fetching player stats from the 2017 season...\n",
      "Fetched stats for 486 NBA players.\n",
      "Fetching player stats from the 2018 season...\n",
      "Fetched stats for 540 NBA players.\n",
      "Fetching player stats from the 2019 season...\n",
      "Fetched stats for 530 NBA players.\n",
      "Fetching player stats from the 2020 season...\n",
      "Fetched stats for 480 NBA players.\n"
     ]
    }
   ],
   "source": [
    "# Player defense (continued...)\n",
    "\n",
    "# 2 pt.\n",
    "#https://stats.nba.com/players/defense-dash-2pt/?Season=2014-15&SeasonType=Regular%20Season\n",
    "urls = [ \"https://stats.nba.com/players/defense-dash-2pt/?Season=20{0}-{1}&SeasonType=Regular%20Season\".format(ya[i], yb[i]) for i in range(len(ya)) ]\n",
    "np_arr_2ptdef = FetchStatsTables(urls, years, [0,6,7,8,9,11])\n",
    "df_2ptdef = pd.DataFrame(np_arr_2ptdef, columns=['name', 'year', 'DFG_2PT_FREQ_PG', 'DFGM_2PT_PG', 'DFGA_2PT_PG', 'DFGP_2PT_PG', 'DPCT_DIFF_2PT_PG'])\n",
    "df_2ptdef = ConvertDataFrame(df_2ptdef)\n",
    "    \n",
    "# 3 pt.\n",
    "#https://stats.nba.com/players/defense-dash-3pt/?Season=2014-15&SeasonType=Regular%20Season\n",
    "urls = [ \"https://stats.nba.com/players/defense-dash-3pt/?Season=20{0}-{1}&SeasonType=Regular%20Season\".format(ya[i], yb[i]) for i in range(len(ya)) ]\n",
    "np_arr_3ptdef = FetchStatsTables(urls, years, [0,6,7,8,9,11])\n",
    "df_3ptdef = pd.DataFrame(np_arr_3ptdef, columns=['name', 'year', 'DFG_3PT_FREQ_PG', 'DFGM_3PT_PG', 'DFGA_3PT_PG', 'DFGP_3PT_PG', 'DPCT_DIFF_3PT_PG'])\n",
    "df_3ptdef = ConvertDataFrame(df_3ptdef)\n",
    "\n",
    "# < 6 ft.\n",
    "#https://stats.nba.com/players/defense-dash-lt6/?Season=2014-15&SeasonType=Regular%20Season\n",
    "urls = [ \"https://stats.nba.com/players/defense-dash-lt6/?Season=20{0}-{1}&SeasonType=Regular%20Season\".format(ya[i], yb[i]) for i in range(len(ya)) ]\n",
    "np_arr_odeflt6 = FetchStatsTables(urls, years, [0,6,7,8,9,11])\n",
    "df_odeflt6 = pd.DataFrame(np_arr_odeflt6, columns=['name', 'year', 'DFG_LT6FT_FREQ_PG', 'DFGM_LT6FT_PG', 'DFGA_LT6FT_PG', 'DFGP_LT6FT_PG', 'DPCT_DIFF_LT6FT_PG'])\n",
    "df_odeflt6 = ConvertDataFrame(df_odeflt6)\n",
    "\n",
    "# < 10 ft.\n",
    "#https://stats.nba.com/players/defense-dash-lt10/?Season=2014-15&SeasonType=Regular%20Season\n",
    "urls = [ \"https://stats.nba.com/players/defense-dash-lt10/?Season=20{0}-{1}&SeasonType=Regular%20Season\".format(ya[i], yb[i]) for i in range(len(ya)) ]\n",
    "np_arr_odeflt10 = FetchStatsTables(urls, years, [0,6,7,8,9,11])\n",
    "df_odeflt10 = pd.DataFrame(np_arr_odeflt10, columns=['name', 'year', 'DFG_LT10FT_FREQ_PG', 'DFGM_LT10FT_PG', 'DFGA_LT10FT_PG', 'DFGP_LT10FT_PG', 'DPCT_DIFF_LT10FT_PG'])\n",
    "df_odeflt10 = ConvertDataFrame(df_odeflt10)\n",
    "    \n",
    "# > 15 ft.\n",
    "#https://stats.nba.com/players/defense-dash-gt15/?Season=2014-15&SeasonType=Regular%20Season\n",
    "urls = [ \"https://stats.nba.com/players/defense-dash-gt15/?Season=20{0}-{1}&SeasonType=Regular%20Season\".format(ya[i], yb[i]) for i in range(len(ya)) ]\n",
    "np_arr_odefgt15 = FetchStatsTables(urls, years, [0,6,7,8,9,11])\n",
    "df_odefgt15 = pd.DataFrame(np_arr_odefgt15, columns=['name', 'year', 'DFG_GT15FT_FREQ_PG', 'DFGM_GT15FT_PG', 'DFGA_GT15FT_PG', 'DFGP_GT15FT_PG', 'DPCT_DIFF_GT15FT_PG'])\n",
    "df_odefgt15 = ConvertDataFrame(df_odefgt15)\n",
    "\n",
    "# Defense at the rim\n",
    "#https://stats.nba.com/players/defensive-impact/?Season=2014-15&SeasonType=Regular%20Season\n",
    "urls = [ \"https://stats.nba.com/players/defensive-impact/?Season=20{0}-{1}&SeasonType=Regular%20Season\".format(ya[i], yb[i]) for i in range(len(ya)) ]\n",
    "np_arr_defrim = FetchStatsTables(urls, years, [0,9,10,11])\n",
    "df_defrim = pd.DataFrame(np_arr_defrim, columns=['name', 'year', 'DFGM_RIM_PG', 'DFGA_RIM_PG', 'DFGP_RIM_PG'])\n",
    "df_defrim = ConvertDataFrame(df_defrim)"
   ]
  },
  {
   "cell_type": "markdown",
   "metadata": {},
   "source": [
    "# Scrape Player Passing and Assist Stats"
   ]
  },
  {
   "cell_type": "code",
   "execution_count": 67,
   "metadata": {},
   "outputs": [
    {
     "name": "stdout",
     "output_type": "stream",
     "text": [
      "Fetching player stats from the 2018 season...\n",
      "Fetched stats for 540 NBA players.\n",
      "Fetching player stats from the 2019 season...\n",
      "Fetched stats for 530 NBA players.\n",
      "Fetching player stats from the 2020 season...\n",
      "Fetched stats for 482 NBA players.\n"
     ]
    }
   ],
   "source": [
    "# Passing\n",
    "#https://stats.nba.com/players/passing/?Season=2014-15&SeasonType=Regular%20Season\n",
    "urls = [ \"https://stats.nba.com/players/passing/?Season=20{0}-{1}&SeasonType=Regular%20Season\".format(ya[i], yb[i]) for i in range(len(ya)) ]\n",
    "np_arr_pass = FetchStatsTables(urls, years, [0,6,7,9,10,11,12,13,14])\n",
    "df_pass = pd.DataFrame(np_arr_pass, columns=['name', 'year', 'PASS_MADE_PG', 'PASS_REC_PG', 'SEC_AST_PG', 'POT_AST_PG', 'AST_PTS_PG', 'AST_ADJ_PG', 'AST_TO_PASS_PERC', 'AST_TO_PASS_ADJ_PERC'])\n",
    "df_pass = ConvertDataFrame(df_pass)\n"
   ]
  },
  {
   "cell_type": "markdown",
   "metadata": {},
   "source": [
    "# Scrape Player Rebounding Stats"
   ]
  },
  {
   "cell_type": "code",
   "execution_count": 50,
   "metadata": {},
   "outputs": [
    {
     "name": "stdout",
     "output_type": "stream",
     "text": [
      "Fetching player stats from the 2015 season...\n",
      "Fetched stats for 492 NBA players.\n",
      "Fetching player stats from the 2016 season...\n",
      "Fetched stats for 476 NBA players.\n",
      "Fetching player stats from the 2017 season...\n",
      "Fetched stats for 486 NBA players.\n",
      "Fetching player stats from the 2018 season...\n",
      "Fetched stats for 540 NBA players.\n",
      "Fetching player stats from the 2019 season...\n",
      "Fetched stats for 530 NBA players.\n",
      "Fetching player stats from the 2020 season...\n",
      "Fetched stats for 477 NBA players.\n"
     ]
    }
   ],
   "source": [
    "# Rebounds\n",
    "#https://stats.nba.com/players/rebounding/?Season=2014-15&SeasonType=Regular%20Season\n",
    "urls = [ \"https://stats.nba.com/players/rebounding/?Season=20{0}-{1}&SeasonType=Regular%20Season\".format(ya[i], yb[i]) for i in range(len(ya)) ]\n",
    "np_arr_rebdet = FetchStatsTables(urls, years, [0,7,8,9,10,11,12,13])\n",
    "df_rebdet = pd.DataFrame(np_arr_rebdet, columns=['name', 'year', 'CONT_REB_PG', 'CONT_REB_PERC', 'REB_CHANCES_PG', 'REB_CHANCE_PERC', 'DEF_REB_CHANCES', 'ADJ_REB_CHANCE_PERC', 'AVG_REB_DIST'])\n",
    "df_rebdet = ConvertDataFrame(df_rebdet)\n"
   ]
  },
  {
   "cell_type": "markdown",
   "metadata": {},
   "source": [
    "# Scrape Player Box-Out Stats"
   ]
  },
  {
   "cell_type": "code",
   "execution_count": 68,
   "metadata": {
    "scrolled": true
   },
   "outputs": [
    {
     "name": "stdout",
     "output_type": "stream",
     "text": [
      "Fetching player stats from the 2018 season...\n",
      "Fetched stats for 540 NBA players.\n",
      "Fetching player stats from the 2019 season...\n",
      "Fetched stats for 530 NBA players.\n",
      "Fetching player stats from the 2020 season...\n",
      "Fetched stats for 482 NBA players.\n"
     ]
    }
   ],
   "source": [
    "# Establish the years for which we want to fetch player data\n",
    "# (for data available for 2016-17 onward)\n",
    "ya = [str(n).zfill(2) for n in range(17, 20)]\n",
    "yb = [str(n).zfill(2) for n in range(18, 21)]\n",
    "years = [int(\"20\"+y) for y in yb]\n",
    "\n",
    "# Box-outs\n",
    "#https://stats.nba.com/players/box-outs/?Season=2017-18&SeasonType=Regular%20Season&PerMode=Per36\n",
    "urls = [ \"https://stats.nba.com/players/box-outs/?Season=20{0}-{1}&SeasonType=Regular%20Season&PerMode=Per36\".format(ya[i], yb[i]) for i in range(len(ya)) ]\n",
    "np_arr_boxout = FetchStatsTables(urls, years, [0,5,6,7,8,9,10,11,12,13])\n",
    "df_boxout = pd.DataFrame(np_arr_boxout, columns=['name', 'year', 'BOX_OUTS_PT', 'OFF_BO_PT', 'DEF_BO_PT', 'TEAM_REB_BO_PT', 'PLAYER_REB_BO_PT', 'OFF_BO_PERC', 'DEF_BO_PERC', 'TEAM_REB_PERC_BO', 'PLAYER_REB_PERC_BO'])\n",
    "df_boxout = ConvertDataFrame(df_boxout)\n"
   ]
  },
  {
   "cell_type": "markdown",
   "metadata": {},
   "source": [
    "# Scrape Player Hustle Stats"
   ]
  },
  {
   "cell_type": "code",
   "execution_count": 52,
   "metadata": {
    "scrolled": false
   },
   "outputs": [
    {
     "name": "stdout",
     "output_type": "stream",
     "text": [
      "Fetching player stats from the 2017 season...\n",
      "Fetched stats for 486 NBA players.\n",
      "Fetching player stats from the 2018 season...\n",
      "Fetched stats for 540 NBA players.\n",
      "Fetching player stats from the 2019 season...\n",
      "Fetched stats for 530 NBA players.\n",
      "Fetching player stats from the 2020 season...\n",
      "Fetched stats for 480 NBA players.\n",
      "                name  year  SCREEN_AST_PT  SCREEN_AST_PTS_PT  DEFL_PT  \\\n",
      "0         AJ Hammons  2017            4.9               11.3      1.1   \n",
      "1       Aaron Brooks  2017            0.6                1.4      2.0   \n",
      "2       Aaron Brooks  2018            0.2                0.4      1.9   \n",
      "3       Aaron Gordon  2017            0.6                1.4      1.8   \n",
      "4       Aaron Gordon  2018            1.0                2.1      1.5   \n",
      "...              ...   ...            ...                ...      ...   \n",
      "2031   Zaza Pachulia  2019            5.6               12.8      2.9   \n",
      "2032    Zhaire Smith  2019            0.3                0.6      1.3   \n",
      "2033         Zhou Qi  2018            1.7                4.4      2.3   \n",
      "2034         Zhou Qi  2019            0.0                0.0      0.0   \n",
      "2035  Zylan Cheatham  2020            3.6                9.0      0.0   \n",
      "\n",
      "      OFF_LB_RECOV_PT  DEF_LB_RECOV_PT  LB_RECOV_PT  PERC_OFF_LB_RECOV_PT  \\\n",
      "0                 0.0              0.0          0.4                   0.0   \n",
      "1                 0.0              0.0          0.8                   0.0   \n",
      "2                 0.8              0.6          1.3                  57.1   \n",
      "3                 0.0              0.0          0.9                   0.0   \n",
      "4                 0.6              0.8          1.3                  42.9   \n",
      "...               ...              ...          ...                   ...   \n",
      "2031              0.5              0.5          1.0                  48.0   \n",
      "2032              0.3              0.3          0.6                  50.0   \n",
      "2033              0.0              0.6          0.6                   0.0   \n",
      "2034              0.0              0.0          0.0                   0.0   \n",
      "2035              0.0              0.0          0.0                   0.0   \n",
      "\n",
      "      PERC_DEF_LB_RECOV_PT  CHARGE_DRAWN_PT  CONTESTS_2PT_PT  CONTESTS_3PT_PT  \\\n",
      "0                      0.0              0.0              9.7              1.8   \n",
      "1                      0.0              0.3              4.1              4.1   \n",
      "2                     42.9              0.2              3.6              5.7   \n",
      "3                      0.0              0.1              5.0              2.8   \n",
      "4                     57.1              0.1              5.1              1.9   \n",
      "...                    ...              ...              ...              ...   \n",
      "2031                  52.0              0.2              9.3              3.1   \n",
      "2032                  50.0              0.0              6.2              2.6   \n",
      "2033                 100.0              0.0             13.1              4.1   \n",
      "2034                   0.0              0.0              0.0              0.0   \n",
      "2035                   0.0              0.0             10.8              3.6   \n",
      "\n",
      "      CONTESTS_PT  \n",
      "0            11.5  \n",
      "1             8.1  \n",
      "2             9.3  \n",
      "3             7.7  \n",
      "4             7.1  \n",
      "...           ...  \n",
      "2031         12.5  \n",
      "2032          8.8  \n",
      "2033         17.1  \n",
      "2034          0.0  \n",
      "2035         14.4  \n",
      "\n",
      "[2036 rows x 14 columns]\n"
     ]
    }
   ],
   "source": [
    "# Establish the years for which we want to fetch player data\n",
    "# (for data available for 2016-17 onward)\n",
    "ya = [str(n).zfill(2) for n in range(16, 20)]\n",
    "yb = [str(n).zfill(2) for n in range(17, 21)]\n",
    "years = [int(\"20\"+y) for y in yb]\n",
    "\n",
    "# Create URLs for the available years of NBA.com hustle stats data (per 36 minutes), \n",
    "# fetch the data in 2D array format, and put into a Pandas dataframe\n",
    "urls = [ \"https://stats.nba.com/players/hustle/?Season=20{0}-{1}&SeasonType=Regular%20Season&PerMode=Per36&sort=PLAYER_NAME&dir=-1\".format(ya[i], yb[i]) for i in range(len(ya)) ]\n",
    "np_arr_hustle = FetchStatsTables(urls, years, [0,5,6,7,8,9,10,11,12,13,14,15,16])\n",
    "df_hustle = pd.DataFrame(np_arr_hustle, columns=['name', 'year', 'SCREEN_AST_PT', 'SCREEN_AST_PTS_PT', 'DEFL_PT', 'OFF_LB_RECOV_PT', 'DEF_LB_RECOV_PT', 'LB_RECOV_PT', 'PERC_OFF_LB_RECOV_PT', 'PERC_DEF_LB_RECOV_PT', 'CHARGE_DRAWN_PT', 'CONTESTS_2PT_PT', 'CONTESTS_3PT_PT', 'CONTESTS_PT'])\n",
    "df_hustle = ConvertDataFrame(df_hustle)\n",
    "print(df_hustle)\n"
   ]
  },
  {
   "cell_type": "markdown",
   "metadata": {},
   "source": [
    "# Merge and Store Dataframes for All Player Stats"
   ]
  },
  {
   "cell_type": "code",
   "execution_count": 109,
   "metadata": {},
   "outputs": [],
   "source": [
    "# Perform an outer merge of all dataframes, since we would like to \n",
    "# keep all information up front, regardless of year/season\n",
    "\n",
    "df = pd.merge(df_basic, df_basic2, on=['name', 'year'], how='outer')\n",
    "df = pd.merge(df, df_adv, on=['name', 'year'], how='outer')\n",
    "df = pd.merge(df, df_def, on=['name', 'year'], how='outer')\n",
    "df = pd.merge(df, df_def2, on=['name', 'year'], how='outer')\n",
    "df = pd.merge(df, df_usg, on=['name', 'year'], how='outer')\n",
    "df = pd.merge(df, df_misc, on=['name', 'year'], how='outer')\n",
    "df = pd.merge(df, df_misc2, on=['name', 'year'], how='outer')\n",
    "df = pd.merge(df, df_dist, on=['name', 'year'], how='outer')\n",
    "\n",
    "###########################################\n",
    "# Field goals by distance\n",
    "\n",
    "# Close range (5 ft)\n",
    "# Farther range (8 ft)\n",
    "# By zone\n",
    "\n",
    "# Opponent field goals by distance\n",
    "\n",
    "# Close range (5 ft)\n",
    "# Farther range (8 ft)\n",
    "# By zone\n",
    "\n",
    "# Shots by distance to closest defender\n",
    "\n",
    "# Very tight (0-2 ft)\n",
    "# Tight (2-4 ft)\n",
    "# Open (4-6 ft)\n",
    "# Wide open (6+ ft)\n",
    "\n",
    "# Shots based on # dribbles\n",
    "# 0 dribbles\n",
    "# 1\n",
    "# 2\n",
    "# 3-6\n",
    "# 7+\n",
    "    \n",
    "# Catch and shoot\n",
    "    \n",
    "# Drives\n",
    "    \n",
    "# Shooting efficiency (by shot type)\n",
    "\n",
    "# Player defense\n",
    "\n",
    "# Overall\n",
    "# 2 pt.\n",
    "# 3 pt.\n",
    "# Defense at the rim\n",
    "\n",
    "# < 6 ft.\n",
    "# < 10 ft.    \n",
    "# > 15 ft.\n",
    "\n",
    "# Passing\n",
    "    \n",
    "# Rebounds\n",
    "\n",
    "# Box-outs\n",
    "df = pd.merge(df, df_fg5ft, on=['name', 'year'], how='outer')\n",
    "df = pd.merge(df, df_fg8ft, on=['name', 'year'], how='outer')\n",
    "df = pd.merge(df, df_fgzone, on=['name', 'year'], how='outer')\n",
    "df = pd.merge(df, df_ofg5ft, on=['name', 'year'], how='outer')\n",
    "df = pd.merge(df, df_ofg8ft, on=['name', 'year'], how='outer')\n",
    "df = pd.merge(df, df_ofgzone, on=['name', 'year'], how='outer')\n",
    "df = pd.merge(df, df_vtdef, on=['name', 'year'], how='outer')\n",
    "df = pd.merge(df, df_tdef, on=['name', 'year'], how='outer')\n",
    "df = pd.merge(df, df_opendef, on=['name', 'year'], how='outer')\n",
    "df = pd.merge(df, df_wodef, on=['name', 'year'], how='outer')\n",
    "df = pd.merge(df, df_0drib, on=['name', 'year'], how='outer')\n",
    "df = pd.merge(df, df_1drib, on=['name', 'year'], how='outer')\n",
    "df = pd.merge(df, df_2drib, on=['name', 'year'], how='outer')\n",
    "df = pd.merge(df, df_3drib, on=['name', 'year'], how='outer')\n",
    "df = pd.merge(df, df_7drib, on=['name', 'year'], how='outer')\n",
    "df = pd.merge(df, df_cands, on=['name', 'year'], how='outer')\n",
    "df = pd.merge(df, df_drives, on=['name', 'year'], how='outer')\n",
    "df = pd.merge(df, df_shots, on=['name', 'year'], how='outer')\n",
    "df = pd.merge(df, df_odef, on=['name', 'year'], how='outer')\n",
    "df = pd.merge(df, df_2ptdef, on=['name', 'year'], how='outer')\n",
    "df = pd.merge(df, df_3ptdef, on=['name', 'year'], how='outer')\n",
    "df = pd.merge(df, df_defrim, on=['name', 'year'], how='outer')\n",
    "df = pd.merge(df, df_odeflt6, on=['name', 'year'], how='outer')\n",
    "df = pd.merge(df, df_odeflt10, on=['name', 'year'], how='outer')\n",
    "df = pd.merge(df, df_odefgt15, on=['name', 'year'], how='outer')\n",
    "df = pd.merge(df, df_pass, on=['name', 'year'], how='outer')\n",
    "df = pd.merge(df, df_rebdet, on=['name', 'year'], how='outer')\n",
    "df = pd.merge(df, df_boxout, on=['name', 'year'], how='outer')\n",
    "\n",
    "###########################################\n",
    "df = pd.merge(df, df_hustle, on=['name', 'year'], how='outer')\n",
    "\n",
    "# Scale percentage quantities to be in range 0-1 (for convenience)\n",
    "perc_cols = [col for col in df.columns if 'FGP' in col or '3PP' in col or 'FTP' in col or 'PERC' in col or 'PCT' in col or 'FREQ' in col]\n",
    "df[perc_cols] = df[perc_cols].astype(float)/100.\n",
    "\n"
   ]
  },
  {
   "cell_type": "code",
   "execution_count": 110,
   "metadata": {
    "scrolled": false
   },
   "outputs": [
    {
     "name": "stdout",
     "output_type": "stream",
     "text": [
      "                    name  year   age     W     L  PTS_PT  FGM_PT  FGA_PT  \\\n",
      "0             AJ Hammons  2017  24.0   4.0  18.0    10.6     3.7     9.3   \n",
      "1               AJ Price  2015  28.0  11.0  15.0    14.8     5.7    15.2   \n",
      "2           Aaron Brooks  2015  30.0  50.0  32.0    18.2     6.6    15.6   \n",
      "3           Aaron Brooks  2016  31.0  36.0  33.0    16.0     6.1    15.2   \n",
      "4           Aaron Brooks  2017  32.0  36.0  29.0    13.0     4.9    12.1   \n",
      "...                  ...   ...   ...   ...   ...     ...     ...     ...   \n",
      "3003             Zhou Qi  2019  23.0   0.0   1.0    75.4    37.7    37.7   \n",
      "3004        Zoran Dragic  2015  26.0   6.0  10.0    13.4     5.3    14.4   \n",
      "3005      Zylan Cheatham  2020  24.0   1.0   1.0     3.6     1.8     7.3   \n",
      "3006  Antonius Cleveland  2020   NaN   NaN   NaN     NaN     NaN     NaN   \n",
      "3007            Kyle Guy  2020   NaN   NaN   NaN     NaN     NaN     NaN   \n",
      "\n",
      "      FGP_PT  3PM_PT  ...  DEFL_PT  OFF_LB_RECOV_PT  DEF_LB_RECOV_PT  \\\n",
      "0      0.405     1.1  ...      1.1              0.0              0.0   \n",
      "1      0.372     1.7  ...      NaN              NaN              NaN   \n",
      "2      0.421     2.3  ...      NaN              NaN              NaN   \n",
      "3      0.401     2.1  ...      NaN              NaN              NaN   \n",
      "4      0.403     1.9  ...      2.0              0.0              0.0   \n",
      "...      ...     ...  ...      ...              ...              ...   \n",
      "3003   1.000     0.0  ...      0.0              0.0              0.0   \n",
      "3004   0.367     1.4  ...      NaN              NaN              NaN   \n",
      "3005   0.250     0.0  ...      0.0              0.0              0.0   \n",
      "3006     NaN     NaN  ...      NaN              NaN              NaN   \n",
      "3007     NaN     NaN  ...      NaN              NaN              NaN   \n",
      "\n",
      "      LB_RECOV_PT  PERC_OFF_LB_RECOV_PT  PERC_DEF_LB_RECOV_PT  \\\n",
      "0             0.4                   0.0                   0.0   \n",
      "1             NaN                   NaN                   NaN   \n",
      "2             NaN                   NaN                   NaN   \n",
      "3             NaN                   NaN                   NaN   \n",
      "4             0.8                   0.0                   0.0   \n",
      "...           ...                   ...                   ...   \n",
      "3003          0.0                   0.0                   0.0   \n",
      "3004          NaN                   NaN                   NaN   \n",
      "3005          0.0                   0.0                   0.0   \n",
      "3006          NaN                   NaN                   NaN   \n",
      "3007          NaN                   NaN                   NaN   \n",
      "\n",
      "      CHARGE_DRAWN_PT  CONTESTS_2PT_PT  CONTESTS_3PT_PT  CONTESTS_PT  \n",
      "0                 0.0              9.7              1.8         11.5  \n",
      "1                 NaN              NaN              NaN          NaN  \n",
      "2                 NaN              NaN              NaN          NaN  \n",
      "3                 NaN              NaN              NaN          NaN  \n",
      "4                 0.3              4.1              4.1          8.1  \n",
      "...               ...              ...              ...          ...  \n",
      "3003              0.0              0.0              0.0          0.0  \n",
      "3004              NaN              NaN              NaN          NaN  \n",
      "3005              0.0             10.8              3.6         14.4  \n",
      "3006              NaN              NaN              NaN          NaN  \n",
      "3007              NaN              NaN              NaN          NaN  \n",
      "\n",
      "[3008 rows x 409 columns]\n"
     ]
    }
   ],
   "source": [
    "#df = df.fillna(0)\n",
    "df.to_csv(\"NBAAdvancedStats.csv\")\n",
    "print(df)"
   ]
  },
  {
   "cell_type": "code",
   "execution_count": 2,
   "metadata": {},
   "outputs": [],
   "source": [
    "#pd.reset_option('display.max_columns')\n",
    "#pd.reset_option('display.max_rows')"
   ]
  },
  {
   "cell_type": "code",
   "execution_count": 1,
   "metadata": {
    "scrolled": false
   },
   "outputs": [],
   "source": [
    "#pd.options.display.max_columns = None\n",
    "#pd.options.display.max_rows = None\n",
    "#df.columns.tolist()\n"
   ]
  },
  {
   "cell_type": "code",
   "execution_count": null,
   "metadata": {},
   "outputs": [],
   "source": []
  }
 ],
 "metadata": {
  "kernelspec": {
   "display_name": "Python 3",
   "language": "python",
   "name": "python3"
  },
  "language_info": {
   "codemirror_mode": {
    "name": "ipython",
    "version": 3
   },
   "file_extension": ".py",
   "mimetype": "text/x-python",
   "name": "python",
   "nbconvert_exporter": "python",
   "pygments_lexer": "ipython3",
   "version": "3.7.3"
  },
  "toc": {
   "base_numbering": 1,
   "nav_menu": {},
   "number_sections": true,
   "sideBar": true,
   "skip_h1_title": false,
   "title_cell": "Table of Contents",
   "title_sidebar": "Contents",
   "toc_cell": true,
   "toc_position": {
    "height": "calc(100% - 180px)",
    "left": "10px",
    "top": "150px",
    "width": "165px"
   },
   "toc_section_display": true,
   "toc_window_display": true
  }
 },
 "nbformat": 4,
 "nbformat_minor": 2
}
